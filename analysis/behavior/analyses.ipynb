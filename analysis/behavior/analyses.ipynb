{
 "cells": [
  {
   "cell_type": "code",
   "execution_count": 1,
   "metadata": {
    "cellView": "form",
    "colab": {
     "base_uri": "https://localhost:8080/"
    },
    "executionInfo": {
     "elapsed": 226186,
     "status": "ok",
     "timestamp": 1653665477379,
     "user": {
      "displayName": "Nathaniel Nyema",
      "userId": "16953574955941144316"
     },
     "user_tz": 240
    },
    "id": "2LNaADaeduZ9",
    "outputId": "0b90d26f-edb2-425c-ae0a-fe8224411858",
    "tags": []
   },
   "outputs": [],
   "source": [
    "import os\n",
    "# set the appropriate path to whichever R installation we'd like to use\n",
    "os.environ['R_HOME'] = '/Users/nathanielnyema/opt/anaconda3/envs/fnc/lib/R'\n",
    "import rpy2\n",
    "from fnc_analysis import *\n",
    "from scipy import stats as st\n",
    "from statsmodels.stats.multitest import multipletests\n",
    "from patsy import dmatrices\n",
    "from statsmodels.stats.outliers_influence import variance_inflation_factor\n",
    "import pingouin as pg\n",
    "from pathlib import Path\n",
    "%load_ext autoreload\n",
    "%autoreload 2\n",
    "%load_ext rpy2.ipython"
   ]
  },
  {
   "cell_type": "code",
   "execution_count": 2,
   "metadata": {},
   "outputs": [
    {
     "name": "stderr",
     "output_type": "stream",
     "text": [
      "R[write to console]: Loading required package: Matrix\n",
      "\n",
      "R[write to console]: \n",
      "Attaching package: ‘lmerTest’\n",
      "\n",
      "\n",
      "R[write to console]: The following object is masked from ‘package:lme4’:\n",
      "\n",
      "    lmer\n",
      "\n",
      "\n",
      "R[write to console]: The following object is masked from ‘package:stats’:\n",
      "\n",
      "    step\n",
      "\n",
      "\n",
      "R[write to console]: \n",
      "Attaching package: ‘rstatix’\n",
      "\n",
      "\n",
      "R[write to console]: The following object is masked from ‘package:stats’:\n",
      "\n",
      "    filter\n",
      "\n",
      "\n"
     ]
    }
   ],
   "source": [
    "%%R\n",
    "library(lme4)\n",
    "library(lmerTest)\n",
    "library(splines)\n",
    "library(rstatix)"
   ]
  },
  {
   "cell_type": "code",
   "execution_count": 3,
   "metadata": {
    "cellView": "form",
    "executionInfo": {
     "elapsed": 5,
     "status": "ok",
     "timestamp": 1653625544248,
     "user": {
      "displayName": "Nathaniel Nyema",
      "userId": "16953574955941144316"
     },
     "user_tz": 240
    },
    "id": "bZn3TS_crEod",
    "tags": []
   },
   "outputs": [],
   "source": [
    "# figure settings\n",
    "mpl.rcParams['font.family'] = 'sans-serif'\n",
    "mpl.rcParams['font.sans-serif'] = 'Arial'\n",
    "mpl.rcParams['svg.fonttype']='none'\n",
    "mpl.rcParams['font.size']= 8\n",
    "\n",
    "\n",
    "fig_save_loc = Path('figures')\n",
    "stat_save_loc = Path('stats/raw')\n",
    "os.makedirs(fig_save_loc/'pdfs', exist_ok=True) \n",
    "os.makedirs(fig_save_loc/'svgs', exist_ok=True) \n",
    "os.makedirs(stat_save_loc, exist_ok=True) \n",
    "ctl_col = '#D4D4D4'\n",
    "stim_col = '#06e1e9'"
   ]
  },
  {
   "cell_type": "code",
   "execution_count": 4,
   "metadata": {
    "cellView": "form",
    "executionInfo": {
     "elapsed": 8942,
     "status": "ok",
     "timestamp": 1653625553186,
     "user": {
      "displayName": "Nathaniel Nyema",
      "userId": "16953574955941144316"
     },
     "user_tz": 240
    },
    "id": "neV4ws60gaxG",
    "tags": []
   },
   "outputs": [],
   "source": [
    "# load tidy data and subset dataframes for later use\n",
    "data_dir = \"../../data/behavior\"\n",
    "\n",
    "#load unlimited intake\n",
    "df = load_data(os.path.join(data_dir,'pre_processed/unlimited_intake/total_licks_normal_intake.csv'))\n",
    "dft = load_data(os.path.join(data_dir,'pre_processed/unlimited_intake/lick_times_normal_intake.csv'))\n",
    "\n",
    "#load limited intake\n",
    "df_ltd = load_data(os.path.join(data_dir,'pre_processed/limited_intake/total_licks_limited_intake.csv'))\n",
    "dft_ltd = load_data(os.path.join(data_dir,'pre_processed/limited_intake/lick_times_limited_intake.csv'))\n",
    "\n",
    "#load extinction\n",
    "df_ex = load_data(os.path.join(data_dir,'pre_processed/extinction3/total_licks_extinction3.csv'))\n",
    "dft_ex = load_data(os.path.join(data_dir,'pre_processed/extinction3/lick_times_extinction3.csv'))\n",
    "\n",
    "#load extinction pt2\n",
    "df_ex2 = load_data(os.path.join(data_dir,'pre_processed/extinction4/total_licks_extinction4.csv'))\n",
    "dft_ex2 = load_data(os.path.join(data_dir,'pre_processed/extinction4/lick_times_extinction4.csv'))\n",
    "\n",
    "\n",
    "#select glucose data\n",
    "#unlimited intake\n",
    "df_test_g = subset_df(df, 'glucose', 'test')\n",
    "dft_test_g = subset_df(dft, 'glucose', 'test')\n",
    "\n",
    "df_train_g = subset_df(df, 'glucose', 'training')\n",
    "dft_train_g = subset_df(dft, 'glucose', 'training')\n",
    "\n",
    "\n",
    "#limited intake\n",
    "df_test_g_ltd = subset_df(df_ltd, 'glucose', 'test')\n",
    "dft_test_g_ltd = subset_df(dft_ltd, 'glucose', 'test')\n",
    "\n",
    "df_train_g_ltd = subset_df(df_ltd, 'glucose', 'training')\n",
    "dft_train_g_ltd = subset_df(dft_ltd, 'glucose', 'training')\n",
    "\n",
    "\n",
    "#extinction\n",
    "df_test_g_ex = subset_df(df_ex, 'glucose', 'test') \n",
    "dft_test_g_ex = subset_df(dft_ex, 'glucose', 'test') \n",
    "\n",
    "df_train_g_ex = subset_df(df_ex, 'glucose', 'training') \n",
    "dft_train_g_ex = subset_df(dft_ex, 'glucose', 'training') \n",
    "\n",
    "#extinction 2\n",
    "df_test_g_ex2 = subset_df(df_ex2, 'glucose', 'test')\n",
    "dft_test_g_ex2 = subset_df(dft_ex2, 'glucose', 'test')\n",
    "\n",
    "df_train_g_ex2 = subset_df(df_ex2, 'glucose', 'training')\n",
    "dft_train_g_ex2 = subset_df(dft_ex2, 'glucose', 'training')\n",
    "\n",
    "#combine\n",
    "df_test_g_ltd_cohort = pd.concat({0: df_test_g_ltd, \n",
    "                                  1: df_test_g_ex.loc[:,:,:1], \n",
    "                                  2: df_test_g_ex2.loc[:,:,:1]}, \n",
    "                                 names=['cohort'])\n",
    "df_test_g_ltd = df_test_g_ltd_cohort.droplevel('cohort').sort_index()\n",
    "\n",
    "dft_test_g_ltd_cohort = pd.concat({0: dft_test_g_ltd, \n",
    "                                   1: dft_test_g_ex.loc[:,:,:1], \n",
    "                                   2: dft_test_g_ex2.loc[:,:,:1]}, \n",
    "                                  names=['cohort'])\n",
    "dft_test_g_ltd = dft_test_g_ltd_cohort.droplevel('cohort')\n",
    "\n",
    "\n",
    "df_train_g_ltd_cohort = pd.concat({0: df_train_g_ltd, \n",
    "                                   1: df_train_g_ex, \n",
    "                                   2: df_train_g_ex2}, \n",
    "                                  names=['cohort'])\n",
    "df_train_g_ltd = df_train_g_ltd_cohort.droplevel('cohort')\n",
    "\n",
    "\n",
    "dft_train_g_ltd_cohort = pd.concat({0: dft_train_g_ltd, \n",
    "                                    1: dft_train_g_ex, \n",
    "                                    2: dft_train_g_ex2}, \n",
    "                                   names=['cohort'])\n",
    "dft_train_g_ltd = dft_train_g_ltd_cohort.droplevel('cohort').sort_index()"
   ]
  },
  {
   "cell_type": "markdown",
   "metadata": {
    "jp-MarkdownHeadingCollapsed": true,
    "tags": []
   },
   "source": [
    "## Lickometer Validation"
   ]
  },
  {
   "cell_type": "code",
   "execution_count": 5,
   "metadata": {},
   "outputs": [
    {
     "data": {
      "image/png": "[encoded data removed]",
      "text/plain": [
       "<Figure size 640x480 with 1 Axes>"
      ]
     },
     "metadata": {},
     "output_type": "display_data"
    }
   ],
   "source": [
    "#compute ilis\n",
    "ilis = dft_train_g.time.groupby(['mouse','day','CS']).apply(lambda x: (x.iloc[1:] - x.iloc[:-1]).reset_index(drop=True))\n",
    "subs = ilis.loc[ilis<1]\n",
    "bins = np.linspace(0,1, 100)\n",
    "plt.hist(subs,bins, alpha = 0.5, density = True, color='r');\n",
    "plt.xlabel('Sub-Second ILIs accross training')\n",
    "plt.ylabel('Density')\n",
    "plt.title('Med Associates')\n",
    "plt.ylim(0,21)\n",
    "sns.despine()\n",
    "plt.savefig('figures/pdfs/ili_resolutin_benchmark_med.pdf')\n",
    "plt.savefig('figures/svgs/ili_resolutin_benchmark_med.svg')"
   ]
  },
  {
   "cell_type": "markdown",
   "metadata": {
    "id": "usmkzBsnjq8d",
    "tags": []
   },
   "source": [
    "## Figure 1 - unlimited intake, food deprived"
   ]
  },
  {
   "cell_type": "code",
   "execution_count": 6,
   "metadata": {
    "cellView": "form",
    "colab": {
     "base_uri": "https://localhost:8080/"
    },
    "executionInfo": {
     "elapsed": 138,
     "status": "ok",
     "timestamp": 1653434493347,
     "user": {
      "displayName": "Nathaniel Nyema",
      "userId": "16953574955941144316"
     },
     "user_tz": 240
    },
    "id": "_B8vpYLSWeVp",
    "outputId": "60d0d20a-4c7d-4836-dd68-c5660d23b75b"
   },
   "outputs": [
    {
     "name": "stdout",
     "output_type": "stream",
     "text": [
      "Glucose:\n",
      "Controls: n =  15\n",
      "Stim: n =  14\n"
     ]
    }
   ],
   "source": [
    "#@title general stats\n",
    "print(\"Glucose:\")\n",
    "print(\"Controls: n = \", df_test_g.loc[False,].index.get_level_values('mouse').unique().size)\n",
    "print(\"Stim: n = \",     df_test_g.loc[True, ].index.get_level_values('mouse').unique().size)"
   ]
  },
  {
   "cell_type": "markdown",
   "metadata": {},
   "source": [
    "### schematic"
   ]
  },
  {
   "cell_type": "code",
   "execution_count": 7,
   "metadata": {},
   "outputs": [
    {
     "data": {
      "image/png": "[encoded data removed]",
      "text/plain": [
       "<Figure size 300x300 with 2 Axes>"
      ]
     },
     "metadata": {},
     "output_type": "display_data"
    }
   ],
   "source": [
    "from scipy.special import expit\n",
    "x = np.linspace(-10,25,100)\n",
    "fig, ax = plt.subplots(2,1, figsize = (3,3))\n",
    "ax[0].plot(x, -expit(x-3) + expit((x-20)/1.5), c = ctl_col, lw = 2)\n",
    "ax[0].axvline(0, ls = '--', c = 'gray', lw = 1)\n",
    "ax[0].text(1,0.1,r'$t_{20}$')\n",
    "\n",
    "ax[0].set(ylim = (-1.1,.2),\n",
    "          xticks = [], yticks = [],\n",
    "          ylabel = r'$\\frac{\\Delta F}{F}$',\n",
    "          title = \"Control\")\n",
    "ax[1].plot(x, [0]*x.size,  c= stim_col, lw = 2)\n",
    "ax[1].axvline(0, ls = '--', c = 'gray', lw = 1)\n",
    "ax[1].text(1,0.1,r'$t_{20}$')\n",
    "\n",
    "ax[1].set(ylim = ax[0].get_ylim(),\n",
    "          xticks = [], yticks = [],\n",
    "          xlabel = 'Time', \n",
    "          ylabel = r'$\\frac{\\Delta F}{F}$',\n",
    "          title = \"AgRP Stim\")\n",
    "\n",
    "sns.despine()\n",
    "fig.tight_layout(pad = 2.)\n",
    "fig.savefig(fig_save_loc/'pdfs'/'fig1_schematic.pdf', transparent=True, bbox_inches='tight')\n",
    "fig.savefig(fig_save_loc/'svgs'/'fig1_schematic.svg', transparent=True, bbox_inches='tight')"
   ]
  },
  {
   "cell_type": "markdown",
   "metadata": {
    "tags": []
   },
   "source": [
    "### validating feeding for normal intake cohort"
   ]
  },
  {
   "cell_type": "code",
   "execution_count": 8,
   "metadata": {},
   "outputs": [
    {
     "data": {
      "image/png": "[encoded data removed]",
      "text/plain": [
       "<Figure size 150x300 with 1 Axes>"
      ]
     },
     "metadata": {},
     "output_type": "display_data"
    }
   ],
   "source": [
    "normal_intake = (pd.read_csv(os.path.join(data_dir,\"raw_data/normal_intake/opto_validation.csv\"), index_col = 0)\n",
    "                   .stack()\n",
    "                   .reset_index()\n",
    "                   .rename(columns = {'Mouse ': 'mouse', \n",
    "                                      \"level_1\": 'stim', \n",
    "                                      0:'intake'})\n",
    "                   .set_index('mouse')\n",
    "                   .loc[df_test_g.loc[True,].index.get_level_values('mouse').unique()]\n",
    "                   .reset_index()\n",
    "                )\n",
    "\n",
    "_,ax = plt.subplots(1,1, figsize = (1.5,3))\n",
    "sns.barplot(data=normal_intake, x = 'stim', y = 'intake', saturation = 1,\n",
    "            errorbar = None, palette = [ctl_col, stim_col], ax = ax)\n",
    "sns.lineplot(normal_intake, x='stim', y='intake', hue='mouse', palette='dark:k', \n",
    "             alpha=0.3, marker = 'o', markeredgewidth=0, legend=False, lw=1, ms=4)\n",
    "\n",
    "normal_intake = normal_intake.set_index(['mouse','stim']).intake.unstack('stim')\n",
    "fint_stat = st.ttest_rel(normal_intake['no_stim '], normal_intake['stim'])\n",
    "\n",
    "plot_significance(fint_stat[1], ax=ax,x1=0,x2=1,yy=0.9, h=.025)\n",
    "\n",
    "for j in ax.get_yticklabels():\n",
    "    j.set_fontsize(6)\n",
    "\n",
    "sns.despine()\n",
    "plt.ylabel(\"Intake (g)\")\n",
    "plt.xticks([0,1], ['No Stim', 'Stim'])\n",
    "plt.xlabel(\"\")\n",
    "plt.savefig(\"figures/svgs/fig1_opto_feeding_val.svg\")\n",
    "plt.savefig(\"figures/pdfs/fig1_opto_feeding_val.pdf\")"
   ]
  },
  {
   "cell_type": "markdown",
   "metadata": {
    "tags": []
   },
   "source": [
    "#### stats"
   ]
  },
  {
   "cell_type": "code",
   "execution_count": 9,
   "metadata": {},
   "outputs": [],
   "source": [
    "fig1_stats = {}"
   ]
  },
  {
   "cell_type": "code",
   "execution_count": 10,
   "metadata": {},
   "outputs": [
    {
     "data": {
      "text/html": [
       "<div>\n",
       "<style scoped>\n",
       "    .dataframe tbody tr th:only-of-type {\n",
       "        vertical-align: middle;\n",
       "    }\n",
       "\n",
       "    .dataframe tbody tr th {\n",
       "        vertical-align: top;\n",
       "    }\n",
       "\n",
       "    .dataframe thead th {\n",
       "        text-align: right;\n",
       "    }\n",
       "</style>\n",
       "<table border=\"1\" class=\"dataframe\">\n",
       "  <thead>\n",
       "    <tr style=\"text-align: right;\">\n",
       "      <th></th>\n",
       "      <th>t</th>\n",
       "      <th>p-value</th>\n",
       "      <th>df</th>\n",
       "      <th>Significance</th>\n",
       "    </tr>\n",
       "  </thead>\n",
       "  <tbody>\n",
       "    <tr>\n",
       "      <th>t-test</th>\n",
       "      <td>-13.856584</td>\n",
       "      <td>3.656564e-09</td>\n",
       "      <td>13.0</td>\n",
       "      <td>****</td>\n",
       "    </tr>\n",
       "  </tbody>\n",
       "</table>\n",
       "</div>"
      ],
      "text/plain": [
       "                t       p-value    df Significance\n",
       "t-test -13.856584  3.656564e-09  13.0         ****"
      ]
     },
     "metadata": {},
     "output_type": "display_data"
    }
   ],
   "source": [
    "fint_stat = pd.Series(list(fint_stat) + [fint_stat.df], index = ('t', 'p-value', 'df')).rename('t-test').to_frame().T\n",
    "fint_stat['Significance'] = fint_stat['p-value'].apply(check_significance)\n",
    "display(fint_stat)\n",
    "\n",
    "fig1_stats.update({\"c_stim_food_intake_stats\": fint_stat})"
   ]
  },
  {
   "cell_type": "markdown",
   "metadata": {
    "id": "zIbudizzVURC",
    "tags": []
   },
   "source": [
    "### main plots"
   ]
  },
  {
   "cell_type": "code",
   "execution_count": 11,
   "metadata": {
    "colab": {
     "base_uri": "https://localhost:8080/",
     "height": 371
    },
    "executionInfo": {
     "elapsed": 2332,
     "status": "ok",
     "timestamp": 1653614085790,
     "user": {
      "displayName": "Nathaniel Nyema",
      "userId": "16953574955941144316"
     },
     "user_tz": 240
    },
    "id": "H37PZeMLijzh",
    "outputId": "83ce42f0-e4eb-4519-c50a-7defb4062f88"
   },
   "outputs": [
    {
     "data": {
      "image/png": "[encoded data removed]",
      "text/plain": [
       "<Figure size 650x325 with 3 Axes>"
      ]
     },
     "metadata": {},
     "output_type": "display_data"
    }
   ],
   "source": [
    "# create the subplot\n",
    "fig, ax = plt.subplots(1,3, figsize=(6.5,3.25))\n",
    "\n",
    "# get the average stim and control testing licks for CS+ vs CS- flavors\n",
    "normal_stim = average_test_data(df_test_g, Chr2=True)\n",
    "normal_ctl = average_test_data(df_test_g, Chr2=False)\n",
    "\n",
    "# plot average cs+ and cs- licks during testing\n",
    "_, stats_g = two_bottle_plot(normal_stim, normal_ctl, ax=ax[0], ms=2, lw=1)\n",
    "\n",
    "\n",
    "# plot total testing licks\n",
    "_, stats_g_tot = cumm_test_licks_plot(df_test_g.loc[True,],df_test_g.loc[False,],\n",
    "                                      palette = [stim_col, ctl_col], ax = ax[1], ms=2)\n",
    "\n",
    "# plot the preference indices\n",
    "_, pref_g, p_pref = two_bottle_pref_plot_vl(df_test_g.loc[True,], df_test_g.loc[False,] , \n",
    "                                            ax=ax[2], palette = [stim_col, ctl_col], ms=2);\n",
    "\n",
    "# ensure the limits on the y-axes are all the same\n",
    "for i in range(3):\n",
    "    for j in ax[i].get_yticklabels():\n",
    "        j.set_fontsize(6)\n",
    "\n",
    "fig.tight_layout(pad=3)\n",
    "\n",
    "#save the figure\n",
    "fig.savefig(fig_save_loc/'pdfs'/'fig1_plots.pdf', transparent=True, bbox_inches='tight')\n",
    "fig.savefig(fig_save_loc/'svgs'/'fig1_plots.svg', transparent=True, bbox_inches='tight')"
   ]
  },
  {
   "cell_type": "markdown",
   "metadata": {
    "id": "PnRIBhhrKItn",
    "tags": []
   },
   "source": [
    "#### stats"
   ]
  },
  {
   "cell_type": "markdown",
   "metadata": {
    "tags": []
   },
   "source": [
    "##### stats - glucose unlimited intake mean total licks during testing stats\n",
    "We will use a Mixed ANOVA to characterize the lick data followed by pairwise t-tests."
   ]
  },
  {
   "cell_type": "code",
   "execution_count": 12,
   "metadata": {},
   "outputs": [
    {
     "data": {
      "text/html": [
       "<div>\n",
       "<style scoped>\n",
       "    .dataframe tbody tr th:only-of-type {\n",
       "        vertical-align: middle;\n",
       "    }\n",
       "\n",
       "    .dataframe tbody tr th {\n",
       "        vertical-align: top;\n",
       "    }\n",
       "\n",
       "    .dataframe thead th {\n",
       "        text-align: right;\n",
       "    }\n",
       "</style>\n",
       "<table border=\"1\" class=\"dataframe\">\n",
       "  <thead>\n",
       "    <tr style=\"text-align: right;\">\n",
       "      <th></th>\n",
       "      <th></th>\n",
       "      <th>statistic</th>\n",
       "      <th>p-value</th>\n",
       "    </tr>\n",
       "    <tr>\n",
       "      <th>Chr2</th>\n",
       "      <th>CS</th>\n",
       "      <th></th>\n",
       "      <th></th>\n",
       "    </tr>\n",
       "  </thead>\n",
       "  <tbody>\n",
       "    <tr>\n",
       "      <th rowspan=\"2\" valign=\"top\">False</th>\n",
       "      <th>+</th>\n",
       "      <td>0.960600</td>\n",
       "      <td>0.702824</td>\n",
       "    </tr>\n",
       "    <tr>\n",
       "      <th>-</th>\n",
       "      <td>0.911952</td>\n",
       "      <td>0.145072</td>\n",
       "    </tr>\n",
       "    <tr>\n",
       "      <th rowspan=\"2\" valign=\"top\">True</th>\n",
       "      <th>+</th>\n",
       "      <td>0.962844</td>\n",
       "      <td>0.769512</td>\n",
       "    </tr>\n",
       "    <tr>\n",
       "      <th>-</th>\n",
       "      <td>0.941924</td>\n",
       "      <td>0.443534</td>\n",
       "    </tr>\n",
       "  </tbody>\n",
       "</table>\n",
       "</div>"
      ],
      "text/plain": [
       "          statistic   p-value\n",
       "Chr2  CS                     \n",
       "False +    0.960600  0.702824\n",
       "      -    0.911952  0.145072\n",
       "True  +    0.962844  0.769512\n",
       "      -    0.941924  0.443534"
      ]
     },
     "metadata": {},
     "output_type": "display_data"
    },
    {
     "data": {
      "text/html": [
       "<div>\n",
       "<style scoped>\n",
       "    .dataframe tbody tr th:only-of-type {\n",
       "        vertical-align: middle;\n",
       "    }\n",
       "\n",
       "    .dataframe tbody tr th {\n",
       "        vertical-align: top;\n",
       "    }\n",
       "\n",
       "    .dataframe thead th {\n",
       "        text-align: right;\n",
       "    }\n",
       "</style>\n",
       "<table border=\"1\" class=\"dataframe\">\n",
       "  <thead>\n",
       "    <tr style=\"text-align: right;\">\n",
       "      <th></th>\n",
       "      <th>statistic</th>\n",
       "      <th>p-value</th>\n",
       "    </tr>\n",
       "    <tr>\n",
       "      <th>CS</th>\n",
       "      <th></th>\n",
       "      <th></th>\n",
       "    </tr>\n",
       "  </thead>\n",
       "  <tbody>\n",
       "    <tr>\n",
       "      <th>+</th>\n",
       "      <td>0.059609</td>\n",
       "      <td>0.808960</td>\n",
       "    </tr>\n",
       "    <tr>\n",
       "      <th>-</th>\n",
       "      <td>4.216178</td>\n",
       "      <td>0.049844</td>\n",
       "    </tr>\n",
       "  </tbody>\n",
       "</table>\n",
       "</div>"
      ],
      "text/plain": [
       "    statistic   p-value\n",
       "CS                     \n",
       "+    0.059609  0.808960\n",
       "-    4.216178  0.049844"
      ]
     },
     "metadata": {},
     "output_type": "display_data"
    },
    {
     "data": {
      "text/html": [
       "<div>\n",
       "<style scoped>\n",
       "    .dataframe tbody tr th:only-of-type {\n",
       "        vertical-align: middle;\n",
       "    }\n",
       "\n",
       "    .dataframe tbody tr th {\n",
       "        vertical-align: top;\n",
       "    }\n",
       "\n",
       "    .dataframe thead th {\n",
       "        text-align: right;\n",
       "    }\n",
       "</style>\n",
       "<table border=\"1\" class=\"dataframe\">\n",
       "  <thead>\n",
       "    <tr style=\"text-align: right;\">\n",
       "      <th></th>\n",
       "      <th>Source</th>\n",
       "      <th>SS</th>\n",
       "      <th>DF1</th>\n",
       "      <th>DF2</th>\n",
       "      <th>MS</th>\n",
       "      <th>F</th>\n",
       "      <th>p-value</th>\n",
       "      <th>np2</th>\n",
       "      <th>eps</th>\n",
       "      <th>Significance</th>\n",
       "    </tr>\n",
       "  </thead>\n",
       "  <tbody>\n",
       "    <tr>\n",
       "      <th>0</th>\n",
       "      <td>Chr2</td>\n",
       "      <td>4.224532e+05</td>\n",
       "      <td>1</td>\n",
       "      <td>27</td>\n",
       "      <td>4.224532e+05</td>\n",
       "      <td>3.505980</td>\n",
       "      <td>7.201558e-02</td>\n",
       "      <td>0.114928</td>\n",
       "      <td>NaN</td>\n",
       "      <td>ns</td>\n",
       "    </tr>\n",
       "    <tr>\n",
       "      <th>1</th>\n",
       "      <td>CS</td>\n",
       "      <td>2.068247e+07</td>\n",
       "      <td>1</td>\n",
       "      <td>27</td>\n",
       "      <td>2.068247e+07</td>\n",
       "      <td>132.517874</td>\n",
       "      <td>6.382438e-12</td>\n",
       "      <td>0.830740</td>\n",
       "      <td>1.0</td>\n",
       "      <td>****</td>\n",
       "    </tr>\n",
       "    <tr>\n",
       "      <th>2</th>\n",
       "      <td>Interaction</td>\n",
       "      <td>1.041430e+06</td>\n",
       "      <td>1</td>\n",
       "      <td>27</td>\n",
       "      <td>1.041430e+06</td>\n",
       "      <td>6.672708</td>\n",
       "      <td>1.552742e-02</td>\n",
       "      <td>0.198164</td>\n",
       "      <td>NaN</td>\n",
       "      <td>*</td>\n",
       "    </tr>\n",
       "  </tbody>\n",
       "</table>\n",
       "</div>"
      ],
      "text/plain": [
       "        Source            SS  DF1  DF2            MS           F  \\\n",
       "0         Chr2  4.224532e+05    1   27  4.224532e+05    3.505980   \n",
       "1           CS  2.068247e+07    1   27  2.068247e+07  132.517874   \n",
       "2  Interaction  1.041430e+06    1   27  1.041430e+06    6.672708   \n",
       "\n",
       "        p-value       np2  eps Significance  \n",
       "0  7.201558e-02  0.114928  NaN           ns  \n",
       "1  6.382438e-12  0.830740  1.0         ****  \n",
       "2  1.552742e-02  0.198164  NaN            *  "
      ]
     },
     "metadata": {},
     "output_type": "display_data"
    },
    {
     "data": {
      "text/html": [
       "<div>\n",
       "<style scoped>\n",
       "    .dataframe tbody tr th:only-of-type {\n",
       "        vertical-align: middle;\n",
       "    }\n",
       "\n",
       "    .dataframe tbody tr th {\n",
       "        vertical-align: top;\n",
       "    }\n",
       "\n",
       "    .dataframe thead th {\n",
       "        text-align: right;\n",
       "    }\n",
       "</style>\n",
       "<table border=\"1\" class=\"dataframe\">\n",
       "  <thead>\n",
       "    <tr style=\"text-align: right;\">\n",
       "      <th></th>\n",
       "      <th>t</th>\n",
       "      <th>p-value</th>\n",
       "      <th>Corrected p-value</th>\n",
       "      <th>df</th>\n",
       "      <th>paired</th>\n",
       "      <th>Significance</th>\n",
       "    </tr>\n",
       "  </thead>\n",
       "  <tbody>\n",
       "    <tr>\n",
       "      <th>CS+ vs. CS- $AgRP^{Chr2}$</th>\n",
       "      <td>12.274082</td>\n",
       "      <td>1.593141e-08</td>\n",
       "      <td>6.372564e-08</td>\n",
       "      <td>13</td>\n",
       "      <td>True</td>\n",
       "      <td>****</td>\n",
       "    </tr>\n",
       "    <tr>\n",
       "      <th>CS+ vs. CS- $AgRP^{TdTomato}$</th>\n",
       "      <td>5.623017</td>\n",
       "      <td>6.284688e-05</td>\n",
       "      <td>1.885288e-04</td>\n",
       "      <td>14</td>\n",
       "      <td>True</td>\n",
       "      <td>***</td>\n",
       "    </tr>\n",
       "    <tr>\n",
       "      <th>CS+ $AgRP^{Chr2}$ vs. CS+ $AgRP^{TdTomato}$</th>\n",
       "      <td>2.327569</td>\n",
       "      <td>2.769079e-02</td>\n",
       "      <td>5.461479e-02</td>\n",
       "      <td>27</td>\n",
       "      <td>False</td>\n",
       "      <td>ns</td>\n",
       "    </tr>\n",
       "    <tr>\n",
       "      <th>CS- $AgRP^{Chr2}$ vs. CS- $AgRP^{TdTomato}$</th>\n",
       "      <td>-1.969110</td>\n",
       "      <td>6.255176e-02</td>\n",
       "      <td>6.255176e-02</td>\n",
       "      <td>27</td>\n",
       "      <td>False</td>\n",
       "      <td>ns</td>\n",
       "    </tr>\n",
       "  </tbody>\n",
       "</table>\n",
       "</div>"
      ],
      "text/plain": [
       "                                                     t       p-value  \\\n",
       "CS+ vs. CS- $AgRP^{Chr2}$                    12.274082  1.593141e-08   \n",
       "CS+ vs. CS- $AgRP^{TdTomato}$                 5.623017  6.284688e-05   \n",
       "CS+ $AgRP^{Chr2}$ vs. CS+ $AgRP^{TdTomato}$   2.327569  2.769079e-02   \n",
       "CS- $AgRP^{Chr2}$ vs. CS- $AgRP^{TdTomato}$  -1.969110  6.255176e-02   \n",
       "\n",
       "                                             Corrected p-value  df  paired  \\\n",
       "CS+ vs. CS- $AgRP^{Chr2}$                         6.372564e-08  13    True   \n",
       "CS+ vs. CS- $AgRP^{TdTomato}$                     1.885288e-04  14    True   \n",
       "CS+ $AgRP^{Chr2}$ vs. CS+ $AgRP^{TdTomato}$       5.461479e-02  27   False   \n",
       "CS- $AgRP^{Chr2}$ vs. CS- $AgRP^{TdTomato}$       6.255176e-02  27   False   \n",
       "\n",
       "                                            Significance  \n",
       "CS+ vs. CS- $AgRP^{Chr2}$                           ****  \n",
       "CS+ vs. CS- $AgRP^{TdTomato}$                        ***  \n",
       "CS+ $AgRP^{Chr2}$ vs. CS+ $AgRP^{TdTomato}$           ns  \n",
       "CS- $AgRP^{Chr2}$ vs. CS- $AgRP^{TdTomato}$           ns  "
      ]
     },
     "metadata": {},
     "output_type": "display_data"
    }
   ],
   "source": [
    "df = df_test_g.groupby(['Chr2','mouse','CS']).mean(numeric_only=True).reset_index()\n",
    "shapiro = (df.groupby(['Chr2','CS'])\n",
    "             .total_licks\n",
    "             .apply(lambda x: pd.Series(st.shapiro(x), index = ('statistic', 'p-value')))\n",
    "             .unstack()\n",
    "          )\n",
    "levene  = (df.groupby('CS')\n",
    "             .apply(lambda x: pd.Series(st.levene(x.loc[x.Chr2].total_licks, \n",
    "                                                  x.loc[~x.Chr2].total_licks), \n",
    "                                        index = ('statistic', 'p-value')))\n",
    "          )\n",
    "test_anova_g = pg.mixed_anova(data = df, within = 'CS', between = 'Chr2', \n",
    "                              dv = 'total_licks', subject = 'mouse')\n",
    "test_anova_g = test_anova_g.rename(columns = {'p-unc': 'p-value'})\n",
    "test_anova_g['Significance'] = test_anova_g['p-value'].apply(check_significance)\n",
    "stats_g = stats_g.rename(columns = {'statistic': 't', 'pvalue': 'p-value', 'pvalue_corr': 'Corrected p-value'})\n",
    "stats_g['Significance'] = stats_g['Corrected p-value'].apply(check_significance)\n",
    "\n",
    "display(shapiro, levene, test_anova_g , stats_g)\n",
    "fig1_stats.update({'e_test_anova_g'   : test_anova_g ,\n",
    "                   'e_test_posthoc_g' : stats_g})"
   ]
  },
  {
   "cell_type": "markdown",
   "metadata": {
    "jp-MarkdownHeadingCollapsed": true,
    "tags": []
   },
   "source": [
    "##### stats - stim v control cummulative test licks comparison"
   ]
  },
  {
   "cell_type": "code",
   "execution_count": 13,
   "metadata": {},
   "outputs": [
    {
     "name": "stdout",
     "output_type": "stream",
     "text": [
      "glucose\n"
     ]
    },
    {
     "data": {
      "text/html": [
       "<div>\n",
       "<style scoped>\n",
       "    .dataframe tbody tr th:only-of-type {\n",
       "        vertical-align: middle;\n",
       "    }\n",
       "\n",
       "    .dataframe tbody tr th {\n",
       "        vertical-align: top;\n",
       "    }\n",
       "\n",
       "    .dataframe thead th {\n",
       "        text-align: right;\n",
       "    }\n",
       "</style>\n",
       "<table border=\"1\" class=\"dataframe\">\n",
       "  <thead>\n",
       "    <tr style=\"text-align: right;\">\n",
       "      <th></th>\n",
       "      <th>t</th>\n",
       "      <th>df</th>\n",
       "      <th>p-value</th>\n",
       "      <th>Significance</th>\n",
       "    </tr>\n",
       "  </thead>\n",
       "  <tbody>\n",
       "    <tr>\n",
       "      <th>ttest</th>\n",
       "      <td>1.853312</td>\n",
       "      <td>27</td>\n",
       "      <td>0.076186</td>\n",
       "      <td>ns</td>\n",
       "    </tr>\n",
       "  </tbody>\n",
       "</table>\n",
       "</div>"
      ],
      "text/plain": [
       "              t  df   p-value Significance\n",
       "ttest  1.853312  27  0.076186           ns"
      ]
     },
     "metadata": {},
     "output_type": "display_data"
    }
   ],
   "source": [
    "res_g = pd.DataFrame({\"t\": [stats_g_tot[0]], \n",
    "                      \"df\": [stats_g_tot[2]],\n",
    "                      \"p-value\": [stats_g_tot[1]], \n",
    "                      \"Significance\": check_significance(stats_g_tot[1])\n",
    "                     }, index = ['ttest'])\n",
    "print(\"glucose\")\n",
    "display(res_g)\n",
    "fig1_stats.update({\"f_ttest_stim_v_ctl_tot_g\": res_g})"
   ]
  },
  {
   "cell_type": "markdown",
   "metadata": {
    "tags": []
   },
   "source": [
    "##### stats - stim v control pref comparison"
   ]
  },
  {
   "cell_type": "code",
   "execution_count": 14,
   "metadata": {},
   "outputs": [
    {
     "name": "stdout",
     "output_type": "stream",
     "text": [
      "glucose\n"
     ]
    },
    {
     "data": {
      "text/html": [
       "<div>\n",
       "<style scoped>\n",
       "    .dataframe tbody tr th:only-of-type {\n",
       "        vertical-align: middle;\n",
       "    }\n",
       "\n",
       "    .dataframe tbody tr th {\n",
       "        vertical-align: top;\n",
       "    }\n",
       "\n",
       "    .dataframe thead th {\n",
       "        text-align: right;\n",
       "    }\n",
       "</style>\n",
       "<table border=\"1\" class=\"dataframe\">\n",
       "  <thead>\n",
       "    <tr style=\"text-align: right;\">\n",
       "      <th></th>\n",
       "      <th>U</th>\n",
       "      <th>p-value</th>\n",
       "      <th>Significance</th>\n",
       "    </tr>\n",
       "  </thead>\n",
       "  <tbody>\n",
       "    <tr>\n",
       "      <th>mann whitney u test</th>\n",
       "      <td>152.0</td>\n",
       "      <td>0.042415</td>\n",
       "      <td>*</td>\n",
       "    </tr>\n",
       "  </tbody>\n",
       "</table>\n",
       "</div>"
      ],
      "text/plain": [
       "                         U   p-value Significance\n",
       "mann whitney u test  152.0  0.042415            *"
      ]
     },
     "metadata": {},
     "output_type": "display_data"
    }
   ],
   "source": [
    "res_g = pd.DataFrame({\"U\": [p_pref[0]], \n",
    "                      \"p-value\": [p_pref[1]],\n",
    "                      \"Significance\": check_significance(p_pref[1])\n",
    "                     }, index = ['mann whitney u test'])\n",
    "\n",
    "print(\"glucose\")\n",
    "display(res_g)\n",
    "\n",
    "fig1_stats.update({\"g_rank_sum_stim_v_ctl_pref_g\": res_g})"
   ]
  },
  {
   "cell_type": "code",
   "execution_count": 15,
   "metadata": {},
   "outputs": [],
   "source": [
    "with pd.ExcelWriter(stat_save_loc/'figure1.xlsx') as writer:  \n",
    "    for k,v in fig1_stats.items():\n",
    "        v.to_excel(writer, sheet_name=k)"
   ]
  },
  {
   "cell_type": "markdown",
   "metadata": {
    "tags": []
   },
   "source": [
    "## Supplemental Figure 1 - cummulative training licks"
   ]
  },
  {
   "cell_type": "code",
   "execution_count": 16,
   "metadata": {},
   "outputs": [
    {
     "data": {
      "image/png": "[encoded data removed]",
      "text/plain": [
       "<Figure size 500x325 with 2 Axes>"
      ]
     },
     "metadata": {},
     "output_type": "display_data"
    }
   ],
   "source": [
    "# get cummulative training licks for stim and control mice\n",
    "cumm = df_train_g.total_licks.groupby(['Chr2','mouse','CS']).sum()\n",
    "sg = cumm.loc[True,].to_frame()\n",
    "cg =  cumm.loc[False,].to_frame()\n",
    "\n",
    "# create subplot\n",
    "fig, ax = plt.subplots(1,2, figsize = (5,3.25), gridspec_kw={'width_ratios': [1.4, 1]})\n",
    "\n",
    "training_plot(df_train_g.loc[True,], df_train_g.loc[False,], \n",
    "              colors = [stim_col, ctl_col], ax = ax[0], ms=4);\n",
    "\n",
    "_, stats_g_cumm= two_bottle_plot(sg,cg, ax = ax[1], lw=1, ms=2)\n",
    "\n",
    "#reformat legends\n",
    "ax[0].legend(*ax[0].get_legend_handles_labels(), ncol = 2,  columnspacing = 1,\n",
    "               loc = 'lower left', bbox_to_anchor= (-.1,1.1), frameon = False, fontsize=6)\n",
    "ax[1].legend(ax[1].get_legend().legendHandles, ['CS -', 'CS +'], \n",
    "             loc = 'lower left', bbox_to_anchor = (0,1.1), frameon=False)\n",
    "\n",
    "\n",
    "#make sure the y limit is the same\n",
    "ylim = 14000\n",
    "ax[1].set_ylim(0,ylim)\n",
    "\n",
    "# label axes and add titles\n",
    "ax[1].set_ylabel(\"Cummulative Training Licks\")\n",
    "\n",
    "# fix tick font size\n",
    "for i in ax.flatten():\n",
    "    for j in i.get_yticklabels():\n",
    "        j.set_fontsize(6)\n",
    "for j in ax[0].get_xticklabels():\n",
    "    j.set_fontsize(6)\n",
    "\n",
    "fig.tight_layout(pad = 3.)\n",
    "fig.savefig(fig_save_loc/'pdfs'/'supp_fig1_cumm_train_licks.pdf', transparent=True, bbox_inches='tight')\n",
    "fig.savefig(fig_save_loc/'svgs'/'supp_fig1_cumm_train_licks.svg', transparent=True, bbox_inches='tight')"
   ]
  },
  {
   "cell_type": "markdown",
   "metadata": {
    "jp-MarkdownHeadingCollapsed": true,
    "tags": []
   },
   "source": [
    "#### stats"
   ]
  },
  {
   "cell_type": "code",
   "execution_count": 17,
   "metadata": {},
   "outputs": [],
   "source": [
    "supp_fig1_stats = {}"
   ]
  },
  {
   "cell_type": "markdown",
   "metadata": {
    "jp-MarkdownHeadingCollapsed": true,
    "tags": []
   },
   "source": [
    "##### stats - glucose unlimited intake training"
   ]
  },
  {
   "cell_type": "code",
   "execution_count": 18,
   "metadata": {},
   "outputs": [],
   "source": [
    "df = df_train_g.reset_index()"
   ]
  },
  {
   "cell_type": "code",
   "execution_count": 19,
   "metadata": {},
   "outputs": [
    {
     "data": {
      "image/png": "[encoded data removed]"
     },
     "metadata": {},
     "output_type": "display_data"
    }
   ],
   "source": [
    "%%R -i df -o train_model_g -o train_anova_g\n",
    "m <- lmer(\"total_licks ~ factor(day)*factor(CS)*factor(Chr2) + (1|mouse)\", df)\n",
    "train_model_g <-as.data.frame(summary(m)$coefficients)\n",
    "qqnorm(residuals(m))\n",
    "train_anova_g <- anova(m)"
   ]
  },
  {
   "cell_type": "code",
   "execution_count": 20,
   "metadata": {
    "tags": []
   },
   "outputs": [
    {
     "data": {
      "text/html": [
       "<div>\n",
       "<style scoped>\n",
       "    .dataframe tbody tr th:only-of-type {\n",
       "        vertical-align: middle;\n",
       "    }\n",
       "\n",
       "    .dataframe tbody tr th {\n",
       "        vertical-align: top;\n",
       "    }\n",
       "\n",
       "    .dataframe thead th {\n",
       "        text-align: right;\n",
       "    }\n",
       "</style>\n",
       "<table border=\"1\" class=\"dataframe\">\n",
       "  <thead>\n",
       "    <tr style=\"text-align: right;\">\n",
       "      <th></th>\n",
       "      <th>Sum Sq</th>\n",
       "      <th>Mean Sq</th>\n",
       "      <th>NumDF</th>\n",
       "      <th>DenDF</th>\n",
       "      <th>F value</th>\n",
       "      <th>Pr(&gt;F)</th>\n",
       "      <th>Significance</th>\n",
       "    </tr>\n",
       "  </thead>\n",
       "  <tbody>\n",
       "    <tr>\n",
       "      <th>factor(day)</th>\n",
       "      <td>5.432280e+06</td>\n",
       "      <td>2.716140e+06</td>\n",
       "      <td>2</td>\n",
       "      <td>135.000001</td>\n",
       "      <td>26.825402</td>\n",
       "      <td>1.550850e-10</td>\n",
       "      <td>****</td>\n",
       "    </tr>\n",
       "    <tr>\n",
       "      <th>factor(CS)</th>\n",
       "      <td>4.615194e+06</td>\n",
       "      <td>4.615194e+06</td>\n",
       "      <td>1</td>\n",
       "      <td>135.000001</td>\n",
       "      <td>45.581019</td>\n",
       "      <td>3.964062e-10</td>\n",
       "      <td>****</td>\n",
       "    </tr>\n",
       "    <tr>\n",
       "      <th>factor(Chr2)</th>\n",
       "      <td>1.423454e+06</td>\n",
       "      <td>1.423454e+06</td>\n",
       "      <td>1</td>\n",
       "      <td>26.999997</td>\n",
       "      <td>14.058456</td>\n",
       "      <td>8.553946e-04</td>\n",
       "      <td>***</td>\n",
       "    </tr>\n",
       "    <tr>\n",
       "      <th>factor(day):factor(CS)</th>\n",
       "      <td>1.383419e+06</td>\n",
       "      <td>6.917093e+05</td>\n",
       "      <td>2</td>\n",
       "      <td>135.000001</td>\n",
       "      <td>6.831525</td>\n",
       "      <td>1.492191e-03</td>\n",
       "      <td>**</td>\n",
       "    </tr>\n",
       "    <tr>\n",
       "      <th>factor(day):factor(Chr2)</th>\n",
       "      <td>1.448683e+06</td>\n",
       "      <td>7.243416e+05</td>\n",
       "      <td>2</td>\n",
       "      <td>135.000001</td>\n",
       "      <td>7.153812</td>\n",
       "      <td>1.114283e-03</td>\n",
       "      <td>**</td>\n",
       "    </tr>\n",
       "    <tr>\n",
       "      <th>factor(CS):factor(Chr2)</th>\n",
       "      <td>7.298038e+01</td>\n",
       "      <td>7.298038e+01</td>\n",
       "      <td>1</td>\n",
       "      <td>135.000001</td>\n",
       "      <td>0.000721</td>\n",
       "      <td>9.786212e-01</td>\n",
       "      <td>ns</td>\n",
       "    </tr>\n",
       "    <tr>\n",
       "      <th>factor(day):factor(CS):factor(Chr2)</th>\n",
       "      <td>2.953049e+05</td>\n",
       "      <td>1.476524e+05</td>\n",
       "      <td>2</td>\n",
       "      <td>135.000001</td>\n",
       "      <td>1.458259</td>\n",
       "      <td>2.362818e-01</td>\n",
       "      <td>ns</td>\n",
       "    </tr>\n",
       "  </tbody>\n",
       "</table>\n",
       "</div>"
      ],
      "text/plain": [
       "                                           Sum Sq       Mean Sq  NumDF  \\\n",
       "factor(day)                          5.432280e+06  2.716140e+06      2   \n",
       "factor(CS)                           4.615194e+06  4.615194e+06      1   \n",
       "factor(Chr2)                         1.423454e+06  1.423454e+06      1   \n",
       "factor(day):factor(CS)               1.383419e+06  6.917093e+05      2   \n",
       "factor(day):factor(Chr2)             1.448683e+06  7.243416e+05      2   \n",
       "factor(CS):factor(Chr2)              7.298038e+01  7.298038e+01      1   \n",
       "factor(day):factor(CS):factor(Chr2)  2.953049e+05  1.476524e+05      2   \n",
       "\n",
       "                                          DenDF    F value        Pr(>F)  \\\n",
       "factor(day)                          135.000001  26.825402  1.550850e-10   \n",
       "factor(CS)                           135.000001  45.581019  3.964062e-10   \n",
       "factor(Chr2)                          26.999997  14.058456  8.553946e-04   \n",
       "factor(day):factor(CS)               135.000001   6.831525  1.492191e-03   \n",
       "factor(day):factor(Chr2)             135.000001   7.153812  1.114283e-03   \n",
       "factor(CS):factor(Chr2)              135.000001   0.000721  9.786212e-01   \n",
       "factor(day):factor(CS):factor(Chr2)  135.000001   1.458259  2.362818e-01   \n",
       "\n",
       "                                    Significance  \n",
       "factor(day)                                 ****  \n",
       "factor(CS)                                  ****  \n",
       "factor(Chr2)                                 ***  \n",
       "factor(day):factor(CS)                        **  \n",
       "factor(day):factor(Chr2)                      **  \n",
       "factor(CS):factor(Chr2)                       ns  \n",
       "factor(day):factor(CS):factor(Chr2)           ns  "
      ]
     },
     "metadata": {},
     "output_type": "display_data"
    },
    {
     "data": {
      "text/html": [
       "<div>\n",
       "<style scoped>\n",
       "    .dataframe tbody tr th:only-of-type {\n",
       "        vertical-align: middle;\n",
       "    }\n",
       "\n",
       "    .dataframe tbody tr th {\n",
       "        vertical-align: top;\n",
       "    }\n",
       "\n",
       "    .dataframe thead th {\n",
       "        text-align: right;\n",
       "    }\n",
       "</style>\n",
       "<table border=\"1\" class=\"dataframe\">\n",
       "  <thead>\n",
       "    <tr style=\"text-align: right;\">\n",
       "      <th></th>\n",
       "      <th>Estimate</th>\n",
       "      <th>Std. Error</th>\n",
       "      <th>df</th>\n",
       "      <th>t value</th>\n",
       "      <th>Pr(&gt;|t|)</th>\n",
       "      <th>Significance</th>\n",
       "    </tr>\n",
       "  </thead>\n",
       "  <tbody>\n",
       "    <tr>\n",
       "      <th>(Intercept)</th>\n",
       "      <td>378.400000</td>\n",
       "      <td>151.522922</td>\n",
       "      <td>46.390033</td>\n",
       "      <td>2.497312</td>\n",
       "      <td>0.016123</td>\n",
       "      <td>*</td>\n",
       "    </tr>\n",
       "    <tr>\n",
       "      <th>factor(day)1</th>\n",
       "      <td>355.666667</td>\n",
       "      <td>116.190958</td>\n",
       "      <td>135.000001</td>\n",
       "      <td>3.061053</td>\n",
       "      <td>0.002662</td>\n",
       "      <td>**</td>\n",
       "    </tr>\n",
       "    <tr>\n",
       "      <th>factor(day)2</th>\n",
       "      <td>366.000000</td>\n",
       "      <td>116.190958</td>\n",
       "      <td>135.000001</td>\n",
       "      <td>3.149987</td>\n",
       "      <td>0.002011</td>\n",
       "      <td>**</td>\n",
       "    </tr>\n",
       "    <tr>\n",
       "      <th>factor(CS)+</th>\n",
       "      <td>534.400000</td>\n",
       "      <td>116.190958</td>\n",
       "      <td>135.000001</td>\n",
       "      <td>4.599325</td>\n",
       "      <td>0.000010</td>\n",
       "      <td>****</td>\n",
       "    </tr>\n",
       "    <tr>\n",
       "      <th>factor(Chr2)TRUE</th>\n",
       "      <td>456.385714</td>\n",
       "      <td>218.078734</td>\n",
       "      <td>46.390033</td>\n",
       "      <td>2.092757</td>\n",
       "      <td>0.041868</td>\n",
       "      <td>*</td>\n",
       "    </tr>\n",
       "    <tr>\n",
       "      <th>factor(day)1:factor(CS)+</th>\n",
       "      <td>-272.933333</td>\n",
       "      <td>164.318828</td>\n",
       "      <td>135.000001</td>\n",
       "      <td>-1.660999</td>\n",
       "      <td>0.099034</td>\n",
       "      <td>ns</td>\n",
       "    </tr>\n",
       "    <tr>\n",
       "      <th>factor(day)2:factor(CS)+</th>\n",
       "      <td>-356.400000</td>\n",
       "      <td>164.318828</td>\n",
       "      <td>135.000001</td>\n",
       "      <td>-2.168954</td>\n",
       "      <td>0.031838</td>\n",
       "      <td>*</td>\n",
       "    </tr>\n",
       "    <tr>\n",
       "      <th>factor(day)1:factor(Chr2)TRUE</th>\n",
       "      <td>356.119048</td>\n",
       "      <td>167.227352</td>\n",
       "      <td>135.000001</td>\n",
       "      <td>2.129550</td>\n",
       "      <td>0.035023</td>\n",
       "      <td>*</td>\n",
       "    </tr>\n",
       "    <tr>\n",
       "      <th>factor(day)2:factor(Chr2)TRUE</th>\n",
       "      <td>402.285714</td>\n",
       "      <td>167.227352</td>\n",
       "      <td>135.000001</td>\n",
       "      <td>2.405622</td>\n",
       "      <td>0.017500</td>\n",
       "      <td>*</td>\n",
       "    </tr>\n",
       "    <tr>\n",
       "      <th>factor(CS)+:factor(Chr2)TRUE</th>\n",
       "      <td>71.671429</td>\n",
       "      <td>167.227352</td>\n",
       "      <td>135.000001</td>\n",
       "      <td>0.428587</td>\n",
       "      <td>0.668907</td>\n",
       "      <td>ns</td>\n",
       "    </tr>\n",
       "    <tr>\n",
       "      <th>factor(day)1:factor(CS)+:factor(Chr2)TRUE</th>\n",
       "      <td>-296.495238</td>\n",
       "      <td>236.495189</td>\n",
       "      <td>135.000001</td>\n",
       "      <td>-1.253705</td>\n",
       "      <td>0.212116</td>\n",
       "      <td>ns</td>\n",
       "    </tr>\n",
       "    <tr>\n",
       "      <th>factor(day)2:factor(CS)+:factor(Chr2)TRUE</th>\n",
       "      <td>89.257143</td>\n",
       "      <td>236.495189</td>\n",
       "      <td>135.000001</td>\n",
       "      <td>0.377416</td>\n",
       "      <td>0.706457</td>\n",
       "      <td>ns</td>\n",
       "    </tr>\n",
       "  </tbody>\n",
       "</table>\n",
       "</div>"
      ],
      "text/plain": [
       "                                             Estimate  Std. Error          df  \\\n",
       "(Intercept)                                378.400000  151.522922   46.390033   \n",
       "factor(day)1                               355.666667  116.190958  135.000001   \n",
       "factor(day)2                               366.000000  116.190958  135.000001   \n",
       "factor(CS)+                                534.400000  116.190958  135.000001   \n",
       "factor(Chr2)TRUE                           456.385714  218.078734   46.390033   \n",
       "factor(day)1:factor(CS)+                  -272.933333  164.318828  135.000001   \n",
       "factor(day)2:factor(CS)+                  -356.400000  164.318828  135.000001   \n",
       "factor(day)1:factor(Chr2)TRUE              356.119048  167.227352  135.000001   \n",
       "factor(day)2:factor(Chr2)TRUE              402.285714  167.227352  135.000001   \n",
       "factor(CS)+:factor(Chr2)TRUE                71.671429  167.227352  135.000001   \n",
       "factor(day)1:factor(CS)+:factor(Chr2)TRUE -296.495238  236.495189  135.000001   \n",
       "factor(day)2:factor(CS)+:factor(Chr2)TRUE   89.257143  236.495189  135.000001   \n",
       "\n",
       "                                            t value  Pr(>|t|) Significance  \n",
       "(Intercept)                                2.497312  0.016123            *  \n",
       "factor(day)1                               3.061053  0.002662           **  \n",
       "factor(day)2                               3.149987  0.002011           **  \n",
       "factor(CS)+                                4.599325  0.000010         ****  \n",
       "factor(Chr2)TRUE                           2.092757  0.041868            *  \n",
       "factor(day)1:factor(CS)+                  -1.660999  0.099034           ns  \n",
       "factor(day)2:factor(CS)+                  -2.168954  0.031838            *  \n",
       "factor(day)1:factor(Chr2)TRUE              2.129550  0.035023            *  \n",
       "factor(day)2:factor(Chr2)TRUE              2.405622  0.017500            *  \n",
       "factor(CS)+:factor(Chr2)TRUE               0.428587  0.668907           ns  \n",
       "factor(day)1:factor(CS)+:factor(Chr2)TRUE -1.253705  0.212116           ns  \n",
       "factor(day)2:factor(CS)+:factor(Chr2)TRUE  0.377416  0.706457           ns  "
      ]
     },
     "metadata": {},
     "output_type": "display_data"
    }
   ],
   "source": [
    "train_model_g['Significance'] = train_model_g['Pr(>|t|)'].apply(check_significance)\n",
    "train_anova_g['Significance'] = train_anova_g['Pr(>F)'].apply(check_significance)\n",
    "supp_fig1_stats.update({'b_train_model_g': train_model_g,\n",
    "                        'b_train_anova_g': train_anova_g})\n",
    "display(train_anova_g, train_model_g)"
   ]
  },
  {
   "cell_type": "markdown",
   "metadata": {
    "jp-MarkdownHeadingCollapsed": true,
    "tags": []
   },
   "source": [
    "##### stats - glucose unlimited intake cummulative training licks stats"
   ]
  },
  {
   "cell_type": "code",
   "execution_count": 21,
   "metadata": {},
   "outputs": [
    {
     "data": {
      "text/html": [
       "<div>\n",
       "<style scoped>\n",
       "    .dataframe tbody tr th:only-of-type {\n",
       "        vertical-align: middle;\n",
       "    }\n",
       "\n",
       "    .dataframe tbody tr th {\n",
       "        vertical-align: top;\n",
       "    }\n",
       "\n",
       "    .dataframe thead th {\n",
       "        text-align: right;\n",
       "    }\n",
       "</style>\n",
       "<table border=\"1\" class=\"dataframe\">\n",
       "  <thead>\n",
       "    <tr style=\"text-align: right;\">\n",
       "      <th></th>\n",
       "      <th></th>\n",
       "      <th>statistic</th>\n",
       "      <th>p-value</th>\n",
       "    </tr>\n",
       "    <tr>\n",
       "      <th>Chr2</th>\n",
       "      <th>CS</th>\n",
       "      <th></th>\n",
       "      <th></th>\n",
       "    </tr>\n",
       "  </thead>\n",
       "  <tbody>\n",
       "    <tr>\n",
       "      <th rowspan=\"2\" valign=\"top\">False</th>\n",
       "      <th>+</th>\n",
       "      <td>0.944635</td>\n",
       "      <td>0.444228</td>\n",
       "    </tr>\n",
       "    <tr>\n",
       "      <th>-</th>\n",
       "      <td>0.897411</td>\n",
       "      <td>0.086898</td>\n",
       "    </tr>\n",
       "    <tr>\n",
       "      <th rowspan=\"2\" valign=\"top\">True</th>\n",
       "      <th>+</th>\n",
       "      <td>0.967637</td>\n",
       "      <td>0.843553</td>\n",
       "    </tr>\n",
       "    <tr>\n",
       "      <th>-</th>\n",
       "      <td>0.979249</td>\n",
       "      <td>0.970224</td>\n",
       "    </tr>\n",
       "  </tbody>\n",
       "</table>\n",
       "</div>"
      ],
      "text/plain": [
       "          statistic   p-value\n",
       "Chr2  CS                     \n",
       "False +    0.944635  0.444228\n",
       "      -    0.897411  0.086898\n",
       "True  +    0.967637  0.843553\n",
       "      -    0.979249  0.970224"
      ]
     },
     "metadata": {},
     "output_type": "display_data"
    },
    {
     "data": {
      "text/html": [
       "<div>\n",
       "<style scoped>\n",
       "    .dataframe tbody tr th:only-of-type {\n",
       "        vertical-align: middle;\n",
       "    }\n",
       "\n",
       "    .dataframe tbody tr th {\n",
       "        vertical-align: top;\n",
       "    }\n",
       "\n",
       "    .dataframe thead th {\n",
       "        text-align: right;\n",
       "    }\n",
       "</style>\n",
       "<table border=\"1\" class=\"dataframe\">\n",
       "  <thead>\n",
       "    <tr style=\"text-align: right;\">\n",
       "      <th></th>\n",
       "      <th>statistic</th>\n",
       "      <th>p-value</th>\n",
       "    </tr>\n",
       "    <tr>\n",
       "      <th>CS</th>\n",
       "      <th></th>\n",
       "      <th></th>\n",
       "    </tr>\n",
       "  </thead>\n",
       "  <tbody>\n",
       "    <tr>\n",
       "      <th>+</th>\n",
       "      <td>2.380623</td>\n",
       "      <td>0.134489</td>\n",
       "    </tr>\n",
       "    <tr>\n",
       "      <th>-</th>\n",
       "      <td>3.117155</td>\n",
       "      <td>0.088780</td>\n",
       "    </tr>\n",
       "  </tbody>\n",
       "</table>\n",
       "</div>"
      ],
      "text/plain": [
       "    statistic   p-value\n",
       "CS                     \n",
       "+    2.380623  0.134489\n",
       "-    3.117155  0.088780"
      ]
     },
     "metadata": {},
     "output_type": "display_data"
    },
    {
     "data": {
      "text/html": [
       "<div>\n",
       "<style scoped>\n",
       "    .dataframe tbody tr th:only-of-type {\n",
       "        vertical-align: middle;\n",
       "    }\n",
       "\n",
       "    .dataframe tbody tr th {\n",
       "        vertical-align: top;\n",
       "    }\n",
       "\n",
       "    .dataframe thead th {\n",
       "        text-align: right;\n",
       "    }\n",
       "</style>\n",
       "<table border=\"1\" class=\"dataframe\">\n",
       "  <thead>\n",
       "    <tr style=\"text-align: right;\">\n",
       "      <th></th>\n",
       "      <th>Source</th>\n",
       "      <th>SS</th>\n",
       "      <th>DF1</th>\n",
       "      <th>DF2</th>\n",
       "      <th>MS</th>\n",
       "      <th>F</th>\n",
       "      <th>p-value</th>\n",
       "      <th>np2</th>\n",
       "      <th>eps</th>\n",
       "      <th>Significance</th>\n",
       "    </tr>\n",
       "  </thead>\n",
       "  <tbody>\n",
       "    <tr>\n",
       "      <th>0</th>\n",
       "      <td>Chr2</td>\n",
       "      <td>6.579632e+07</td>\n",
       "      <td>1</td>\n",
       "      <td>27</td>\n",
       "      <td>6.579632e+07</td>\n",
       "      <td>14.058458</td>\n",
       "      <td>8.553937e-04</td>\n",
       "      <td>0.342401</td>\n",
       "      <td>NaN</td>\n",
       "      <td>***</td>\n",
       "    </tr>\n",
       "    <tr>\n",
       "      <th>1</th>\n",
       "      <td>CS</td>\n",
       "      <td>1.385826e+07</td>\n",
       "      <td>1</td>\n",
       "      <td>27</td>\n",
       "      <td>1.385826e+07</td>\n",
       "      <td>45.376332</td>\n",
       "      <td>3.118576e-07</td>\n",
       "      <td>0.626950</td>\n",
       "      <td>1.0</td>\n",
       "      <td>****</td>\n",
       "    </tr>\n",
       "    <tr>\n",
       "      <th>2</th>\n",
       "      <td>Interaction</td>\n",
       "      <td>2.189400e+02</td>\n",
       "      <td>1</td>\n",
       "      <td>27</td>\n",
       "      <td>2.189400e+02</td>\n",
       "      <td>0.000717</td>\n",
       "      <td>9.788364e-01</td>\n",
       "      <td>0.000027</td>\n",
       "      <td>NaN</td>\n",
       "      <td>ns</td>\n",
       "    </tr>\n",
       "  </tbody>\n",
       "</table>\n",
       "</div>"
      ],
      "text/plain": [
       "        Source            SS  DF1  DF2            MS          F       p-value  \\\n",
       "0         Chr2  6.579632e+07    1   27  6.579632e+07  14.058458  8.553937e-04   \n",
       "1           CS  1.385826e+07    1   27  1.385826e+07  45.376332  3.118576e-07   \n",
       "2  Interaction  2.189400e+02    1   27  2.189400e+02   0.000717  9.788364e-01   \n",
       "\n",
       "        np2  eps Significance  \n",
       "0  0.342401  NaN          ***  \n",
       "1  0.626950  1.0         ****  \n",
       "2  0.000027  NaN           ns  "
      ]
     },
     "metadata": {},
     "output_type": "display_data"
    },
    {
     "data": {
      "text/html": [
       "<div>\n",
       "<style scoped>\n",
       "    .dataframe tbody tr th:only-of-type {\n",
       "        vertical-align: middle;\n",
       "    }\n",
       "\n",
       "    .dataframe tbody tr th {\n",
       "        vertical-align: top;\n",
       "    }\n",
       "\n",
       "    .dataframe thead th {\n",
       "        text-align: right;\n",
       "    }\n",
       "</style>\n",
       "<table border=\"1\" class=\"dataframe\">\n",
       "  <thead>\n",
       "    <tr style=\"text-align: right;\">\n",
       "      <th></th>\n",
       "      <th>t</th>\n",
       "      <th>p-value</th>\n",
       "      <th>Corrected p-value</th>\n",
       "      <th>df</th>\n",
       "      <th>paired</th>\n",
       "      <th>Significance</th>\n",
       "    </tr>\n",
       "  </thead>\n",
       "  <tbody>\n",
       "    <tr>\n",
       "      <th>CS+ vs. CS- $AgRP^{Chr2}$</th>\n",
       "      <td>4.408576</td>\n",
       "      <td>0.000706</td>\n",
       "      <td>0.001412</td>\n",
       "      <td>13</td>\n",
       "      <td>True</td>\n",
       "      <td>**</td>\n",
       "    </tr>\n",
       "    <tr>\n",
       "      <th>CS+ vs. CS- $AgRP^{TdTomato}$</th>\n",
       "      <td>5.164125</td>\n",
       "      <td>0.000144</td>\n",
       "      <td>0.000575</td>\n",
       "      <td>14</td>\n",
       "      <td>True</td>\n",
       "      <td>***</td>\n",
       "    </tr>\n",
       "    <tr>\n",
       "      <th>CS+ $AgRP^{Chr2}$ vs. CS+ $AgRP^{TdTomato}$</th>\n",
       "      <td>3.125205</td>\n",
       "      <td>0.004928</td>\n",
       "      <td>0.004928</td>\n",
       "      <td>27</td>\n",
       "      <td>False</td>\n",
       "      <td>**</td>\n",
       "    </tr>\n",
       "    <tr>\n",
       "      <th>CS- $AgRP^{Chr2}$ vs. CS- $AgRP^{TdTomato}$</th>\n",
       "      <td>4.311860</td>\n",
       "      <td>0.000314</td>\n",
       "      <td>0.000942</td>\n",
       "      <td>27</td>\n",
       "      <td>False</td>\n",
       "      <td>***</td>\n",
       "    </tr>\n",
       "  </tbody>\n",
       "</table>\n",
       "</div>"
      ],
      "text/plain": [
       "                                                    t   p-value  \\\n",
       "CS+ vs. CS- $AgRP^{Chr2}$                    4.408576  0.000706   \n",
       "CS+ vs. CS- $AgRP^{TdTomato}$                5.164125  0.000144   \n",
       "CS+ $AgRP^{Chr2}$ vs. CS+ $AgRP^{TdTomato}$  3.125205  0.004928   \n",
       "CS- $AgRP^{Chr2}$ vs. CS- $AgRP^{TdTomato}$  4.311860  0.000314   \n",
       "\n",
       "                                             Corrected p-value  df  paired  \\\n",
       "CS+ vs. CS- $AgRP^{Chr2}$                             0.001412  13    True   \n",
       "CS+ vs. CS- $AgRP^{TdTomato}$                         0.000575  14    True   \n",
       "CS+ $AgRP^{Chr2}$ vs. CS+ $AgRP^{TdTomato}$           0.004928  27   False   \n",
       "CS- $AgRP^{Chr2}$ vs. CS- $AgRP^{TdTomato}$           0.000942  27   False   \n",
       "\n",
       "                                            Significance  \n",
       "CS+ vs. CS- $AgRP^{Chr2}$                             **  \n",
       "CS+ vs. CS- $AgRP^{TdTomato}$                        ***  \n",
       "CS+ $AgRP^{Chr2}$ vs. CS+ $AgRP^{TdTomato}$           **  \n",
       "CS- $AgRP^{Chr2}$ vs. CS- $AgRP^{TdTomato}$          ***  "
      ]
     },
     "metadata": {},
     "output_type": "display_data"
    }
   ],
   "source": [
    "df = pd.concat({True: sg['total_licks'], False: cg['total_licks']}, names = ['Chr2']).rename(\"total_licks\").reset_index()\n",
    "shapiro = (df.groupby(['Chr2','CS'])\n",
    "             .total_licks\n",
    "             .apply(lambda x: pd.Series(st.shapiro(x), index = ('statistic', 'p-value')))\n",
    "             .unstack()\n",
    "          )\n",
    "levene  = (df.groupby('CS')\n",
    "             .apply(lambda x: pd.Series(st.levene(x.loc[x.Chr2].total_licks, x.loc[~x.Chr2].total_licks), index = ('statistic', 'p-value')))\n",
    "          )\n",
    "cumm_train_anova_g = pg.mixed_anova(data = df, within = 'CS', between = 'Chr2', dv = 'total_licks', subject = 'mouse', correction = True)\n",
    "cumm_train_anova_g = cumm_train_anova_g.rename(columns = {'p-unc': 'p-value'})\n",
    "cumm_train_anova_g['Significance'] = cumm_train_anova_g['p-value'].apply(check_significance)\n",
    "stats_g_cumm = stats_g_cumm.rename(columns = {'statistic': 't', 'pvalue': 'p-value', 'pvalue_corr': 'Corrected p-value'})\n",
    "stats_g_cumm['Significance'] = stats_g_cumm['Corrected p-value'].apply(check_significance)\n",
    "\n",
    "\n",
    "display(shapiro, levene, cumm_train_anova_g , stats_g_cumm)\n",
    "supp_fig1_stats.update({'c_cumm_train_anova_g'   : cumm_train_anova_g,\n",
    "                        'c_cumm_train_posthoc_g' : stats_g_cumm})"
   ]
  },
  {
   "cell_type": "code",
   "execution_count": 22,
   "metadata": {},
   "outputs": [],
   "source": [
    "with pd.ExcelWriter(stat_save_loc/'supp_figure1.xlsx') as writer:  \n",
    "    for k,v in supp_fig1_stats.items():\n",
    "        v.to_excel(writer, sheet_name=k)"
   ]
  },
  {
   "cell_type": "markdown",
   "metadata": {
    "jp-MarkdownHeadingCollapsed": true,
    "tags": []
   },
   "source": [
    "## get lick bursts"
   ]
  },
  {
   "cell_type": "code",
   "execution_count": 23,
   "metadata": {},
   "outputs": [],
   "source": [
    "# compute lick burst number, average across days and format for model fitting\n",
    "# glucose\n",
    "_, bn = lick_microstructure(dft_test_g, 60)\n",
    "burst_g_mn = bn.burst_num.unstack('CS').groupby(['Chr2','sex','mouse']).sum()\n",
    "test_licks_g = (df_test_g.set_index('sex', append = True)\n",
    "                         .total_licks\n",
    "                         .unstack('CS')\n",
    "                         .groupby(['Chr2','sex','mouse'])\n",
    "                         .mean())\n",
    "train_licks_g = (df_train_g.set_index('sex', append = True)\n",
    "                           .total_licks\n",
    "                           .unstack('CS')\n",
    "                           .groupby(['Chr2','sex','mouse'])\n",
    "                           .mean())\n",
    "gb = pd.DataFrame({'tot' : burst_g_mn['+'] + burst_g_mn['-'],\n",
    "                   'pref':  burst_g_mn['+']/(burst_g_mn['+'] + burst_g_mn['-']),\n",
    "                   'csp_test'   : test_licks_g['+'],\n",
    "                   'csm_test'   : test_licks_g['-'],\n",
    "                   'csp_train'  : train_licks_g['+'],\n",
    "                   'csm_train'  : train_licks_g['-']})\n",
    "gb = gb.reset_index().dropna()\n",
    "gb['stim'] = gb.Chr2.replace({True: r'$AgRP^{Chr2}$', False: r'$AgRP^{TdTomato}$'})\n",
    "gb['cond_sex'] = gb.stim + ' ' + gb.sex"
   ]
  },
  {
   "cell_type": "markdown",
   "metadata": {
    "tags": []
   },
   "source": [
    "## Supplemental Figure 3 - validation of lick burst preference index"
   ]
  },
  {
   "cell_type": "code",
   "execution_count": 24,
   "metadata": {},
   "outputs": [
    {
     "data": {
      "image/png": "[encoded data removed]",
      "text/plain": [
       "<Figure size 300x300 with 1 Axes>"
      ]
     },
     "metadata": {},
     "output_type": "display_data"
    }
   ],
   "source": [
    "# create the subplot\n",
    "fig, ax = plt.subplots(1,1, figsize = (3,3))\n",
    "\n",
    "pref_g_burst = (bn.groupby(['Chr2', 'mouse','CS'])\n",
    "                  .burst_num\n",
    "                  .sum()\n",
    "                  .unstack('CS')\n",
    "                  .apply(lambda x: pd.Series({'pref': x[\"+\"]/(x[\"+\"] + x[\"-\"]),\n",
    "                                              'tot': x[\"+\"] + x[\"-\"]}), axis=1)\n",
    "                  .reset_index()\n",
    "               )\n",
    "pref_g_burst['Condition'] = pref_g_burst.Chr2.replace({False: r\"$AgRP^{TdTomato}$\", True: r\"$AgRP^{Chr2}$\"})\n",
    "pref_g_burst = pref_g_burst.set_index([\"Condition\",\"mouse\"])\n",
    "\n",
    "# plot preference index computed from bursts vs those computed from licks\n",
    "pref_g_comb = pd.concat({'Lick Preference Index': pref_g.pref, \n",
    "                        'Burst Preference Index': pref_g_burst.pref}, axis=1)\n",
    "sns.scatterplot(data = pref_g_comb.reset_index(), x = 'Lick Preference Index', \n",
    "                y = 'Burst Preference Index', hue = 'Condition', \n",
    "                hue_order = [r'$AgRP^{TdTomato}$', r'$AgRP^{Chr2}$'],\n",
    "                s = 60, palette = [ctl_col, stim_col], ax = ax) \n",
    "\n",
    "# plot the diagonal\n",
    "ax.plot([-.05,1.05],[-.05,1.05], ls = '--', c = 'k', alpha=.5)\n",
    "ax.set_xlim([-.05,1.05])\n",
    "ax.set_ylim([-.05,1.05])\n",
    "ax.set_title('Glucose')\n",
    "\n",
    "# format legend text\n",
    "ax.legend(loc = 'upper left', bbox_to_anchor = (1,1), frameon = False, title = \"\")\n",
    "\n",
    "for j in ax.get_xticklabels() + ax.get_yticklabels() :\n",
    "        j.set_fontsize(6)\n",
    "\n",
    "\n",
    "# remove bottom roww legends\n",
    "sns.despine()\n",
    "\n",
    "\n",
    "fig.savefig(fig_save_loc/'pdfs'/'supp_fig2_burst_pref_val.pdf', transparent=True, bbox_inches='tight')\n",
    "fig.savefig(fig_save_loc/'svgs'/'supp_fig2_burst_pref_val.svg', transparent=True, bbox_inches='tight')"
   ]
  },
  {
   "cell_type": "markdown",
   "metadata": {
    "tags": []
   },
   "source": [
    "#### stats"
   ]
  },
  {
   "cell_type": "code",
   "execution_count": 25,
   "metadata": {},
   "outputs": [],
   "source": [
    "supp_fig3_stats = {}"
   ]
  },
  {
   "cell_type": "markdown",
   "metadata": {
    "tags": []
   },
   "source": [
    "##### stats - unlimited inntake lick burst preference vs lick preference stats"
   ]
  },
  {
   "cell_type": "code",
   "execution_count": 26,
   "metadata": {},
   "outputs": [
    {
     "data": {
      "text/html": [
       "<div>\n",
       "<style scoped>\n",
       "    .dataframe tbody tr th:only-of-type {\n",
       "        vertical-align: middle;\n",
       "    }\n",
       "\n",
       "    .dataframe tbody tr th {\n",
       "        vertical-align: top;\n",
       "    }\n",
       "\n",
       "    .dataframe thead th {\n",
       "        text-align: right;\n",
       "    }\n",
       "</style>\n",
       "<table border=\"1\" class=\"dataframe\">\n",
       "  <thead>\n",
       "    <tr style=\"text-align: right;\">\n",
       "      <th></th>\n",
       "      <th>statistic</th>\n",
       "      <th>p-value</th>\n",
       "      <th>Significance</th>\n",
       "    </tr>\n",
       "  </thead>\n",
       "  <tbody>\n",
       "    <tr>\n",
       "      <th>Signed Rank Test</th>\n",
       "      <td>7.000000</td>\n",
       "      <td>7.078052e-08</td>\n",
       "      <td>****</td>\n",
       "    </tr>\n",
       "    <tr>\n",
       "      <th>Spearman Correlation</th>\n",
       "      <td>0.907456</td>\n",
       "      <td>1.130116e-11</td>\n",
       "      <td>****</td>\n",
       "    </tr>\n",
       "  </tbody>\n",
       "</table>\n",
       "</div>"
      ],
      "text/plain": [
       "                      statistic       p-value Significance\n",
       "Signed Rank Test       7.000000  7.078052e-08         ****\n",
       "Spearman Correlation   0.907456  1.130116e-11         ****"
      ]
     },
     "metadata": {},
     "output_type": "display_data"
    }
   ],
   "source": [
    "g_corr_stats = pd.DataFrame({'Signed Rank Test': st.wilcoxon(pref_g_burst.sort_index().pref.values, pref_g.sort_index().pref.values, axis=0),\n",
    "                             'Spearman Correlation': st.spearmanr(pref_g_burst.sort_index().pref.values, pref_g.sort_index().pref.values, axis=0)},\n",
    "                             index =  ('statistic', 'p-value')).T\n",
    "\n",
    "g_corr_stats['Significance'] = g_corr_stats['p-value'].apply(check_significance)\n",
    "\n",
    "display(g_corr_stats)\n",
    "supp_fig3_stats.update({\"a_lick_pref_burst_pref_corr_g\": g_corr_stats})"
   ]
  },
  {
   "cell_type": "code",
   "execution_count": 27,
   "metadata": {},
   "outputs": [],
   "source": [
    "with pd.ExcelWriter(stat_save_loc/'supp_figure3.xlsx') as writer:  \n",
    "    for k,v in supp_fig3_stats.items():\n",
    "        v.to_excel(writer, sheet_name=k)"
   ]
  },
  {
   "cell_type": "markdown",
   "metadata": {
    "tags": []
   },
   "source": [
    "## Figure 2 - training v testing correlation"
   ]
  },
  {
   "cell_type": "code",
   "execution_count": 28,
   "metadata": {},
   "outputs": [],
   "source": [
    "fig2_stats = {}"
   ]
  },
  {
   "cell_type": "markdown",
   "metadata": {
    "tags": []
   },
   "source": [
    "### model fitting"
   ]
  },
  {
   "cell_type": "code",
   "execution_count": 29,
   "metadata": {},
   "outputs": [
    {
     "data": {
      "text/html": [
       "<div>\n",
       "<style scoped>\n",
       "    .dataframe tbody tr th:only-of-type {\n",
       "        vertical-align: middle;\n",
       "    }\n",
       "\n",
       "    .dataframe tbody tr th {\n",
       "        vertical-align: top;\n",
       "    }\n",
       "\n",
       "    .dataframe thead th {\n",
       "        text-align: right;\n",
       "    }\n",
       "</style>\n",
       "<table border=\"1\" class=\"dataframe\">\n",
       "  <thead>\n",
       "    <tr style=\"text-align: right;\">\n",
       "      <th></th>\n",
       "      <th>VIF Factor</th>\n",
       "      <th>features</th>\n",
       "    </tr>\n",
       "  </thead>\n",
       "  <tbody>\n",
       "    <tr>\n",
       "      <th>0</th>\n",
       "      <td>10.400683</td>\n",
       "      <td>Intercept</td>\n",
       "    </tr>\n",
       "    <tr>\n",
       "      <th>1</th>\n",
       "      <td>6.033268</td>\n",
       "      <td>C(Chr2)[T.True]</td>\n",
       "    </tr>\n",
       "    <tr>\n",
       "      <th>2</th>\n",
       "      <td>4.432433</td>\n",
       "      <td>csp_train</td>\n",
       "    </tr>\n",
       "    <tr>\n",
       "      <th>3</th>\n",
       "      <td>12.655538</td>\n",
       "      <td>C(Chr2)[T.True]:csp_train</td>\n",
       "    </tr>\n",
       "  </tbody>\n",
       "</table>\n",
       "</div>"
      ],
      "text/plain": [
       "   VIF Factor                   features\n",
       "0   10.400683                  Intercept\n",
       "1    6.033268            C(Chr2)[T.True]\n",
       "2    4.432433                  csp_train\n",
       "3   12.655538  C(Chr2)[T.True]:csp_train"
      ]
     },
     "metadata": {},
     "output_type": "display_data"
    },
    {
     "data": {
      "text/html": [
       "<div>\n",
       "<style scoped>\n",
       "    .dataframe tbody tr th:only-of-type {\n",
       "        vertical-align: middle;\n",
       "    }\n",
       "\n",
       "    .dataframe tbody tr th {\n",
       "        vertical-align: top;\n",
       "    }\n",
       "\n",
       "    .dataframe thead th {\n",
       "        text-align: right;\n",
       "    }\n",
       "</style>\n",
       "<table border=\"1\" class=\"dataframe\">\n",
       "  <thead>\n",
       "    <tr style=\"text-align: right;\">\n",
       "      <th></th>\n",
       "      <th>Result</th>\n",
       "      <th>Significance</th>\n",
       "    </tr>\n",
       "  </thead>\n",
       "  <tbody>\n",
       "    <tr>\n",
       "      <th>Intercept</th>\n",
       "      <td>β=0.2086; 95% CI [-0.0598, 0.477]; t(3430.0)=1...</td>\n",
       "      <td>ns</td>\n",
       "    </tr>\n",
       "    <tr>\n",
       "      <th>C(Chr2)[T.True]</th>\n",
       "      <td>β=1.6496; 95% CI [1.1803, 2.1188]; t(3430.0)=6...</td>\n",
       "      <td>****</td>\n",
       "    </tr>\n",
       "    <tr>\n",
       "      <th>csp_train</th>\n",
       "      <td>β=0.0012; 95% CI [0.0009, 0.0015]; t(3430.0)=8...</td>\n",
       "      <td>****</td>\n",
       "    </tr>\n",
       "    <tr>\n",
       "      <th>C(Chr2)[T.True]:csp_train</th>\n",
       "      <td>β=-0.0012; 95% CI [-0.0015, -0.0008]; t(3430.0...</td>\n",
       "      <td>****</td>\n",
       "    </tr>\n",
       "  </tbody>\n",
       "</table>\n",
       "</div>"
      ],
      "text/plain": [
       "                                                                      Result  \\\n",
       "Intercept                  β=0.2086; 95% CI [-0.0598, 0.477]; t(3430.0)=1...   \n",
       "C(Chr2)[T.True]            β=1.6496; 95% CI [1.1803, 2.1188]; t(3430.0)=6...   \n",
       "csp_train                  β=0.0012; 95% CI [0.0009, 0.0015]; t(3430.0)=8...   \n",
       "C(Chr2)[T.True]:csp_train  β=-0.0012; 95% CI [-0.0015, -0.0008]; t(3430.0...   \n",
       "\n",
       "                          Significance  \n",
       "Intercept                           ns  \n",
       "C(Chr2)[T.True]                   ****  \n",
       "csp_train                         ****  \n",
       "C(Chr2)[T.True]:csp_train         ****  "
      ]
     },
     "metadata": {},
     "output_type": "display_data"
    },
    {
     "data": {
      "text/html": [
       "<div>\n",
       "<style scoped>\n",
       "    .dataframe tbody tr th:only-of-type {\n",
       "        vertical-align: middle;\n",
       "    }\n",
       "\n",
       "    .dataframe tbody tr th {\n",
       "        vertical-align: top;\n",
       "    }\n",
       "\n",
       "    .dataframe thead th {\n",
       "        text-align: right;\n",
       "    }\n",
       "</style>\n",
       "<table border=\"1\" class=\"dataframe\">\n",
       "  <thead>\n",
       "    <tr style=\"text-align: right;\">\n",
       "      <th></th>\n",
       "      <th>R2</th>\n",
       "    </tr>\n",
       "  </thead>\n",
       "  <tbody>\n",
       "    <tr>\n",
       "      <th>Cox-Snell R2</th>\n",
       "      <td>0.979602</td>\n",
       "    </tr>\n",
       "  </tbody>\n",
       "</table>\n",
       "</div>"
      ],
      "text/plain": [
       "                    R2\n",
       "Cox-Snell R2  0.979602"
      ]
     },
     "metadata": {},
     "output_type": "display_data"
    },
    {
     "data": {
      "image/png": "[encoded data removed]",
      "text/plain": [
       "<Figure size 640x480 with 1 Axes>"
      ]
     },
     "metadata": {},
     "output_type": "display_data"
    }
   ],
   "source": [
    "model_eq = 'pref ~ C(Chr2)*csp_train'\n",
    "y, X = dmatrices(model_eq, gb, return_type='dataframe')\n",
    "vif = pd.DataFrame()\n",
    "vif[\"VIF Factor\"] = [variance_inflation_factor(X.values, i) for i in range(X.shape[1])]\n",
    "vif[\"features\"] = X.columns\n",
    "display(vif)\n",
    "\n",
    "model_gb = smf.glm(model_eq, data = gb, \n",
    "                   family = sm.families.Binomial(), \n",
    "                   freq_weights = gb.tot).fit(use_t=True)\n",
    "\n",
    "model_gb_summ = model_to_str(model_gb)\n",
    "model_gb_pseudo_r2 = pd.DataFrame({\"R2\":model_gb.pseudo_rsquared()}, index=(\"Cox-Snell R2\",))\n",
    "\n",
    "display(model_gb_summ, model_gb_pseudo_r2)\n",
    "sm.qqplot(model_gb.resid_deviance, fit=True, line='45');\n",
    "fig2_stats.update({'c_train_v_test_glm_g': model_gb_summ,\n",
    "                   'c_train_v_test_glm_g_r2': model_gb_pseudo_r2 })"
   ]
  },
  {
   "cell_type": "markdown",
   "metadata": {
    "tags": []
   },
   "source": [
    "#### separate models for control and stim "
   ]
  },
  {
   "cell_type": "code",
   "execution_count": 30,
   "metadata": {},
   "outputs": [
    {
     "data": {
      "text/html": [
       "<div>\n",
       "<style scoped>\n",
       "    .dataframe tbody tr th:only-of-type {\n",
       "        vertical-align: middle;\n",
       "    }\n",
       "\n",
       "    .dataframe tbody tr th {\n",
       "        vertical-align: top;\n",
       "    }\n",
       "\n",
       "    .dataframe thead th {\n",
       "        text-align: right;\n",
       "    }\n",
       "</style>\n",
       "<table border=\"1\" class=\"dataframe\">\n",
       "  <thead>\n",
       "    <tr style=\"text-align: right;\">\n",
       "      <th></th>\n",
       "      <th>Result</th>\n",
       "      <th>Significance</th>\n",
       "    </tr>\n",
       "  </thead>\n",
       "  <tbody>\n",
       "    <tr>\n",
       "      <th>Intercept</th>\n",
       "      <td>β=1.8582; 95% CI [1.4732, 2.2432]; t(1556.0)=9...</td>\n",
       "      <td>****</td>\n",
       "    </tr>\n",
       "    <tr>\n",
       "      <th>csp_train</th>\n",
       "      <td>β=0.0; 95% CI [-0.0002, 0.0002]; t(1556.0)=0.0...</td>\n",
       "      <td>ns</td>\n",
       "    </tr>\n",
       "  </tbody>\n",
       "</table>\n",
       "</div>"
      ],
      "text/plain": [
       "                                                      Result Significance\n",
       "Intercept  β=1.8582; 95% CI [1.4732, 2.2432]; t(1556.0)=9...         ****\n",
       "csp_train  β=0.0; 95% CI [-0.0002, 0.0002]; t(1556.0)=0.0...           ns"
      ]
     },
     "metadata": {},
     "output_type": "display_data"
    },
    {
     "data": {
      "text/html": [
       "<div>\n",
       "<style scoped>\n",
       "    .dataframe tbody tr th:only-of-type {\n",
       "        vertical-align: middle;\n",
       "    }\n",
       "\n",
       "    .dataframe tbody tr th {\n",
       "        vertical-align: top;\n",
       "    }\n",
       "\n",
       "    .dataframe thead th {\n",
       "        text-align: right;\n",
       "    }\n",
       "</style>\n",
       "<table border=\"1\" class=\"dataframe\">\n",
       "  <thead>\n",
       "    <tr style=\"text-align: right;\">\n",
       "      <th></th>\n",
       "      <th>R2</th>\n",
       "    </tr>\n",
       "  </thead>\n",
       "  <tbody>\n",
       "    <tr>\n",
       "      <th>Cox-Snell R2</th>\n",
       "      <td>0.000003</td>\n",
       "    </tr>\n",
       "  </tbody>\n",
       "</table>\n",
       "</div>"
      ],
      "text/plain": [
       "                    R2\n",
       "Cox-Snell R2  0.000003"
      ]
     },
     "metadata": {},
     "output_type": "display_data"
    },
    {
     "data": {
      "text/html": [
       "<div>\n",
       "<style scoped>\n",
       "    .dataframe tbody tr th:only-of-type {\n",
       "        vertical-align: middle;\n",
       "    }\n",
       "\n",
       "    .dataframe tbody tr th {\n",
       "        vertical-align: top;\n",
       "    }\n",
       "\n",
       "    .dataframe thead th {\n",
       "        text-align: right;\n",
       "    }\n",
       "</style>\n",
       "<table border=\"1\" class=\"dataframe\">\n",
       "  <thead>\n",
       "    <tr style=\"text-align: right;\">\n",
       "      <th></th>\n",
       "      <th>Result</th>\n",
       "      <th>Significance</th>\n",
       "    </tr>\n",
       "  </thead>\n",
       "  <tbody>\n",
       "    <tr>\n",
       "      <th>Intercept</th>\n",
       "      <td>β=0.2086; 95% CI [-0.0599, 0.4771]; t(1874.0)=...</td>\n",
       "      <td>ns</td>\n",
       "    </tr>\n",
       "    <tr>\n",
       "      <th>csp_train</th>\n",
       "      <td>β=0.0012; 95% CI [0.0009, 0.0015]; t(1874.0)=8...</td>\n",
       "      <td>****</td>\n",
       "    </tr>\n",
       "  </tbody>\n",
       "</table>\n",
       "</div>"
      ],
      "text/plain": [
       "                                                      Result Significance\n",
       "Intercept  β=0.2086; 95% CI [-0.0599, 0.4771]; t(1874.0)=...           ns\n",
       "csp_train  β=0.0012; 95% CI [0.0009, 0.0015]; t(1874.0)=8...         ****"
      ]
     },
     "metadata": {},
     "output_type": "display_data"
    },
    {
     "data": {
      "text/html": [
       "<div>\n",
       "<style scoped>\n",
       "    .dataframe tbody tr th:only-of-type {\n",
       "        vertical-align: middle;\n",
       "    }\n",
       "\n",
       "    .dataframe tbody tr th {\n",
       "        vertical-align: top;\n",
       "    }\n",
       "\n",
       "    .dataframe thead th {\n",
       "        text-align: right;\n",
       "    }\n",
       "</style>\n",
       "<table border=\"1\" class=\"dataframe\">\n",
       "  <thead>\n",
       "    <tr style=\"text-align: right;\">\n",
       "      <th></th>\n",
       "      <th>R2</th>\n",
       "    </tr>\n",
       "  </thead>\n",
       "  <tbody>\n",
       "    <tr>\n",
       "      <th>Cox-Snell R2</th>\n",
       "      <td>0.99644</td>\n",
       "    </tr>\n",
       "  </tbody>\n",
       "</table>\n",
       "</div>"
      ],
      "text/plain": [
       "                   R2\n",
       "Cox-Snell R2  0.99644"
      ]
     },
     "metadata": {},
     "output_type": "display_data"
    },
    {
     "data": {
      "image/png": "[encoded data removed]",
      "text/plain": [
       "<Figure size 640x480 with 1 Axes>"
      ]
     },
     "metadata": {},
     "output_type": "display_data"
    },
    {
     "data": {
      "image/png": "[encoded data removed]",
      "text/plain": [
       "<Figure size 640x480 with 1 Axes>"
      ]
     },
     "metadata": {},
     "output_type": "display_data"
    }
   ],
   "source": [
    "model_eq = 'pref ~ 1 + csp_train'\n",
    "\n",
    "model_gb_stim = smf.glm(model_eq, data = gb.loc[gb.Chr2], \n",
    "                        family = sm.families.Binomial(), \n",
    "                        freq_weights = gb.loc[gb.Chr2].tot).fit(use_t=True)\n",
    "model_gb_stim_summ = model_to_str(model_gb_stim)\n",
    "model_gb_stim_pseudo_r2 = pd.DataFrame({\"R2\": model_gb_stim.pseudo_rsquared()}, index=(\"Cox-Snell R2\",))\n",
    "sm.qqplot(model_gb_stim.resid_deviance, fit=True, line='45');\n",
    "\n",
    "\n",
    "\n",
    "model_gb_ctl = smf.glm(model_eq, data = gb.loc[~gb.Chr2], \n",
    "                        family = sm.families.Binomial(), \n",
    "                        freq_weights = gb.loc[~gb.Chr2].tot).fit(use_t=True)\n",
    "model_gb_ctl_summ = model_to_str(model_gb_ctl)\n",
    "model_gb_ctl_pseudo_r2 = pd.DataFrame({\"R2\": model_gb_ctl.pseudo_rsquared()}, index=(\"Cox-Snell R2\",))\n",
    "sm.qqplot(model_gb_ctl.resid_deviance, fit=True, line='45');\n",
    "\n",
    "\n",
    "display(model_gb_stim_summ, model_gb_stim_pseudo_r2, model_gb_ctl_summ, model_gb_ctl_pseudo_r2)\n",
    "\n",
    "\n",
    "fig2_stats.update({'c_train_v_test_glm_stim_g': model_gb_stim_summ,\n",
    "                   'c_train_v_test_glm_stim_g_r2': model_gb_stim_pseudo_r2 ,\n",
    "                   'c_train_v_test_glm_ctl_g': model_gb_ctl_summ,\n",
    "                   'c_train_v_test_glm_ctl_g_r2': model_gb_ctl_pseudo_r2 })"
   ]
  },
  {
   "cell_type": "markdown",
   "metadata": {
    "tags": []
   },
   "source": [
    "### main plots - correlations"
   ]
  },
  {
   "cell_type": "code",
   "execution_count": 31,
   "metadata": {
    "tags": []
   },
   "outputs": [
    {
     "data": {
      "image/png": "[encoded data removed]",
      "text/plain": [
       "<Figure size 900x350 with 3 Axes>"
      ]
     },
     "metadata": {},
     "output_type": "display_data"
    }
   ],
   "source": [
    "# create the subplot\n",
    "fig, ax = plt.subplots(1, 3, figsize = (9,3.5))\n",
    "\n",
    "# plot testing vs training licks for CS+ and CS-\n",
    "sns.scatterplot(data =gb, x='csp_train', y= 'csp_test', hue='stim', \n",
    "                hue_order = [r'$AgRP^{TdTomato}$', r'$AgRP^{Chr2}$'],\n",
    "                palette = [ ctl_col, stim_col], s=50, ax=ax[0]);\n",
    "sns.scatterplot(data = gb, x='csm_train', y= 'csm_test', hue='stim', \n",
    "                hue_order = [r'$AgRP^{TdTomato}$', r'$AgRP^{Chr2}$'], \n",
    "                legend = False, palette = [ ctl_col, stim_col], s=50, ax=ax[1]);\n",
    "\n",
    "ax[0].legend(loc = 'lower left', bbox_to_anchor = (0,1), frameon = False, title = \"\")\n",
    "\n",
    "# determine common x and y limits for all plots\n",
    "xlims = np.array([ ax[i].get_xlim() for i in range(2)])\n",
    "ylims = np.array([ ax[i].get_ylim() for i in range(2)])\n",
    "lims = np.concatenate((xlims, ylims), axis=0)\n",
    "bnd = (lims[:,0].min(), lims[:,1].max())\n",
    "\n",
    "\n",
    "# plot the diagonal for scatter plots\n",
    "ax[0].plot(bnd, bnd, c = 'k', ls = '--', alpha = .7, lw = 1)\n",
    "ax[1].plot(bnd, bnd, c = 'k', ls = '--', alpha = .7, lw = 1)\n",
    "\n",
    "# plot preference vs training licks\n",
    "sns.scatterplot(data = gb.rename(columns={'tot': 'Total Lick Bursts', 'stim': 'Strain'}),\n",
    "                x='csp_train', y= 'pref', hue='Strain', legend = True, size='Total Lick Bursts',\n",
    "                palette = [ ctl_col, stim_col], s=100, ax=ax[2]);\n",
    "sns.move_legend(ax[2], loc='upper left', bbox_to_anchor = (1,1), frameon = False)\n",
    "\n",
    "\n",
    "# get model predictions separately for stim and control mice\n",
    "x = np.linspace(0,3000,1000) # test values\n",
    "pred_stim_g = model_gb.get_prediction({'Chr2': [True]*x.size, 'csp_train': x})\n",
    "pred_ctl_g = model_gb.get_prediction({'Chr2': [False]*x.size, 'csp_train': x})\n",
    "\n",
    "# plot the model predictions\n",
    "ax[2].plot(x, pred_stim_g.predicted_mean, c=stim_col)\n",
    "ax[2].fill_between(x, pred_stim_g.conf_int()[:,0], \n",
    "                     pred_stim_g.conf_int()[:,1], \n",
    "                     alpha=.3, color = stim_col)\n",
    "ax[2].plot(x,  pred_ctl_g.predicted_mean, c =ctl_col)\n",
    "ax[2].fill_between(x, pred_ctl_g.conf_int()[:,0], \n",
    "                     pred_ctl_g.conf_int()[:,1], \n",
    "                     alpha=.3,color=ctl_col)\n",
    "\n",
    "\n",
    "\n",
    "# label axes and set the axis limits\n",
    "ax[0].set(ylabel = \"CS+ Licks/Test Session\", \n",
    "            xlabel = \"Licks/CS+ Training Session\",\n",
    "            xlim  = bnd, ylim = bnd)\n",
    "ax[1].set(ylabel = \"CS- Licks/Test Session\", \n",
    "            xlabel = \"Licks/CS- Training Session\",\n",
    "            xlim  = bnd, ylim = bnd)\n",
    "\n",
    "ax[2].set(xlabel = 'Licks/CS+ Training Session',\n",
    "            ylabel = 'Burst Preference Index',\n",
    "            ylim = (-.05,1.1))\n",
    "\n",
    "for i in ax.flatten():\n",
    "    for j in i.get_xticklabels() + i.get_yticklabels() :\n",
    "        j.set_fontsize(6)\n",
    "        \n",
    "# format plots\n",
    "sns.despine()\n",
    "fig.tight_layout(pad = 4)\n",
    "\n",
    "#save the figure\n",
    "fig.savefig(fig_save_loc/'pdfs'/'fig2_corr.pdf', transparent=True, bbox_inches='tight')\n",
    "fig.savefig(fig_save_loc/'svgs'/'fig2_corr.svg', transparent=True, bbox_inches='tight')"
   ]
  },
  {
   "cell_type": "markdown",
   "metadata": {
    "tags": []
   },
   "source": [
    "#### stats"
   ]
  },
  {
   "cell_type": "markdown",
   "metadata": {
    "tags": []
   },
   "source": [
    "##### stats - glucose unlimited intake training vs testing licks correlation"
   ]
  },
  {
   "cell_type": "code",
   "execution_count": 32,
   "metadata": {},
   "outputs": [
    {
     "data": {
      "text/html": [
       "<div>\n",
       "<style scoped>\n",
       "    .dataframe tbody tr th:only-of-type {\n",
       "        vertical-align: middle;\n",
       "    }\n",
       "\n",
       "    .dataframe tbody tr th {\n",
       "        vertical-align: top;\n",
       "    }\n",
       "\n",
       "    .dataframe thead th {\n",
       "        text-align: right;\n",
       "    }\n",
       "</style>\n",
       "<table border=\"1\" class=\"dataframe\">\n",
       "  <thead>\n",
       "    <tr style=\"text-align: right;\">\n",
       "      <th></th>\n",
       "      <th>Pearson R</th>\n",
       "      <th>p-value</th>\n",
       "      <th>Significance</th>\n",
       "    </tr>\n",
       "  </thead>\n",
       "  <tbody>\n",
       "    <tr>\n",
       "      <th>Training vs Testing CS+ Licks</th>\n",
       "      <td>0.636017</td>\n",
       "      <td>0.000209</td>\n",
       "      <td>***</td>\n",
       "    </tr>\n",
       "  </tbody>\n",
       "</table>\n",
       "</div>"
      ],
      "text/plain": [
       "                              Pearson R   p-value Significance\n",
       "Training vs Testing CS+ Licks  0.636017  0.000209          ***"
      ]
     },
     "metadata": {},
     "output_type": "display_data"
    },
    {
     "data": {
      "text/html": [
       "<div>\n",
       "<style scoped>\n",
       "    .dataframe tbody tr th:only-of-type {\n",
       "        vertical-align: middle;\n",
       "    }\n",
       "\n",
       "    .dataframe tbody tr th {\n",
       "        vertical-align: top;\n",
       "    }\n",
       "\n",
       "    .dataframe thead th {\n",
       "        text-align: right;\n",
       "    }\n",
       "</style>\n",
       "<table border=\"1\" class=\"dataframe\">\n",
       "  <thead>\n",
       "    <tr style=\"text-align: right;\">\n",
       "      <th></th>\n",
       "      <th>Pearson R</th>\n",
       "      <th>p-value</th>\n",
       "      <th>Significance</th>\n",
       "    </tr>\n",
       "  </thead>\n",
       "  <tbody>\n",
       "    <tr>\n",
       "      <th>Training vs Testing CS+ Licks</th>\n",
       "      <td>-0.159379</td>\n",
       "      <td>0.408902</td>\n",
       "      <td>ns</td>\n",
       "    </tr>\n",
       "  </tbody>\n",
       "</table>\n",
       "</div>"
      ],
      "text/plain": [
       "                              Pearson R   p-value Significance\n",
       "Training vs Testing CS+ Licks -0.159379  0.408902           ns"
      ]
     },
     "metadata": {},
     "output_type": "display_data"
    }
   ],
   "source": [
    "r_csp, p_csp = st.pearsonr(gb['csp_train'], gb['csp_test'])\n",
    "r_csm, p_csm = st.pearsonr(gb['csm_train'], gb['csm_test'])\n",
    "corr_g_p = pd.DataFrame({'Training vs Testing CS+ Licks': [r_csp, p_csp, check_significance(p_csp)]},\n",
    "                      index = ('Pearson R', 'p-value', 'Significance')).T\n",
    "\n",
    "corr_g_m = pd.DataFrame({'Training vs Testing CS+ Licks': [r_csm, p_csm, check_significance(p_csm)]} ,\n",
    "                      index = ('Pearson R', 'p-value', 'Significance')).T\n",
    "\n",
    "display(corr_g_p, corr_g_m )\n",
    "fig2_stats.update({'a_train_v_test_corr_g_csp': corr_g_p,\n",
    "                   'b_train_v_test_corr_g_csm': corr_g_m,})"
   ]
  },
  {
   "cell_type": "markdown",
   "metadata": {
    "tags": []
   },
   "source": [
    "### sex differences"
   ]
  },
  {
   "cell_type": "code",
   "execution_count": 33,
   "metadata": {},
   "outputs": [
    {
     "data": {
      "text/html": [
       "<div>\n",
       "<style scoped>\n",
       "    .dataframe tbody tr th:only-of-type {\n",
       "        vertical-align: middle;\n",
       "    }\n",
       "\n",
       "    .dataframe tbody tr th {\n",
       "        vertical-align: top;\n",
       "    }\n",
       "\n",
       "    .dataframe thead th {\n",
       "        text-align: right;\n",
       "    }\n",
       "</style>\n",
       "<table border=\"1\" class=\"dataframe\">\n",
       "  <thead>\n",
       "    <tr style=\"text-align: right;\">\n",
       "      <th></th>\n",
       "      <th>Result</th>\n",
       "      <th>Significance</th>\n",
       "    </tr>\n",
       "  </thead>\n",
       "  <tbody>\n",
       "    <tr>\n",
       "      <th>Intercept</th>\n",
       "      <td>β=0.0033; 95% CI [-0.3869, 0.3936]; t(2052.0)=...</td>\n",
       "      <td>ns</td>\n",
       "    </tr>\n",
       "    <tr>\n",
       "      <th>C(Chr2)[T.True]</th>\n",
       "      <td>β=1.3197; 95% CI [-0.0072, 2.6466]; t(2052.0)=...</td>\n",
       "      <td>ns</td>\n",
       "    </tr>\n",
       "    <tr>\n",
       "      <th>csp_train</th>\n",
       "      <td>β=0.0014; 95% CI [0.0011, 0.0018]; t(2052.0)=7...</td>\n",
       "      <td>****</td>\n",
       "    </tr>\n",
       "    <tr>\n",
       "      <th>C(Chr2)[T.True]:csp_train</th>\n",
       "      <td>β=-0.0012; 95% CI [-0.0019, -0.0005]; t(2052.0...</td>\n",
       "      <td>***</td>\n",
       "    </tr>\n",
       "  </tbody>\n",
       "</table>\n",
       "</div>"
      ],
      "text/plain": [
       "                                                                      Result  \\\n",
       "Intercept                  β=0.0033; 95% CI [-0.3869, 0.3936]; t(2052.0)=...   \n",
       "C(Chr2)[T.True]            β=1.3197; 95% CI [-0.0072, 2.6466]; t(2052.0)=...   \n",
       "csp_train                  β=0.0014; 95% CI [0.0011, 0.0018]; t(2052.0)=7...   \n",
       "C(Chr2)[T.True]:csp_train  β=-0.0012; 95% CI [-0.0019, -0.0005]; t(2052.0...   \n",
       "\n",
       "                          Significance  \n",
       "Intercept                           ns  \n",
       "C(Chr2)[T.True]                     ns  \n",
       "csp_train                         ****  \n",
       "C(Chr2)[T.True]:csp_train          ***  "
      ]
     },
     "metadata": {},
     "output_type": "display_data"
    },
    {
     "data": {
      "text/html": [
       "<div>\n",
       "<style scoped>\n",
       "    .dataframe tbody tr th:only-of-type {\n",
       "        vertical-align: middle;\n",
       "    }\n",
       "\n",
       "    .dataframe tbody tr th {\n",
       "        vertical-align: top;\n",
       "    }\n",
       "\n",
       "    .dataframe thead th {\n",
       "        text-align: right;\n",
       "    }\n",
       "</style>\n",
       "<table border=\"1\" class=\"dataframe\">\n",
       "  <thead>\n",
       "    <tr style=\"text-align: right;\">\n",
       "      <th></th>\n",
       "      <th>R2</th>\n",
       "    </tr>\n",
       "  </thead>\n",
       "  <tbody>\n",
       "    <tr>\n",
       "      <th>Cox-Snell R2</th>\n",
       "      <td>0.992094</td>\n",
       "    </tr>\n",
       "  </tbody>\n",
       "</table>\n",
       "</div>"
      ],
      "text/plain": [
       "                    R2\n",
       "Cox-Snell R2  0.992094"
      ]
     },
     "metadata": {},
     "output_type": "display_data"
    },
    {
     "data": {
      "text/html": [
       "<div>\n",
       "<style scoped>\n",
       "    .dataframe tbody tr th:only-of-type {\n",
       "        vertical-align: middle;\n",
       "    }\n",
       "\n",
       "    .dataframe tbody tr th {\n",
       "        vertical-align: top;\n",
       "    }\n",
       "\n",
       "    .dataframe thead th {\n",
       "        text-align: right;\n",
       "    }\n",
       "</style>\n",
       "<table border=\"1\" class=\"dataframe\">\n",
       "  <thead>\n",
       "    <tr style=\"text-align: right;\">\n",
       "      <th></th>\n",
       "      <th>Result</th>\n",
       "      <th>Significance</th>\n",
       "    </tr>\n",
       "  </thead>\n",
       "  <tbody>\n",
       "    <tr>\n",
       "      <th>Intercept</th>\n",
       "      <td>β=0.7489; 95% CI [0.2987, 1.1992]; t(1374.0)=3...</td>\n",
       "      <td>**</td>\n",
       "    </tr>\n",
       "    <tr>\n",
       "      <th>C(Chr2)[T.True]</th>\n",
       "      <td>β=1.5007; 95% CI [0.6447, 2.3566]; t(1374.0)=3...</td>\n",
       "      <td>***</td>\n",
       "    </tr>\n",
       "    <tr>\n",
       "      <th>csp_train</th>\n",
       "      <td>β=0.0004; 95% CI [-0.0001, 0.0009]; t(1374.0)=...</td>\n",
       "      <td>ns</td>\n",
       "    </tr>\n",
       "    <tr>\n",
       "      <th>C(Chr2)[T.True]:csp_train</th>\n",
       "      <td>β=-0.0008; 95% CI [-0.0017, 0.0001]; t(1374.0)...</td>\n",
       "      <td>ns</td>\n",
       "    </tr>\n",
       "  </tbody>\n",
       "</table>\n",
       "</div>"
      ],
      "text/plain": [
       "                                                                      Result  \\\n",
       "Intercept                  β=0.7489; 95% CI [0.2987, 1.1992]; t(1374.0)=3...   \n",
       "C(Chr2)[T.True]            β=1.5007; 95% CI [0.6447, 2.3566]; t(1374.0)=3...   \n",
       "csp_train                  β=0.0004; 95% CI [-0.0001, 0.0009]; t(1374.0)=...   \n",
       "C(Chr2)[T.True]:csp_train  β=-0.0008; 95% CI [-0.0017, 0.0001]; t(1374.0)...   \n",
       "\n",
       "                          Significance  \n",
       "Intercept                           **  \n",
       "C(Chr2)[T.True]                    ***  \n",
       "csp_train                           ns  \n",
       "C(Chr2)[T.True]:csp_train           ns  "
      ]
     },
     "metadata": {},
     "output_type": "display_data"
    },
    {
     "data": {
      "text/html": [
       "<div>\n",
       "<style scoped>\n",
       "    .dataframe tbody tr th:only-of-type {\n",
       "        vertical-align: middle;\n",
       "    }\n",
       "\n",
       "    .dataframe tbody tr th {\n",
       "        vertical-align: top;\n",
       "    }\n",
       "\n",
       "    .dataframe thead th {\n",
       "        text-align: right;\n",
       "    }\n",
       "</style>\n",
       "<table border=\"1\" class=\"dataframe\">\n",
       "  <thead>\n",
       "    <tr style=\"text-align: right;\">\n",
       "      <th></th>\n",
       "      <th>R2</th>\n",
       "    </tr>\n",
       "  </thead>\n",
       "  <tbody>\n",
       "    <tr>\n",
       "      <th>Cox-Snell R2</th>\n",
       "      <td>0.935906</td>\n",
       "    </tr>\n",
       "  </tbody>\n",
       "</table>\n",
       "</div>"
      ],
      "text/plain": [
       "                    R2\n",
       "Cox-Snell R2  0.935906"
      ]
     },
     "metadata": {},
     "output_type": "display_data"
    },
    {
     "data": {
      "image/png": "[encoded data removed]",
      "text/plain": [
       "<Figure size 640x480 with 1 Axes>"
      ]
     },
     "metadata": {},
     "output_type": "display_data"
    },
    {
     "data": {
      "image/png": "[encoded data removed]",
      "text/plain": [
       "<Figure size 640x480 with 1 Axes>"
      ]
     },
     "metadata": {},
     "output_type": "display_data"
    }
   ],
   "source": [
    "model_eq = 'pref ~ 1 + C(Chr2)*csp_train'\n",
    "\n",
    "model_gm = smf.glm(model_eq, data = gb.loc[gb.sex=='M'], \n",
    "                    family = sm.families.Binomial(), \n",
    "                    freq_weights = gb.loc[gb.sex=='M'].tot).fit(use_t=True)\n",
    "model_gm_summ = model_to_str(model_gm)\n",
    "model_gm_pseudo_r2 = pd.DataFrame({\"R2\": model_gm.pseudo_rsquared()}, index=(\"Cox-Snell R2\",))\n",
    "sm.qqplot(model_gm.resid_deviance, fit=True, line='45');\n",
    "\n",
    "\n",
    "\n",
    "model_gf = smf.glm(model_eq, data = gb.loc[gb.sex=='F'], \n",
    "                    family = sm.families.Binomial(), \n",
    "                    freq_weights = gb.loc[gb.sex=='F'].tot).fit(use_t=True)\n",
    "model_gf_summ = model_to_str(model_gf)\n",
    "model_gf_pseudo_r2 = pd.DataFrame({\"R2\": model_gf.pseudo_rsquared()}, index=(\"Cox-Snell R2\",))\n",
    "sm.qqplot(model_gf.resid_deviance, fit=True, line='45');\n",
    "\n",
    "\n",
    "display(model_gm_summ, model_gm_pseudo_r2, model_gf_summ, model_gf_pseudo_r2)\n",
    "\n",
    "fig2_stats.update({'train_v_test_glm_gm': model_gm_summ,\n",
    "                   'train_v_test_glm_gm_r2': model_gm_pseudo_r2 ,\n",
    "                   'train_v_test_glm_gf': model_gm_summ,\n",
    "                   'train_v_test_glm_gf_r2': model_gm_pseudo_r2 })"
   ]
  },
  {
   "cell_type": "markdown",
   "metadata": {},
   "source": [
    "### main plot - sex differences"
   ]
  },
  {
   "cell_type": "code",
   "execution_count": 34,
   "metadata": {},
   "outputs": [
    {
     "name": "stderr",
     "output_type": "stream",
     "text": [
      "/var/folders/qf/0vf10ypd4m736p1sw5dw10v00000gn/T/ipykernel_65728/795944202.py:54: UserWarning: Matplotlib is currently using module://matplotlib_inline.backend_inline, which is a non-GUI backend, so cannot show the figure.\n",
      "  fig.show()\n"
     ]
    },
    {
     "data": {
      "image/png": "[encoded data removed]",
      "text/plain": [
       "<Figure size 900x600 with 6 Axes>"
      ]
     },
     "metadata": {},
     "output_type": "display_data"
    }
   ],
   "source": [
    "# create subplot\n",
    "fig, ax = plt.subplots(2,3, figsize = (9,6))\n",
    "\n",
    "# plot training licks split by strain and sex\n",
    "_, train_sex_diff_stats = plot_sex_diff(gb, 'csp_train', ax=ax[0,0], palette = [ctl_col, stim_col], ylabel = \"CS+ Licks/Training Session\")\n",
    "# plot total test licks by strain and sex\n",
    "g, test_sex_diff_stats = plot_sex_diff(gb, 'tot', ax=ax[0,1], palette = [ctl_col, stim_col], ylabel = \"Cummulative Testing Lick Bursts\")\n",
    "g.get_legend().remove()\n",
    "# plot preference split by strain and sex\n",
    "_, pref_sex_diff_stats = plot_sex_diff_pref(gb, ax=ax[0,2], palette = [ctl_col, stim_col])\n",
    "\n",
    "# plot feeding data split by sex\n",
    "feeding = (pd.read_csv(os.path.join(data_dir,\"raw_data/normal_intake/opto_validation.csv\"))\n",
    "             .rename(columns = {'Mouse ': 'mouse'})\n",
    "             .set_index('mouse'))\n",
    "feeding['sex'] = df_test_g.loc[True,].sex.unstack(['day','CS']).iloc[:,0]\n",
    "sns.swarmplot(data = feeding, x = 'sex', y = 'stim', color = 'k', order = ['M','F'],\n",
    "              alpha = .5, ax = ax[1,1])\n",
    "sns.violinplot(data = feeding, x = 'sex', y = 'stim',  order = ['M','F'],  \n",
    "               palette = ['#C8E7F5', '#F8B7CD'], saturation = 1., \n",
    "               linewidth = 0, ax = ax[1,1])\n",
    "ax[1,1].set_ylabel(\"Stimulation Induced Food Intake (g)\")\n",
    "ax[1,1].set_xlabel(\"\")\n",
    "ax[1,1].set_xticklabels([\"Male\", \"Female\"])\n",
    "\n",
    "# compute stats\n",
    "fint_sex_diff = st.ttest_ind(feeding.loc[feeding.sex=='F', 'stim'], \n",
    "                             feeding.loc[feeding.sex=='M', 'stim'], \n",
    "                             equal_var = False)\n",
    "df = feeding.shape[0] - 2\n",
    "fint_sex_diff = pd.DataFrame(list(fint_sex_diff) + [df], index = ['t', 'p-value', 'df'], columns = ['ttest']).T\n",
    "\n",
    "# plot the stats\n",
    "y = feeding.stim.max()\n",
    "plot_significance(fint_sex_diff.loc['ttest','p-value'], ax[1,1], x1=0, x2=1, yy= 1.4*y, h=.05*y)\n",
    "\n",
    "# adjust axis limits\n",
    "for i in range(2):\n",
    "    for j in range(2):\n",
    "        ax[i,j].set_xlim(-.5,1.5)\n",
    "\n",
    "for i in ax.flatten(): \n",
    "    for j in i.get_yticklabels():\n",
    "        j.set_fontsize(6)\n",
    "        \n",
    "ax[0,0].set_ylim(-1100, 5500)\n",
    "ax[1,1].set_ylim(-.1,1.3)\n",
    "ax[1,0].axis('off')\n",
    "ax[1,2].axis('off')\n",
    "\n",
    "# format the plots\n",
    "sns.despine()\n",
    "fig.tight_layout(pad = 4)\n",
    "fig.show()\n",
    "\n",
    "# save the figure\n",
    "fig.savefig(fig_save_loc/'pdfs'/'fig2_sex_diff.pdf', transparent=True, bbox_inches='tight')\n",
    "fig.savefig(fig_save_loc/'svgs'/'fig2_sex_diff.svg', transparent=True, bbox_inches='tight')"
   ]
  },
  {
   "cell_type": "markdown",
   "metadata": {
    "tags": []
   },
   "source": [
    "#### stats"
   ]
  },
  {
   "cell_type": "markdown",
   "metadata": {
    "tags": []
   },
   "source": [
    "##### stats - train licks"
   ]
  },
  {
   "cell_type": "code",
   "execution_count": 35,
   "metadata": {},
   "outputs": [
    {
     "data": {
      "text/html": [
       "<div>\n",
       "<style scoped>\n",
       "    .dataframe tbody tr th:only-of-type {\n",
       "        vertical-align: middle;\n",
       "    }\n",
       "\n",
       "    .dataframe tbody tr th {\n",
       "        vertical-align: top;\n",
       "    }\n",
       "\n",
       "    .dataframe thead th {\n",
       "        text-align: right;\n",
       "    }\n",
       "</style>\n",
       "<table border=\"1\" class=\"dataframe\">\n",
       "  <thead>\n",
       "    <tr style=\"text-align: right;\">\n",
       "      <th></th>\n",
       "      <th>Source</th>\n",
       "      <th>SS</th>\n",
       "      <th>DF</th>\n",
       "      <th>MS</th>\n",
       "      <th>F</th>\n",
       "      <th>p-unc</th>\n",
       "      <th>np2</th>\n",
       "      <th>Significance</th>\n",
       "    </tr>\n",
       "  </thead>\n",
       "  <tbody>\n",
       "    <tr>\n",
       "      <th>0</th>\n",
       "      <td>sex</td>\n",
       "      <td>4.473879e+06</td>\n",
       "      <td>1.0</td>\n",
       "      <td>4.473879e+06</td>\n",
       "      <td>27.073443</td>\n",
       "      <td>0.000022</td>\n",
       "      <td>0.519909</td>\n",
       "      <td>****</td>\n",
       "    </tr>\n",
       "    <tr>\n",
       "      <th>1</th>\n",
       "      <td>Chr2</td>\n",
       "      <td>3.359952e+06</td>\n",
       "      <td>1.0</td>\n",
       "      <td>3.359952e+06</td>\n",
       "      <td>20.332576</td>\n",
       "      <td>0.000133</td>\n",
       "      <td>0.448520</td>\n",
       "      <td>***</td>\n",
       "    </tr>\n",
       "    <tr>\n",
       "      <th>2</th>\n",
       "      <td>sex * Chr2</td>\n",
       "      <td>1.242175e+06</td>\n",
       "      <td>1.0</td>\n",
       "      <td>1.242175e+06</td>\n",
       "      <td>7.516958</td>\n",
       "      <td>0.011127</td>\n",
       "      <td>0.231170</td>\n",
       "      <td>*</td>\n",
       "    </tr>\n",
       "    <tr>\n",
       "      <th>3</th>\n",
       "      <td>Residual</td>\n",
       "      <td>4.131243e+06</td>\n",
       "      <td>25.0</td>\n",
       "      <td>1.652497e+05</td>\n",
       "      <td>NaN</td>\n",
       "      <td>NaN</td>\n",
       "      <td>NaN</td>\n",
       "      <td>ns</td>\n",
       "    </tr>\n",
       "  </tbody>\n",
       "</table>\n",
       "</div>"
      ],
      "text/plain": [
       "       Source            SS    DF            MS          F     p-unc  \\\n",
       "0         sex  4.473879e+06   1.0  4.473879e+06  27.073443  0.000022   \n",
       "1        Chr2  3.359952e+06   1.0  3.359952e+06  20.332576  0.000133   \n",
       "2  sex * Chr2  1.242175e+06   1.0  1.242175e+06   7.516958  0.011127   \n",
       "3    Residual  4.131243e+06  25.0  1.652497e+05        NaN       NaN   \n",
       "\n",
       "        np2 Significance  \n",
       "0  0.519909         ****  \n",
       "1  0.448520          ***  \n",
       "2  0.231170            *  \n",
       "3       NaN           ns  "
      ]
     },
     "metadata": {},
     "output_type": "display_data"
    },
    {
     "data": {
      "text/html": [
       "<div>\n",
       "<style scoped>\n",
       "    .dataframe tbody tr th:only-of-type {\n",
       "        vertical-align: middle;\n",
       "    }\n",
       "\n",
       "    .dataframe tbody tr th {\n",
       "        vertical-align: top;\n",
       "    }\n",
       "\n",
       "    .dataframe thead th {\n",
       "        text-align: right;\n",
       "    }\n",
       "</style>\n",
       "<table border=\"1\" class=\"dataframe\">\n",
       "  <thead>\n",
       "    <tr style=\"text-align: right;\">\n",
       "      <th></th>\n",
       "      <th>comparison</th>\n",
       "      <th>Chr2</th>\n",
       "      <th>t</th>\n",
       "      <th>p-value</th>\n",
       "      <th>df</th>\n",
       "      <th>sex</th>\n",
       "      <th>Corrected p-value</th>\n",
       "      <th>Significance</th>\n",
       "    </tr>\n",
       "  </thead>\n",
       "  <tbody>\n",
       "    <tr>\n",
       "      <th>0</th>\n",
       "      <td>Male vs Female</td>\n",
       "      <td>False</td>\n",
       "      <td>1.784885</td>\n",
       "      <td>0.099583</td>\n",
       "      <td>13.0</td>\n",
       "      <td>NaN</td>\n",
       "      <td>0.189249</td>\n",
       "      <td>ns</td>\n",
       "    </tr>\n",
       "    <tr>\n",
       "      <th>1</th>\n",
       "      <td>Male vs Female</td>\n",
       "      <td>True</td>\n",
       "      <td>5.989366</td>\n",
       "      <td>0.000131</td>\n",
       "      <td>12.0</td>\n",
       "      <td>NaN</td>\n",
       "      <td>0.000524</td>\n",
       "      <td>***</td>\n",
       "    </tr>\n",
       "    <tr>\n",
       "      <th>2</th>\n",
       "      <td>Stim vs Control</td>\n",
       "      <td>NaN</td>\n",
       "      <td>1.079443</td>\n",
       "      <td>0.306444</td>\n",
       "      <td>11.0</td>\n",
       "      <td>F</td>\n",
       "      <td>0.306444</td>\n",
       "      <td>ns</td>\n",
       "    </tr>\n",
       "    <tr>\n",
       "      <th>3</th>\n",
       "      <td>Stim vs Control</td>\n",
       "      <td>NaN</td>\n",
       "      <td>4.803606</td>\n",
       "      <td>0.000396</td>\n",
       "      <td>14.0</td>\n",
       "      <td>M</td>\n",
       "      <td>0.001188</td>\n",
       "      <td>**</td>\n",
       "    </tr>\n",
       "  </tbody>\n",
       "</table>\n",
       "</div>"
      ],
      "text/plain": [
       "        comparison   Chr2         t   p-value    df  sex  Corrected p-value  \\\n",
       "0   Male vs Female  False  1.784885  0.099583  13.0  NaN           0.189249   \n",
       "1   Male vs Female   True  5.989366  0.000131  12.0  NaN           0.000524   \n",
       "2  Stim vs Control    NaN  1.079443  0.306444  11.0    F           0.306444   \n",
       "3  Stim vs Control    NaN  4.803606  0.000396  14.0    M           0.001188   \n",
       "\n",
       "  Significance  \n",
       "0           ns  \n",
       "1          ***  \n",
       "2           ns  \n",
       "3           **  "
      ]
     },
     "metadata": {},
     "output_type": "display_data"
    },
    {
     "data": {
      "image/png": "[encoded data removed]",
      "text/plain": [
       "<Figure size 640x480 with 1 Axes>"
      ]
     },
     "metadata": {},
     "output_type": "display_data"
    }
   ],
   "source": [
    "model = smf.ols('csp_train ~ C(sex, Sum)*C(Chr2, Sum)', data=gb).fit()\n",
    "sm.qqplot(model.resid,fit=True, line='45');\n",
    "anova_train_sex_diff = pg.anova(data = gb, dv = 'csp_train', between = ['sex', 'Chr2'])\n",
    "anova_train_sex_diff['Significance'] = anova_train_sex_diff['p-unc'].apply(check_significance)\n",
    "train_sex_diff_stats['Significance'] = train_sex_diff_stats['Corrected p-value'].apply(check_significance)\n",
    "\n",
    "display(anova_train_sex_diff,  train_sex_diff_stats)\n",
    "fig2_stats.update({'d_anova_train_licks_sex_diff': anova_train_sex_diff,\n",
    "                   'd_train_licks_sex_diff_stat': train_sex_diff_stats})"
   ]
  },
  {
   "cell_type": "markdown",
   "metadata": {
    "tags": []
   },
   "source": [
    "##### stats - total test bursts"
   ]
  },
  {
   "cell_type": "code",
   "execution_count": 36,
   "metadata": {
    "tags": []
   },
   "outputs": [
    {
     "data": {
      "text/html": [
       "<div>\n",
       "<style scoped>\n",
       "    .dataframe tbody tr th:only-of-type {\n",
       "        vertical-align: middle;\n",
       "    }\n",
       "\n",
       "    .dataframe tbody tr th {\n",
       "        vertical-align: top;\n",
       "    }\n",
       "\n",
       "    .dataframe thead th {\n",
       "        text-align: right;\n",
       "    }\n",
       "</style>\n",
       "<table border=\"1\" class=\"dataframe\">\n",
       "  <thead>\n",
       "    <tr style=\"text-align: right;\">\n",
       "      <th></th>\n",
       "      <th>Source</th>\n",
       "      <th>SS</th>\n",
       "      <th>DF</th>\n",
       "      <th>MS</th>\n",
       "      <th>F</th>\n",
       "      <th>p-unc</th>\n",
       "      <th>np2</th>\n",
       "      <th>Significance</th>\n",
       "    </tr>\n",
       "  </thead>\n",
       "  <tbody>\n",
       "    <tr>\n",
       "      <th>0</th>\n",
       "      <td>sex</td>\n",
       "      <td>3809.705370</td>\n",
       "      <td>1.0</td>\n",
       "      <td>3809.705370</td>\n",
       "      <td>1.700918</td>\n",
       "      <td>0.204049</td>\n",
       "      <td>0.063703</td>\n",
       "      <td>ns</td>\n",
       "    </tr>\n",
       "    <tr>\n",
       "      <th>1</th>\n",
       "      <td>Chr2</td>\n",
       "      <td>1553.914894</td>\n",
       "      <td>1.0</td>\n",
       "      <td>1553.914894</td>\n",
       "      <td>0.693776</td>\n",
       "      <td>0.412770</td>\n",
       "      <td>0.027002</td>\n",
       "      <td>ns</td>\n",
       "    </tr>\n",
       "    <tr>\n",
       "      <th>2</th>\n",
       "      <td>sex * Chr2</td>\n",
       "      <td>1593.227964</td>\n",
       "      <td>1.0</td>\n",
       "      <td>1593.227964</td>\n",
       "      <td>0.711328</td>\n",
       "      <td>0.407001</td>\n",
       "      <td>0.027666</td>\n",
       "      <td>ns</td>\n",
       "    </tr>\n",
       "    <tr>\n",
       "      <th>3</th>\n",
       "      <td>Residual</td>\n",
       "      <td>55994.857143</td>\n",
       "      <td>25.0</td>\n",
       "      <td>2239.794286</td>\n",
       "      <td>NaN</td>\n",
       "      <td>NaN</td>\n",
       "      <td>NaN</td>\n",
       "      <td>ns</td>\n",
       "    </tr>\n",
       "  </tbody>\n",
       "</table>\n",
       "</div>"
      ],
      "text/plain": [
       "       Source            SS    DF           MS         F     p-unc       np2  \\\n",
       "0         sex   3809.705370   1.0  3809.705370  1.700918  0.204049  0.063703   \n",
       "1        Chr2   1553.914894   1.0  1553.914894  0.693776  0.412770  0.027002   \n",
       "2  sex * Chr2   1593.227964   1.0  1593.227964  0.711328  0.407001  0.027666   \n",
       "3    Residual  55994.857143  25.0  2239.794286       NaN       NaN       NaN   \n",
       "\n",
       "  Significance  \n",
       "0           ns  \n",
       "1           ns  \n",
       "2           ns  \n",
       "3           ns  "
      ]
     },
     "metadata": {},
     "output_type": "display_data"
    },
    {
     "data": {
      "text/html": [
       "<div>\n",
       "<style scoped>\n",
       "    .dataframe tbody tr th:only-of-type {\n",
       "        vertical-align: middle;\n",
       "    }\n",
       "\n",
       "    .dataframe tbody tr th {\n",
       "        vertical-align: top;\n",
       "    }\n",
       "\n",
       "    .dataframe thead th {\n",
       "        text-align: right;\n",
       "    }\n",
       "</style>\n",
       "<table border=\"1\" class=\"dataframe\">\n",
       "  <thead>\n",
       "    <tr style=\"text-align: right;\">\n",
       "      <th></th>\n",
       "      <th>comparison</th>\n",
       "      <th>Chr2</th>\n",
       "      <th>t</th>\n",
       "      <th>p-value</th>\n",
       "      <th>df</th>\n",
       "      <th>sex</th>\n",
       "      <th>Corrected p-value</th>\n",
       "      <th>Significance</th>\n",
       "    </tr>\n",
       "  </thead>\n",
       "  <tbody>\n",
       "    <tr>\n",
       "      <th>0</th>\n",
       "      <td>Male vs Female</td>\n",
       "      <td>False</td>\n",
       "      <td>1.214649</td>\n",
       "      <td>0.247963</td>\n",
       "      <td>13.0</td>\n",
       "      <td>NaN</td>\n",
       "      <td>0.680143</td>\n",
       "      <td>ns</td>\n",
       "    </tr>\n",
       "    <tr>\n",
       "      <th>1</th>\n",
       "      <td>Male vs Female</td>\n",
       "      <td>True</td>\n",
       "      <td>0.609559</td>\n",
       "      <td>0.553861</td>\n",
       "      <td>12.0</td>\n",
       "      <td>NaN</td>\n",
       "      <td>0.800960</td>\n",
       "      <td>ns</td>\n",
       "    </tr>\n",
       "    <tr>\n",
       "      <th>2</th>\n",
       "      <td>Stim vs Control</td>\n",
       "      <td>NaN</td>\n",
       "      <td>0.099753</td>\n",
       "      <td>0.923018</td>\n",
       "      <td>11.0</td>\n",
       "      <td>F</td>\n",
       "      <td>0.923018</td>\n",
       "      <td>ns</td>\n",
       "    </tr>\n",
       "    <tr>\n",
       "      <th>3</th>\n",
       "      <td>Stim vs Control</td>\n",
       "      <td>NaN</td>\n",
       "      <td>-1.021953</td>\n",
       "      <td>0.333110</td>\n",
       "      <td>14.0</td>\n",
       "      <td>M</td>\n",
       "      <td>0.703406</td>\n",
       "      <td>ns</td>\n",
       "    </tr>\n",
       "  </tbody>\n",
       "</table>\n",
       "</div>"
      ],
      "text/plain": [
       "        comparison   Chr2         t   p-value    df  sex  Corrected p-value  \\\n",
       "0   Male vs Female  False  1.214649  0.247963  13.0  NaN           0.680143   \n",
       "1   Male vs Female   True  0.609559  0.553861  12.0  NaN           0.800960   \n",
       "2  Stim vs Control    NaN  0.099753  0.923018  11.0    F           0.923018   \n",
       "3  Stim vs Control    NaN -1.021953  0.333110  14.0    M           0.703406   \n",
       "\n",
       "  Significance  \n",
       "0           ns  \n",
       "1           ns  \n",
       "2           ns  \n",
       "3           ns  "
      ]
     },
     "metadata": {},
     "output_type": "display_data"
    },
    {
     "data": {
      "image/png": "[encoded data removed]",
      "text/plain": [
       "<Figure size 640x480 with 1 Axes>"
      ]
     },
     "metadata": {},
     "output_type": "display_data"
    }
   ],
   "source": [
    "model = smf.ols('tot ~ C(sex, Sum)*C(Chr2, Sum)', data=gb).fit()\n",
    "sm.qqplot(model.resid,fit=True, line='45');\n",
    "anova_test_sex_diff = pg.anova(data = gb, dv = 'tot', between = ['sex', 'Chr2'])\n",
    "anova_test_sex_diff['Significance'] = anova_test_sex_diff['p-unc'].apply(check_significance)\n",
    "test_sex_diff_stats['Significance'] = test_sex_diff_stats['Corrected p-value'].apply(check_significance)\n",
    "\n",
    "\n",
    "display(anova_test_sex_diff,  test_sex_diff_stats)\n",
    "fig2_stats.update({'e_anova_test_licks_sex_diff': anova_test_sex_diff,\n",
    "                   'e_test_licks_sex_diff_stat': test_sex_diff_stats})"
   ]
  },
  {
   "cell_type": "markdown",
   "metadata": {
    "tags": []
   },
   "source": [
    "##### stats - burst preference indices"
   ]
  },
  {
   "cell_type": "code",
   "execution_count": 54,
   "metadata": {},
   "outputs": [],
   "source": [
    "%%R -i gb -o pref_anova\n",
    "pref_anova <- anova(glm('pref ~ factor(sex)*factor(Chr2)', data = gb, family = binomial, weights = tot), test = \"Chisq\")\n"
   ]
  },
  {
   "cell_type": "code",
   "execution_count": 38,
   "metadata": {},
   "outputs": [
    {
     "data": {
      "text/html": [
       "<div>\n",
       "<style scoped>\n",
       "    .dataframe tbody tr th:only-of-type {\n",
       "        vertical-align: middle;\n",
       "    }\n",
       "\n",
       "    .dataframe tbody tr th {\n",
       "        vertical-align: top;\n",
       "    }\n",
       "\n",
       "    .dataframe thead th {\n",
       "        text-align: right;\n",
       "    }\n",
       "</style>\n",
       "<table border=\"1\" class=\"dataframe\">\n",
       "  <thead>\n",
       "    <tr style=\"text-align: right;\">\n",
       "      <th></th>\n",
       "      <th>Df</th>\n",
       "      <th>Deviance</th>\n",
       "      <th>Resid. Df</th>\n",
       "      <th>Resid. Dev</th>\n",
       "      <th>Pr(&gt;Chi)</th>\n",
       "      <th>Significance</th>\n",
       "    </tr>\n",
       "  </thead>\n",
       "  <tbody>\n",
       "    <tr>\n",
       "      <th>NULL</th>\n",
       "      <td>-2147483648</td>\n",
       "      <td>NaN</td>\n",
       "      <td>28</td>\n",
       "      <td>324.178772</td>\n",
       "      <td>NaN</td>\n",
       "      <td>ns</td>\n",
       "    </tr>\n",
       "    <tr>\n",
       "      <th>factor(sex)</th>\n",
       "      <td>1</td>\n",
       "      <td>12.687048</td>\n",
       "      <td>27</td>\n",
       "      <td>311.491724</td>\n",
       "      <td>3.681970e-04</td>\n",
       "      <td>***</td>\n",
       "    </tr>\n",
       "    <tr>\n",
       "      <th>factor(Chr2)</th>\n",
       "      <td>1</td>\n",
       "      <td>29.196423</td>\n",
       "      <td>26</td>\n",
       "      <td>282.295301</td>\n",
       "      <td>6.539984e-08</td>\n",
       "      <td>****</td>\n",
       "    </tr>\n",
       "    <tr>\n",
       "      <th>factor(sex):factor(Chr2)</th>\n",
       "      <td>1</td>\n",
       "      <td>7.651014</td>\n",
       "      <td>25</td>\n",
       "      <td>274.644287</td>\n",
       "      <td>5.674043e-03</td>\n",
       "      <td>**</td>\n",
       "    </tr>\n",
       "  </tbody>\n",
       "</table>\n",
       "</div>"
      ],
      "text/plain": [
       "                                  Df   Deviance  Resid. Df  Resid. Dev  \\\n",
       "NULL                     -2147483648        NaN         28  324.178772   \n",
       "factor(sex)                        1  12.687048         27  311.491724   \n",
       "factor(Chr2)                       1  29.196423         26  282.295301   \n",
       "factor(sex):factor(Chr2)           1   7.651014         25  274.644287   \n",
       "\n",
       "                              Pr(>Chi) Significance  \n",
       "NULL                               NaN           ns  \n",
       "factor(sex)               3.681970e-04          ***  \n",
       "factor(Chr2)              6.539984e-08         ****  \n",
       "factor(sex):factor(Chr2)  5.674043e-03           **  "
      ]
     },
     "metadata": {},
     "output_type": "display_data"
    },
    {
     "data": {
      "text/html": [
       "<div>\n",
       "<style scoped>\n",
       "    .dataframe tbody tr th:only-of-type {\n",
       "        vertical-align: middle;\n",
       "    }\n",
       "\n",
       "    .dataframe tbody tr th {\n",
       "        vertical-align: top;\n",
       "    }\n",
       "\n",
       "    .dataframe thead th {\n",
       "        text-align: right;\n",
       "    }\n",
       "</style>\n",
       "<table border=\"1\" class=\"dataframe\">\n",
       "  <thead>\n",
       "    <tr style=\"text-align: right;\">\n",
       "      <th></th>\n",
       "      <th>comparison</th>\n",
       "      <th>Chr2</th>\n",
       "      <th>coef</th>\n",
       "      <th>t</th>\n",
       "      <th>CI</th>\n",
       "      <th>p-value</th>\n",
       "      <th>df</th>\n",
       "      <th>sex</th>\n",
       "      <th>Corrected p-value</th>\n",
       "      <th>Significance</th>\n",
       "    </tr>\n",
       "  </thead>\n",
       "  <tbody>\n",
       "    <tr>\n",
       "      <th>0</th>\n",
       "      <td>Male vs Female</td>\n",
       "      <td>False</td>\n",
       "      <td>0.5341573428649018±0.11568208378795464</td>\n",
       "      <td>4.617460</td>\n",
       "      <td>0.3074, 0.7609</td>\n",
       "      <td>3.884664e-06</td>\n",
       "      <td>1874.0</td>\n",
       "      <td>NaN</td>\n",
       "      <td>1.165395e-05</td>\n",
       "      <td>****</td>\n",
       "    </tr>\n",
       "    <tr>\n",
       "      <th>1</th>\n",
       "      <td>Male vs Female</td>\n",
       "      <td>True</td>\n",
       "      <td>0.010578871170580928±0.15062260749815748</td>\n",
       "      <td>0.070234</td>\n",
       "      <td>-0.2846, 0.3058</td>\n",
       "      <td>9.440072e-01</td>\n",
       "      <td>1556.0</td>\n",
       "      <td>NaN</td>\n",
       "      <td>9.440072e-01</td>\n",
       "      <td>ns</td>\n",
       "    </tr>\n",
       "    <tr>\n",
       "      <th>2</th>\n",
       "      <td>Stim vs Control</td>\n",
       "      <td>NaN</td>\n",
       "      <td>0.7903582077295128±0.14288181639751613</td>\n",
       "      <td>5.531552</td>\n",
       "      <td>0.5103, 1.0704</td>\n",
       "      <td>3.174096e-08</td>\n",
       "      <td>1376.0</td>\n",
       "      <td>F</td>\n",
       "      <td>1.269638e-07</td>\n",
       "      <td>****</td>\n",
       "    </tr>\n",
       "    <tr>\n",
       "      <th>3</th>\n",
       "      <td>Stim vs Control</td>\n",
       "      <td>NaN</td>\n",
       "      <td>0.2667797360351908±0.12511714887262215</td>\n",
       "      <td>2.132240</td>\n",
       "      <td>0.0216, 0.512</td>\n",
       "      <td>3.298716e-02</td>\n",
       "      <td>2054.0</td>\n",
       "      <td>M</td>\n",
       "      <td>6.488616e-02</td>\n",
       "      <td>ns</td>\n",
       "    </tr>\n",
       "  </tbody>\n",
       "</table>\n",
       "</div>"
      ],
      "text/plain": [
       "        comparison   Chr2                                      coef         t  \\\n",
       "0   Male vs Female  False    0.5341573428649018±0.11568208378795464  4.617460   \n",
       "1   Male vs Female   True  0.010578871170580928±0.15062260749815748  0.070234   \n",
       "2  Stim vs Control    NaN    0.7903582077295128±0.14288181639751613  5.531552   \n",
       "3  Stim vs Control    NaN    0.2667797360351908±0.12511714887262215  2.132240   \n",
       "\n",
       "                CI       p-value      df  sex  Corrected p-value Significance  \n",
       "0   0.3074, 0.7609  3.884664e-06  1874.0  NaN       1.165395e-05         ****  \n",
       "1  -0.2846, 0.3058  9.440072e-01  1556.0  NaN       9.440072e-01           ns  \n",
       "2   0.5103, 1.0704  3.174096e-08  1376.0    F       1.269638e-07         ****  \n",
       "3    0.0216, 0.512  3.298716e-02  2054.0    M       6.488616e-02           ns  "
      ]
     },
     "metadata": {},
     "output_type": "display_data"
    },
    {
     "data": {
      "image/png": "[encoded data removed]",
      "text/plain": [
       "<Figure size 640x480 with 1 Axes>"
      ]
     },
     "metadata": {},
     "output_type": "display_data"
    }
   ],
   "source": [
    "model = smf.glm('pref ~ 1 +  C(sex)*C(Chr2)', data = gb, freq_weights = gb.tot, family = sm.families.Binomial()).fit()\n",
    "sm.qqplot(model.resid_deviance, fit=True, line='45');\n",
    "pref_anova['Significance'] = pref_anova['Pr(>Chi)'].apply(check_significance)\n",
    "pref_sex_diff_stats['Significance'] = pref_sex_diff_stats['Corrected p-value'].apply(check_significance)\n",
    "\n",
    "display(pref_anova, pref_sex_diff_stats)\n",
    "\n",
    "fig2_stats.update({'f_pref_sex_diff_anova': pref_anova,\n",
    "                   'f_pref_sex_diff_stats': pref_sex_diff_stats})"
   ]
  },
  {
   "cell_type": "markdown",
   "metadata": {
    "tags": []
   },
   "source": [
    "##### stats - food intake"
   ]
  },
  {
   "cell_type": "code",
   "execution_count": 39,
   "metadata": {},
   "outputs": [
    {
     "data": {
      "text/html": [
       "<div>\n",
       "<style scoped>\n",
       "    .dataframe tbody tr th:only-of-type {\n",
       "        vertical-align: middle;\n",
       "    }\n",
       "\n",
       "    .dataframe tbody tr th {\n",
       "        vertical-align: top;\n",
       "    }\n",
       "\n",
       "    .dataframe thead th {\n",
       "        text-align: right;\n",
       "    }\n",
       "</style>\n",
       "<table border=\"1\" class=\"dataframe\">\n",
       "  <thead>\n",
       "    <tr style=\"text-align: right;\">\n",
       "      <th></th>\n",
       "      <th>t</th>\n",
       "      <th>p-value</th>\n",
       "      <th>df</th>\n",
       "      <th>Significance</th>\n",
       "    </tr>\n",
       "  </thead>\n",
       "  <tbody>\n",
       "    <tr>\n",
       "      <th>ttest</th>\n",
       "      <td>-0.576689</td>\n",
       "      <td>0.576951</td>\n",
       "      <td>12.0</td>\n",
       "      <td>ns</td>\n",
       "    </tr>\n",
       "  </tbody>\n",
       "</table>\n",
       "</div>"
      ],
      "text/plain": [
       "              t   p-value    df Significance\n",
       "ttest -0.576689  0.576951  12.0           ns"
      ]
     },
     "metadata": {},
     "output_type": "display_data"
    }
   ],
   "source": [
    "fint_sex_diff['Significance'] = fint_sex_diff['p-value'].apply(check_significance)\n",
    "display(fint_sex_diff)\n",
    "fig2_stats.update({\"g_food_intake_sex_diff\": fint_sex_diff})"
   ]
  },
  {
   "cell_type": "code",
   "execution_count": 40,
   "metadata": {},
   "outputs": [],
   "source": [
    "with pd.ExcelWriter(stat_save_loc/'figure2.xlsx') as writer:  \n",
    "    for k,v in fig2_stats.items():\n",
    "        v.to_excel(writer, sheet_name=k)"
   ]
  },
  {
   "cell_type": "markdown",
   "metadata": {
    "id": "2D2q1Y32jwiT",
    "tags": []
   },
   "source": [
    "# limited intake, food deprived"
   ]
  },
  {
   "cell_type": "markdown",
   "metadata": {
    "id": "3RQV6SvpHLov",
    "tags": []
   },
   "source": [
    "## Figure 3 - limited intake"
   ]
  },
  {
   "cell_type": "code",
   "execution_count": 41,
   "metadata": {
    "cellView": "form",
    "colab": {
     "base_uri": "https://localhost:8080/"
    },
    "executionInfo": {
     "elapsed": 134,
     "status": "ok",
     "timestamp": 1652300035658,
     "user": {
      "displayName": "Nathaniel Nyema",
      "userId": "16953574955941144316"
     },
     "user_tz": 240
    },
    "id": "p8Nd7jSHVmZj",
    "outputId": "58c93fac-2a23-4fa4-eb1b-1e38589c3eba"
   },
   "outputs": [
    {
     "name": "stdout",
     "output_type": "stream",
     "text": [
      "Controls: n =  19\n",
      "Stim: n =  18\n"
     ]
    }
   ],
   "source": [
    "print(\"Controls: n = \",df_test_g_ltd.loc[False,].index.get_level_values('mouse').unique().size)\n",
    "print(\"Stim: n = \", df_test_g_ltd.loc[True,].index.get_level_values('mouse').unique().size)"
   ]
  },
  {
   "cell_type": "markdown",
   "metadata": {
    "id": "2MfstwcsFqaO",
    "tags": []
   },
   "source": [
    "### main plots"
   ]
  },
  {
   "cell_type": "code",
   "execution_count": 42,
   "metadata": {
    "colab": {
     "base_uri": "https://localhost:8080/",
     "height": 371
    },
    "executionInfo": {
     "elapsed": 2171,
     "status": "ok",
     "timestamp": 1653617014673,
     "user": {
      "displayName": "Nathaniel Nyema",
      "userId": "16953574955941144316"
     },
     "user_tz": 240
    },
    "id": "ak5sdbeCU009",
    "outputId": "e4489221-895f-484d-b05b-5100d95622cf"
   },
   "outputs": [
    {
     "data": {
      "image/png": "[encoded data removed]",
      "text/plain": [
       "<Figure size 900x375 with 4 Axes>"
      ]
     },
     "metadata": {},
     "output_type": "display_data"
    }
   ],
   "source": [
    "# create subplot\n",
    "fig, ax = plt.subplots(1,4, figsize=(9,3.75))\n",
    "\n",
    "\n",
    "# get cummulative training licks for stim and control mice\n",
    "cumm = df_train_g_ltd.total_licks.groupby(['Chr2','mouse','CS']).sum()\n",
    "sg = cumm.loc[True,].to_frame()\n",
    "cg =  cumm.loc[False,].to_frame()\n",
    "\n",
    "# get the average stim and control testing licks for CS+ vs CS- flavors\n",
    "ltd_stim = average_test_data(df_test_g_ltd, Chr2=True)\n",
    "ltd_ctl = average_test_data(df_test_g_ltd, Chr2=False)\n",
    "_, stats_g_cumm_ltd= two_bottle_plot(sg,cg, ax = ax[0], ms=2, lw=1)\n",
    "\n",
    "#reformat legends\n",
    "ax[0].legend(ax[0].get_legend().legendHandles, ['CS -', 'CS +'], \n",
    "             loc = 'lower left', bbox_to_anchor = (0,1.1), frameon=False)\n",
    "\n",
    "# label axes and add titles\n",
    "ax[0].set_ylabel(\"Cummulative Training Licks\", fontsize = 8)\n",
    "\n",
    "# plot average CS+ and CS- testing licks for stim and control mice\n",
    "_, stats_g_ltd = two_bottle_plot(ltd_stim, ltd_ctl, ax=ax[1], ms=2, lw=1);\n",
    "\n",
    "# plot total licks\n",
    "_, stats_cumm_ltd_g = cumm_test_licks_plot(df_test_g_ltd.loc[True,],df_test_g_ltd.loc[False,],\n",
    "                     palette = [stim_col, ctl_col], ax = ax[2], ms=2)\n",
    "\n",
    "# plot cummulative pref index for stim vs control\n",
    "_, _, p_pref_ltd = two_bottle_pref_plot_vl(df_test_g_ltd.loc[True,], df_test_g_ltd.loc[False,] , \n",
    "                                        ax=ax[3], palette = [stim_col, ctl_col], ms=2);\n",
    "\n",
    "# remove legends\n",
    "ax[1].get_legend().remove()\n",
    "\n",
    "for i in ax.flatten():\n",
    "    for j in i.get_yticklabels() :\n",
    "        j.set_fontsize(6)\n",
    "\n",
    "# format plots\n",
    "fig.tight_layout(pad=3.)\n",
    "fig.savefig(fig_save_loc/'pdfs'/'fig3_ltd.pdf', transparent=True, bbox_inches='tight')\n",
    "fig.savefig(fig_save_loc/'svgs'/'fig3_ltd.svg', transparent=True, bbox_inches='tight')"
   ]
  },
  {
   "cell_type": "markdown",
   "metadata": {
    "id": "3k6Rb0FqYHJ9",
    "tags": []
   },
   "source": [
    "#### stats"
   ]
  },
  {
   "cell_type": "code",
   "execution_count": 43,
   "metadata": {},
   "outputs": [],
   "source": [
    "fig3_stats = {}"
   ]
  },
  {
   "cell_type": "markdown",
   "metadata": {
    "tags": []
   },
   "source": [
    "##### stats - glucose limited intake cummulative training licks"
   ]
  },
  {
   "cell_type": "code",
   "execution_count": 44,
   "metadata": {},
   "outputs": [
    {
     "data": {
      "text/html": [
       "<div>\n",
       "<style scoped>\n",
       "    .dataframe tbody tr th:only-of-type {\n",
       "        vertical-align: middle;\n",
       "    }\n",
       "\n",
       "    .dataframe tbody tr th {\n",
       "        vertical-align: top;\n",
       "    }\n",
       "\n",
       "    .dataframe thead th {\n",
       "        text-align: right;\n",
       "    }\n",
       "</style>\n",
       "<table border=\"1\" class=\"dataframe\">\n",
       "  <thead>\n",
       "    <tr style=\"text-align: right;\">\n",
       "      <th></th>\n",
       "      <th></th>\n",
       "      <th>statistic</th>\n",
       "      <th>p-value</th>\n",
       "    </tr>\n",
       "    <tr>\n",
       "      <th>Chr2</th>\n",
       "      <th>CS</th>\n",
       "      <th></th>\n",
       "      <th></th>\n",
       "    </tr>\n",
       "  </thead>\n",
       "  <tbody>\n",
       "    <tr>\n",
       "      <th rowspan=\"2\" valign=\"top\">False</th>\n",
       "      <th>+</th>\n",
       "      <td>0.902805</td>\n",
       "      <td>0.054698</td>\n",
       "    </tr>\n",
       "    <tr>\n",
       "      <th>-</th>\n",
       "      <td>0.864988</td>\n",
       "      <td>0.011878</td>\n",
       "    </tr>\n",
       "    <tr>\n",
       "      <th rowspan=\"2\" valign=\"top\">True</th>\n",
       "      <th>+</th>\n",
       "      <td>0.778797</td>\n",
       "      <td>0.000774</td>\n",
       "    </tr>\n",
       "    <tr>\n",
       "      <th>-</th>\n",
       "      <td>0.739652</td>\n",
       "      <td>0.000240</td>\n",
       "    </tr>\n",
       "  </tbody>\n",
       "</table>\n",
       "</div>"
      ],
      "text/plain": [
       "          statistic   p-value\n",
       "Chr2  CS                     \n",
       "False +    0.902805  0.054698\n",
       "      -    0.864988  0.011878\n",
       "True  +    0.778797  0.000774\n",
       "      -    0.739652  0.000240"
      ]
     },
     "metadata": {},
     "output_type": "display_data"
    },
    {
     "data": {
      "text/html": [
       "<div>\n",
       "<style scoped>\n",
       "    .dataframe tbody tr th:only-of-type {\n",
       "        vertical-align: middle;\n",
       "    }\n",
       "\n",
       "    .dataframe tbody tr th {\n",
       "        vertical-align: top;\n",
       "    }\n",
       "\n",
       "    .dataframe thead th {\n",
       "        text-align: right;\n",
       "    }\n",
       "</style>\n",
       "<table border=\"1\" class=\"dataframe\">\n",
       "  <thead>\n",
       "    <tr style=\"text-align: right;\">\n",
       "      <th></th>\n",
       "      <th>statistic</th>\n",
       "      <th>p-value</th>\n",
       "    </tr>\n",
       "    <tr>\n",
       "      <th>CS</th>\n",
       "      <th></th>\n",
       "      <th></th>\n",
       "    </tr>\n",
       "  </thead>\n",
       "  <tbody>\n",
       "    <tr>\n",
       "      <th>+</th>\n",
       "      <td>10.968709</td>\n",
       "      <td>0.002159</td>\n",
       "    </tr>\n",
       "    <tr>\n",
       "      <th>-</th>\n",
       "      <td>6.888537</td>\n",
       "      <td>0.012772</td>\n",
       "    </tr>\n",
       "  </tbody>\n",
       "</table>\n",
       "</div>"
      ],
      "text/plain": [
       "    statistic   p-value\n",
       "CS                     \n",
       "+   10.968709  0.002159\n",
       "-    6.888537  0.012772"
      ]
     },
     "metadata": {},
     "output_type": "display_data"
    },
    {
     "data": {
      "text/html": [
       "<div>\n",
       "<style scoped>\n",
       "    .dataframe tbody tr th:only-of-type {\n",
       "        vertical-align: middle;\n",
       "    }\n",
       "\n",
       "    .dataframe tbody tr th {\n",
       "        vertical-align: top;\n",
       "    }\n",
       "\n",
       "    .dataframe thead th {\n",
       "        text-align: right;\n",
       "    }\n",
       "</style>\n",
       "<table border=\"1\" class=\"dataframe\">\n",
       "  <thead>\n",
       "    <tr style=\"text-align: right;\">\n",
       "      <th></th>\n",
       "      <th>Source</th>\n",
       "      <th>SS</th>\n",
       "      <th>DF1</th>\n",
       "      <th>DF2</th>\n",
       "      <th>MS</th>\n",
       "      <th>F</th>\n",
       "      <th>p-value</th>\n",
       "      <th>np2</th>\n",
       "      <th>eps</th>\n",
       "      <th>Significance</th>\n",
       "    </tr>\n",
       "  </thead>\n",
       "  <tbody>\n",
       "    <tr>\n",
       "      <th>0</th>\n",
       "      <td>Chr2</td>\n",
       "      <td>4.648849e+05</td>\n",
       "      <td>1</td>\n",
       "      <td>35</td>\n",
       "      <td>4.648849e+05</td>\n",
       "      <td>0.261849</td>\n",
       "      <td>0.612066</td>\n",
       "      <td>0.007426</td>\n",
       "      <td>NaN</td>\n",
       "      <td>ns</td>\n",
       "    </tr>\n",
       "    <tr>\n",
       "      <th>1</th>\n",
       "      <td>CS</td>\n",
       "      <td>3.573245e+06</td>\n",
       "      <td>1</td>\n",
       "      <td>35</td>\n",
       "      <td>3.573245e+06</td>\n",
       "      <td>30.051644</td>\n",
       "      <td>0.000004</td>\n",
       "      <td>0.461966</td>\n",
       "      <td>1.0</td>\n",
       "      <td>****</td>\n",
       "    </tr>\n",
       "    <tr>\n",
       "      <th>2</th>\n",
       "      <td>Interaction</td>\n",
       "      <td>9.869608e+04</td>\n",
       "      <td>1</td>\n",
       "      <td>35</td>\n",
       "      <td>9.869608e+04</td>\n",
       "      <td>0.830052</td>\n",
       "      <td>0.368490</td>\n",
       "      <td>0.023166</td>\n",
       "      <td>NaN</td>\n",
       "      <td>ns</td>\n",
       "    </tr>\n",
       "  </tbody>\n",
       "</table>\n",
       "</div>"
      ],
      "text/plain": [
       "        Source            SS  DF1  DF2            MS          F   p-value  \\\n",
       "0         Chr2  4.648849e+05    1   35  4.648849e+05   0.261849  0.612066   \n",
       "1           CS  3.573245e+06    1   35  3.573245e+06  30.051644  0.000004   \n",
       "2  Interaction  9.869608e+04    1   35  9.869608e+04   0.830052  0.368490   \n",
       "\n",
       "        np2  eps Significance  \n",
       "0  0.007426  NaN           ns  \n",
       "1  0.461966  1.0         ****  \n",
       "2  0.023166  NaN           ns  "
      ]
     },
     "metadata": {},
     "output_type": "display_data"
    },
    {
     "data": {
      "text/html": [
       "<div>\n",
       "<style scoped>\n",
       "    .dataframe tbody tr th:only-of-type {\n",
       "        vertical-align: middle;\n",
       "    }\n",
       "\n",
       "    .dataframe tbody tr th {\n",
       "        vertical-align: top;\n",
       "    }\n",
       "\n",
       "    .dataframe thead th {\n",
       "        text-align: right;\n",
       "    }\n",
       "</style>\n",
       "<table border=\"1\" class=\"dataframe\">\n",
       "  <thead>\n",
       "    <tr style=\"text-align: right;\">\n",
       "      <th></th>\n",
       "      <th>t</th>\n",
       "      <th>p-value</th>\n",
       "      <th>Corrected p-value</th>\n",
       "      <th>df</th>\n",
       "      <th>paired</th>\n",
       "      <th>Significance</th>\n",
       "    </tr>\n",
       "  </thead>\n",
       "  <tbody>\n",
       "    <tr>\n",
       "      <th>CS+ vs. CS- $AgRP^{Chr2}$</th>\n",
       "      <td>3.715698</td>\n",
       "      <td>0.001718</td>\n",
       "      <td>0.005146</td>\n",
       "      <td>17</td>\n",
       "      <td>True</td>\n",
       "      <td>**</td>\n",
       "    </tr>\n",
       "    <tr>\n",
       "      <th>CS+ vs. CS- $AgRP^{TdTomato}$</th>\n",
       "      <td>4.071045</td>\n",
       "      <td>0.000717</td>\n",
       "      <td>0.002865</td>\n",
       "      <td>18</td>\n",
       "      <td>True</td>\n",
       "      <td>**</td>\n",
       "    </tr>\n",
       "    <tr>\n",
       "      <th>CS+ $AgRP^{Chr2}$ vs. CS+ $AgRP^{TdTomato}$</th>\n",
       "      <td>-0.638570</td>\n",
       "      <td>0.529097</td>\n",
       "      <td>0.778251</td>\n",
       "      <td>35</td>\n",
       "      <td>False</td>\n",
       "      <td>ns</td>\n",
       "    </tr>\n",
       "    <tr>\n",
       "      <th>CS- $AgRP^{Chr2}$ vs. CS- $AgRP^{TdTomato}$</th>\n",
       "      <td>-0.334715</td>\n",
       "      <td>0.740843</td>\n",
       "      <td>0.778251</td>\n",
       "      <td>35</td>\n",
       "      <td>False</td>\n",
       "      <td>ns</td>\n",
       "    </tr>\n",
       "  </tbody>\n",
       "</table>\n",
       "</div>"
      ],
      "text/plain": [
       "                                                    t   p-value  \\\n",
       "CS+ vs. CS- $AgRP^{Chr2}$                    3.715698  0.001718   \n",
       "CS+ vs. CS- $AgRP^{TdTomato}$                4.071045  0.000717   \n",
       "CS+ $AgRP^{Chr2}$ vs. CS+ $AgRP^{TdTomato}$ -0.638570  0.529097   \n",
       "CS- $AgRP^{Chr2}$ vs. CS- $AgRP^{TdTomato}$ -0.334715  0.740843   \n",
       "\n",
       "                                             Corrected p-value  df  paired  \\\n",
       "CS+ vs. CS- $AgRP^{Chr2}$                             0.005146  17    True   \n",
       "CS+ vs. CS- $AgRP^{TdTomato}$                         0.002865  18    True   \n",
       "CS+ $AgRP^{Chr2}$ vs. CS+ $AgRP^{TdTomato}$           0.778251  35   False   \n",
       "CS- $AgRP^{Chr2}$ vs. CS- $AgRP^{TdTomato}$           0.778251  35   False   \n",
       "\n",
       "                                            Significance  \n",
       "CS+ vs. CS- $AgRP^{Chr2}$                             **  \n",
       "CS+ vs. CS- $AgRP^{TdTomato}$                         **  \n",
       "CS+ $AgRP^{Chr2}$ vs. CS+ $AgRP^{TdTomato}$           ns  \n",
       "CS- $AgRP^{Chr2}$ vs. CS- $AgRP^{TdTomato}$           ns  "
      ]
     },
     "metadata": {},
     "output_type": "display_data"
    }
   ],
   "source": [
    "df = df_train_g_ltd.groupby(['Chr2','mouse','CS']).sum(numeric_only=True).reset_index()\n",
    "shapiro = (df.groupby(['Chr2','CS'])\n",
    "             .total_licks\n",
    "             .apply(lambda x: pd.Series(st.shapiro(x), index = ('statistic', 'p-value')))\n",
    "             .unstack()\n",
    "          )\n",
    "levene  = (df.groupby('CS')\n",
    "             .apply(lambda x: pd.Series(st.levene(x.loc[x.Chr2].total_licks, \n",
    "                                                  x.loc[~x.Chr2].total_licks), \n",
    "                                        index = ('statistic', 'p-value')))\n",
    "          )\n",
    "cumm_train_anova_g_ltd = pg.mixed_anova(data = df, within = 'CS', between = 'Chr2', \n",
    "                                        dv = 'total_licks', subject = 'mouse')\n",
    "cumm_train_anova_g_ltd = cumm_train_anova_g_ltd.rename(columns = {'p-unc': 'p-value'})\n",
    "cumm_train_anova_g_ltd['Significance'] = cumm_train_anova_g_ltd['p-value'].apply(check_significance)\n",
    "stats_g_cumm_ltd = stats_g_cumm_ltd.rename(columns = {'statistic': 't', \n",
    "                                                      'pvalue': 'p-value', \n",
    "                                                      'pvalue_corr': 'Corrected p-value'})\n",
    "stats_g_cumm_ltd['Significance'] = stats_g_cumm_ltd['Corrected p-value'].apply(check_significance)\n",
    "\n",
    "display(shapiro, levene, cumm_train_anova_g_ltd, stats_g_cumm_ltd)\n",
    "fig3_stats.update({'a_cumm_train_anova_g_ltd'   : cumm_train_anova_g_ltd,\n",
    "                   'a_cumm_train_posthoc_g_ltd' : stats_g_cumm_ltd})"
   ]
  },
  {
   "cell_type": "markdown",
   "metadata": {
    "tags": []
   },
   "source": [
    "##### stats - glucose limited intake mean total licks during testing stats"
   ]
  },
  {
   "cell_type": "code",
   "execution_count": 45,
   "metadata": {},
   "outputs": [
    {
     "data": {
      "text/html": [
       "<div>\n",
       "<style scoped>\n",
       "    .dataframe tbody tr th:only-of-type {\n",
       "        vertical-align: middle;\n",
       "    }\n",
       "\n",
       "    .dataframe tbody tr th {\n",
       "        vertical-align: top;\n",
       "    }\n",
       "\n",
       "    .dataframe thead th {\n",
       "        text-align: right;\n",
       "    }\n",
       "</style>\n",
       "<table border=\"1\" class=\"dataframe\">\n",
       "  <thead>\n",
       "    <tr style=\"text-align: right;\">\n",
       "      <th></th>\n",
       "      <th></th>\n",
       "      <th>statistic</th>\n",
       "      <th>p-value</th>\n",
       "    </tr>\n",
       "    <tr>\n",
       "      <th>Chr2</th>\n",
       "      <th>CS</th>\n",
       "      <th></th>\n",
       "      <th></th>\n",
       "    </tr>\n",
       "  </thead>\n",
       "  <tbody>\n",
       "    <tr>\n",
       "      <th rowspan=\"2\" valign=\"top\">False</th>\n",
       "      <th>+</th>\n",
       "      <td>0.912920</td>\n",
       "      <td>0.083764</td>\n",
       "    </tr>\n",
       "    <tr>\n",
       "      <th>-</th>\n",
       "      <td>0.818898</td>\n",
       "      <td>0.002179</td>\n",
       "    </tr>\n",
       "    <tr>\n",
       "      <th rowspan=\"2\" valign=\"top\">True</th>\n",
       "      <th>+</th>\n",
       "      <td>0.880429</td>\n",
       "      <td>0.026541</td>\n",
       "    </tr>\n",
       "    <tr>\n",
       "      <th>-</th>\n",
       "      <td>0.949447</td>\n",
       "      <td>0.416411</td>\n",
       "    </tr>\n",
       "  </tbody>\n",
       "</table>\n",
       "</div>"
      ],
      "text/plain": [
       "          statistic   p-value\n",
       "Chr2  CS                     \n",
       "False +    0.912920  0.083764\n",
       "      -    0.818898  0.002179\n",
       "True  +    0.880429  0.026541\n",
       "      -    0.949447  0.416411"
      ]
     },
     "metadata": {},
     "output_type": "display_data"
    },
    {
     "data": {
      "text/html": [
       "<div>\n",
       "<style scoped>\n",
       "    .dataframe tbody tr th:only-of-type {\n",
       "        vertical-align: middle;\n",
       "    }\n",
       "\n",
       "    .dataframe tbody tr th {\n",
       "        vertical-align: top;\n",
       "    }\n",
       "\n",
       "    .dataframe thead th {\n",
       "        text-align: right;\n",
       "    }\n",
       "</style>\n",
       "<table border=\"1\" class=\"dataframe\">\n",
       "  <thead>\n",
       "    <tr style=\"text-align: right;\">\n",
       "      <th></th>\n",
       "      <th>statistic</th>\n",
       "      <th>p-value</th>\n",
       "    </tr>\n",
       "    <tr>\n",
       "      <th>CS</th>\n",
       "      <th></th>\n",
       "      <th></th>\n",
       "    </tr>\n",
       "  </thead>\n",
       "  <tbody>\n",
       "    <tr>\n",
       "      <th>+</th>\n",
       "      <td>1.892540</td>\n",
       "      <td>0.177656</td>\n",
       "    </tr>\n",
       "    <tr>\n",
       "      <th>-</th>\n",
       "      <td>1.221046</td>\n",
       "      <td>0.276694</td>\n",
       "    </tr>\n",
       "  </tbody>\n",
       "</table>\n",
       "</div>"
      ],
      "text/plain": [
       "    statistic   p-value\n",
       "CS                     \n",
       "+    1.892540  0.177656\n",
       "-    1.221046  0.276694"
      ]
     },
     "metadata": {},
     "output_type": "display_data"
    },
    {
     "data": {
      "text/html": [
       "<div>\n",
       "<style scoped>\n",
       "    .dataframe tbody tr th:only-of-type {\n",
       "        vertical-align: middle;\n",
       "    }\n",
       "\n",
       "    .dataframe tbody tr th {\n",
       "        vertical-align: top;\n",
       "    }\n",
       "\n",
       "    .dataframe thead th {\n",
       "        text-align: right;\n",
       "    }\n",
       "</style>\n",
       "<table border=\"1\" class=\"dataframe\">\n",
       "  <thead>\n",
       "    <tr style=\"text-align: right;\">\n",
       "      <th></th>\n",
       "      <th>Source</th>\n",
       "      <th>SS</th>\n",
       "      <th>DF1</th>\n",
       "      <th>DF2</th>\n",
       "      <th>MS</th>\n",
       "      <th>F</th>\n",
       "      <th>p-value</th>\n",
       "      <th>np2</th>\n",
       "      <th>eps</th>\n",
       "      <th>Significance</th>\n",
       "    </tr>\n",
       "  </thead>\n",
       "  <tbody>\n",
       "    <tr>\n",
       "      <th>0</th>\n",
       "      <td>Chr2</td>\n",
       "      <td>3.576368e+02</td>\n",
       "      <td>1</td>\n",
       "      <td>35</td>\n",
       "      <td>3.576368e+02</td>\n",
       "      <td>0.001959</td>\n",
       "      <td>0.964951</td>\n",
       "      <td>0.000056</td>\n",
       "      <td>NaN</td>\n",
       "      <td>ns</td>\n",
       "    </tr>\n",
       "    <tr>\n",
       "      <th>1</th>\n",
       "      <td>CS</td>\n",
       "      <td>8.110824e+06</td>\n",
       "      <td>1</td>\n",
       "      <td>35</td>\n",
       "      <td>8.110824e+06</td>\n",
       "      <td>32.727068</td>\n",
       "      <td>0.000002</td>\n",
       "      <td>0.483220</td>\n",
       "      <td>1.0</td>\n",
       "      <td>****</td>\n",
       "    </tr>\n",
       "    <tr>\n",
       "      <th>2</th>\n",
       "      <td>Interaction</td>\n",
       "      <td>6.215563e+04</td>\n",
       "      <td>1</td>\n",
       "      <td>35</td>\n",
       "      <td>6.215563e+04</td>\n",
       "      <td>0.250797</td>\n",
       "      <td>0.619649</td>\n",
       "      <td>0.007115</td>\n",
       "      <td>NaN</td>\n",
       "      <td>ns</td>\n",
       "    </tr>\n",
       "  </tbody>\n",
       "</table>\n",
       "</div>"
      ],
      "text/plain": [
       "        Source            SS  DF1  DF2            MS          F   p-value  \\\n",
       "0         Chr2  3.576368e+02    1   35  3.576368e+02   0.001959  0.964951   \n",
       "1           CS  8.110824e+06    1   35  8.110824e+06  32.727068  0.000002   \n",
       "2  Interaction  6.215563e+04    1   35  6.215563e+04   0.250797  0.619649   \n",
       "\n",
       "        np2  eps Significance  \n",
       "0  0.000056  NaN           ns  \n",
       "1  0.483220  1.0         ****  \n",
       "2  0.007115  NaN           ns  "
      ]
     },
     "metadata": {},
     "output_type": "display_data"
    },
    {
     "data": {
      "text/html": [
       "<div>\n",
       "<style scoped>\n",
       "    .dataframe tbody tr th:only-of-type {\n",
       "        vertical-align: middle;\n",
       "    }\n",
       "\n",
       "    .dataframe tbody tr th {\n",
       "        vertical-align: top;\n",
       "    }\n",
       "\n",
       "    .dataframe thead th {\n",
       "        text-align: right;\n",
       "    }\n",
       "</style>\n",
       "<table border=\"1\" class=\"dataframe\">\n",
       "  <thead>\n",
       "    <tr style=\"text-align: right;\">\n",
       "      <th></th>\n",
       "      <th>t</th>\n",
       "      <th>p-value</th>\n",
       "      <th>Corrected p-value</th>\n",
       "      <th>df</th>\n",
       "      <th>paired</th>\n",
       "      <th>Significance</th>\n",
       "    </tr>\n",
       "  </thead>\n",
       "  <tbody>\n",
       "    <tr>\n",
       "      <th>CS+ vs. CS- $AgRP^{Chr2}$</th>\n",
       "      <td>4.710151</td>\n",
       "      <td>0.000202</td>\n",
       "      <td>0.000807</td>\n",
       "      <td>17</td>\n",
       "      <td>True</td>\n",
       "      <td>***</td>\n",
       "    </tr>\n",
       "    <tr>\n",
       "      <th>CS+ vs. CS- $AgRP^{TdTomato}$</th>\n",
       "      <td>3.782804</td>\n",
       "      <td>0.001363</td>\n",
       "      <td>0.004082</td>\n",
       "      <td>18</td>\n",
       "      <td>True</td>\n",
       "      <td>**</td>\n",
       "    </tr>\n",
       "    <tr>\n",
       "      <th>CS+ $AgRP^{Chr2}$ vs. CS+ $AgRP^{TdTomato}$</th>\n",
       "      <td>-0.268991</td>\n",
       "      <td>0.789785</td>\n",
       "      <td>0.789785</td>\n",
       "      <td>35</td>\n",
       "      <td>False</td>\n",
       "      <td>ns</td>\n",
       "    </tr>\n",
       "    <tr>\n",
       "      <th>CS- $AgRP^{Chr2}$ vs. CS- $AgRP^{TdTomato}$</th>\n",
       "      <td>0.813413</td>\n",
       "      <td>0.421638</td>\n",
       "      <td>0.665497</td>\n",
       "      <td>35</td>\n",
       "      <td>False</td>\n",
       "      <td>ns</td>\n",
       "    </tr>\n",
       "  </tbody>\n",
       "</table>\n",
       "</div>"
      ],
      "text/plain": [
       "                                                    t   p-value  \\\n",
       "CS+ vs. CS- $AgRP^{Chr2}$                    4.710151  0.000202   \n",
       "CS+ vs. CS- $AgRP^{TdTomato}$                3.782804  0.001363   \n",
       "CS+ $AgRP^{Chr2}$ vs. CS+ $AgRP^{TdTomato}$ -0.268991  0.789785   \n",
       "CS- $AgRP^{Chr2}$ vs. CS- $AgRP^{TdTomato}$  0.813413  0.421638   \n",
       "\n",
       "                                             Corrected p-value  df  paired  \\\n",
       "CS+ vs. CS- $AgRP^{Chr2}$                             0.000807  17    True   \n",
       "CS+ vs. CS- $AgRP^{TdTomato}$                         0.004082  18    True   \n",
       "CS+ $AgRP^{Chr2}$ vs. CS+ $AgRP^{TdTomato}$           0.789785  35   False   \n",
       "CS- $AgRP^{Chr2}$ vs. CS- $AgRP^{TdTomato}$           0.665497  35   False   \n",
       "\n",
       "                                            Significance  \n",
       "CS+ vs. CS- $AgRP^{Chr2}$                            ***  \n",
       "CS+ vs. CS- $AgRP^{TdTomato}$                         **  \n",
       "CS+ $AgRP^{Chr2}$ vs. CS+ $AgRP^{TdTomato}$           ns  \n",
       "CS- $AgRP^{Chr2}$ vs. CS- $AgRP^{TdTomato}$           ns  "
      ]
     },
     "metadata": {},
     "output_type": "display_data"
    }
   ],
   "source": [
    "df = df_test_g_ltd.groupby(['Chr2','mouse','CS']).mean(numeric_only=True).reset_index()\n",
    "shapiro = (df.groupby(['Chr2','CS'])\n",
    "             .total_licks\n",
    "             .apply(lambda x: pd.Series(st.shapiro(x), index = ('statistic', 'p-value')))\n",
    "             .unstack()\n",
    "          )\n",
    "levene  = (df.groupby('CS')\n",
    "             .apply(lambda x: pd.Series(st.levene(x.loc[x.Chr2].total_licks, x.loc[~x.Chr2].total_licks), index = ('statistic', 'p-value')))\n",
    "          )\n",
    "test_anova_g_ltd = pg.mixed_anova(data = df, within = 'CS', between = 'Chr2',\n",
    "                                  dv = 'total_licks', subject = 'mouse')\n",
    "test_anova_g_ltd = test_anova_g_ltd.rename(columns = {'p-unc': 'p-value'})\n",
    "test_anova_g_ltd['Significance'] = test_anova_g_ltd['p-value'].apply(check_significance)\n",
    "stats_g_ltd = stats_g_ltd.rename(columns = {'statistic': 't', \n",
    "                                            'pvalue': 'p-value', \n",
    "                                            'pvalue_corr': 'Corrected p-value'})\n",
    "stats_g_ltd['Significance'] = stats_g_ltd['Corrected p-value'].apply(check_significance)\n",
    "\n",
    "display(shapiro, levene, test_anova_g_ltd, stats_g_ltd)\n",
    "fig3_stats.update({'b_test_anova_g_ltd'   : test_anova_g_ltd,\n",
    "                   'b_test_posthoc_g_ltd' : stats_g_ltd})"
   ]
  },
  {
   "cell_type": "markdown",
   "metadata": {
    "tags": []
   },
   "source": [
    "##### stats - limited intake cummulative testing licks"
   ]
  },
  {
   "cell_type": "code",
   "execution_count": 46,
   "metadata": {},
   "outputs": [
    {
     "name": "stdout",
     "output_type": "stream",
     "text": [
      "glucose\n"
     ]
    },
    {
     "data": {
      "text/html": [
       "<div>\n",
       "<style scoped>\n",
       "    .dataframe tbody tr th:only-of-type {\n",
       "        vertical-align: middle;\n",
       "    }\n",
       "\n",
       "    .dataframe tbody tr th {\n",
       "        vertical-align: top;\n",
       "    }\n",
       "\n",
       "    .dataframe thead th {\n",
       "        text-align: right;\n",
       "    }\n",
       "</style>\n",
       "<table border=\"1\" class=\"dataframe\">\n",
       "  <thead>\n",
       "    <tr style=\"text-align: right;\">\n",
       "      <th></th>\n",
       "      <th>t</th>\n",
       "      <th>df</th>\n",
       "      <th>p-value</th>\n",
       "      <th>Significance</th>\n",
       "    </tr>\n",
       "  </thead>\n",
       "  <tbody>\n",
       "    <tr>\n",
       "      <th>ttest</th>\n",
       "      <td>0.044725</td>\n",
       "      <td>35</td>\n",
       "      <td>0.964608</td>\n",
       "      <td>ns</td>\n",
       "    </tr>\n",
       "  </tbody>\n",
       "</table>\n",
       "</div>"
      ],
      "text/plain": [
       "              t  df   p-value Significance\n",
       "ttest  0.044725  35  0.964608           ns"
      ]
     },
     "metadata": {},
     "output_type": "display_data"
    }
   ],
   "source": [
    "res_g = pd.DataFrame({\"t\": [stats_cumm_ltd_g[0]], \n",
    "                      \"df\": [stats_cumm_ltd_g[2]],\n",
    "                      \"p-value\": [stats_cumm_ltd_g[1]], \n",
    "                      \"Significance\": check_significance(stats_cumm_ltd_g[1])\n",
    "                     }, index = ['ttest'])\n",
    "\n",
    "print(\"glucose\")\n",
    "display(res_g)\n",
    "\n",
    "fig3_stats.update({\"c_ttest_stim_v_ctl_tot_g_ltd\": res_g})"
   ]
  },
  {
   "cell_type": "markdown",
   "metadata": {
    "tags": []
   },
   "source": [
    "##### stats - stim v control pref comparison"
   ]
  },
  {
   "cell_type": "code",
   "execution_count": 47,
   "metadata": {},
   "outputs": [
    {
     "name": "stdout",
     "output_type": "stream",
     "text": [
      "glucose\n"
     ]
    },
    {
     "data": {
      "text/html": [
       "<div>\n",
       "<style scoped>\n",
       "    .dataframe tbody tr th:only-of-type {\n",
       "        vertical-align: middle;\n",
       "    }\n",
       "\n",
       "    .dataframe tbody tr th {\n",
       "        vertical-align: top;\n",
       "    }\n",
       "\n",
       "    .dataframe thead th {\n",
       "        text-align: right;\n",
       "    }\n",
       "</style>\n",
       "<table border=\"1\" class=\"dataframe\">\n",
       "  <thead>\n",
       "    <tr style=\"text-align: right;\">\n",
       "      <th></th>\n",
       "      <th>U</th>\n",
       "      <th>p-value</th>\n",
       "      <th>Significance</th>\n",
       "    </tr>\n",
       "  </thead>\n",
       "  <tbody>\n",
       "    <tr>\n",
       "      <th>mann whitney u test</th>\n",
       "      <td>178.0</td>\n",
       "      <td>0.843425</td>\n",
       "      <td>ns</td>\n",
       "    </tr>\n",
       "  </tbody>\n",
       "</table>\n",
       "</div>"
      ],
      "text/plain": [
       "                         U   p-value Significance\n",
       "mann whitney u test  178.0  0.843425           ns"
      ]
     },
     "metadata": {},
     "output_type": "display_data"
    }
   ],
   "source": [
    "res_g = pd.DataFrame({\"U\": [p_pref_ltd[0]], \n",
    "                      \"p-value\": [p_pref_ltd[1]],\n",
    "                      \"Significance\": check_significance(p_pref_ltd[1])\n",
    "                     }, index = ['mann whitney u test'])\n",
    "print(\"glucose\")\n",
    "display(res_g)\n",
    "\n",
    "fig3_stats.update({\"d_rsum_stim_v_ctl_pref_g_ltd\": res_g})"
   ]
  },
  {
   "cell_type": "markdown",
   "metadata": {
    "id": "Wjinw3x1miJ6",
    "tags": []
   },
   "source": [
    "### sex differences"
   ]
  },
  {
   "cell_type": "code",
   "execution_count": 48,
   "metadata": {},
   "outputs": [
    {
     "data": {
      "image/png": "[encoded data removed]",
      "text/plain": [
       "<Figure size 750x375 with 2 Axes>"
      ]
     },
     "metadata": {},
     "output_type": "display_data"
    }
   ],
   "source": [
    "#get burst numbers for burst preference indices\n",
    "bn_ltd = lick_microstructure(dft_test_g_ltd, 60)[1]\n",
    "\n",
    "#get preferences\n",
    "pref_ltd =  bn_ltd.groupby(['Chr2', 'sex', 'mouse', 'CS']).burst_num.sum().unstack('CS')\n",
    "pref_ltd =  pd.concat({'tot': pref_ltd.sum(axis=1), 'pref': pref_ltd['+']/pref_ltd.sum(axis=1)}, axis=1).reset_index()\n",
    "\n",
    "fig, ax = plt.subplots(1,2, figsize = (7.5,3.75))\n",
    "\n",
    "_, test_sex_diff_ltd_stats = plot_sex_diff(pref_ltd, 'tot', ax=ax[0], palette = [ctl_col, stim_col], ylabel='Cummulative Testing Lick Bursts')\n",
    "ax[0].set_xlim(-.5, 1.5)\n",
    "_, pref_sex_diff_ltd_stats = plot_sex_diff_pref(pref_ltd, ax=ax[1], palette = [ctl_col, stim_col] )\n",
    "\n",
    "sns.despine()\n",
    "for i in ax.flatten():\n",
    "    for j in i.get_yticklabels() :\n",
    "            j.set_fontsize(6)\n",
    "fig.tight_layout(pad=2.)\n",
    "\n",
    "fig.savefig(fig_save_loc/'pdfs'/'supp_fig3_sex_diff_ltd_g.pdf', transparent=True, bbox_inches='tight')\n",
    "fig.savefig(fig_save_loc/'svgs'/'supp_fig3_sex_diff_ltd_g.svg', transparent=True, bbox_inches='tight')"
   ]
  },
  {
   "cell_type": "markdown",
   "metadata": {
    "tags": []
   },
   "source": [
    "#### stats"
   ]
  },
  {
   "cell_type": "markdown",
   "metadata": {
    "tags": []
   },
   "source": [
    "##### stats - total lick bursts"
   ]
  },
  {
   "cell_type": "code",
   "execution_count": 49,
   "metadata": {},
   "outputs": [
    {
     "data": {
      "text/html": [
       "<div>\n",
       "<style scoped>\n",
       "    .dataframe tbody tr th:only-of-type {\n",
       "        vertical-align: middle;\n",
       "    }\n",
       "\n",
       "    .dataframe tbody tr th {\n",
       "        vertical-align: top;\n",
       "    }\n",
       "\n",
       "    .dataframe thead th {\n",
       "        text-align: right;\n",
       "    }\n",
       "</style>\n",
       "<table border=\"1\" class=\"dataframe\">\n",
       "  <thead>\n",
       "    <tr style=\"text-align: right;\">\n",
       "      <th></th>\n",
       "      <th>Source</th>\n",
       "      <th>SS</th>\n",
       "      <th>DF</th>\n",
       "      <th>MS</th>\n",
       "      <th>F</th>\n",
       "      <th>p-unc</th>\n",
       "      <th>np2</th>\n",
       "      <th>Significance</th>\n",
       "    </tr>\n",
       "  </thead>\n",
       "  <tbody>\n",
       "    <tr>\n",
       "      <th>0</th>\n",
       "      <td>sex</td>\n",
       "      <td>5890.725446</td>\n",
       "      <td>1.0</td>\n",
       "      <td>5890.725446</td>\n",
       "      <td>4.480223</td>\n",
       "      <td>0.041916</td>\n",
       "      <td>0.119536</td>\n",
       "      <td>*</td>\n",
       "    </tr>\n",
       "    <tr>\n",
       "      <th>1</th>\n",
       "      <td>Chr2</td>\n",
       "      <td>9904.935972</td>\n",
       "      <td>1.0</td>\n",
       "      <td>9904.935972</td>\n",
       "      <td>7.533252</td>\n",
       "      <td>0.009723</td>\n",
       "      <td>0.185854</td>\n",
       "      <td>**</td>\n",
       "    </tr>\n",
       "    <tr>\n",
       "      <th>2</th>\n",
       "      <td>sex * Chr2</td>\n",
       "      <td>19.111396</td>\n",
       "      <td>1.0</td>\n",
       "      <td>19.111396</td>\n",
       "      <td>0.014535</td>\n",
       "      <td>0.904769</td>\n",
       "      <td>0.000440</td>\n",
       "      <td>ns</td>\n",
       "    </tr>\n",
       "    <tr>\n",
       "      <th>3</th>\n",
       "      <td>Residual</td>\n",
       "      <td>43389.344444</td>\n",
       "      <td>33.0</td>\n",
       "      <td>1314.828620</td>\n",
       "      <td>NaN</td>\n",
       "      <td>NaN</td>\n",
       "      <td>NaN</td>\n",
       "      <td>ns</td>\n",
       "    </tr>\n",
       "  </tbody>\n",
       "</table>\n",
       "</div>"
      ],
      "text/plain": [
       "       Source            SS    DF           MS         F     p-unc       np2  \\\n",
       "0         sex   5890.725446   1.0  5890.725446  4.480223  0.041916  0.119536   \n",
       "1        Chr2   9904.935972   1.0  9904.935972  7.533252  0.009723  0.185854   \n",
       "2  sex * Chr2     19.111396   1.0    19.111396  0.014535  0.904769  0.000440   \n",
       "3    Residual  43389.344444  33.0  1314.828620       NaN       NaN       NaN   \n",
       "\n",
       "  Significance  \n",
       "0            *  \n",
       "1           **  \n",
       "2           ns  \n",
       "3           ns  "
      ]
     },
     "metadata": {},
     "output_type": "display_data"
    },
    {
     "data": {
      "text/html": [
       "<div>\n",
       "<style scoped>\n",
       "    .dataframe tbody tr th:only-of-type {\n",
       "        vertical-align: middle;\n",
       "    }\n",
       "\n",
       "    .dataframe tbody tr th {\n",
       "        vertical-align: top;\n",
       "    }\n",
       "\n",
       "    .dataframe thead th {\n",
       "        text-align: right;\n",
       "    }\n",
       "</style>\n",
       "<table border=\"1\" class=\"dataframe\">\n",
       "  <thead>\n",
       "    <tr style=\"text-align: right;\">\n",
       "      <th></th>\n",
       "      <th>comparison</th>\n",
       "      <th>Chr2</th>\n",
       "      <th>t</th>\n",
       "      <th>p-value</th>\n",
       "      <th>df</th>\n",
       "      <th>sex</th>\n",
       "      <th>Corrected p-value</th>\n",
       "      <th>Significance</th>\n",
       "    </tr>\n",
       "  </thead>\n",
       "  <tbody>\n",
       "    <tr>\n",
       "      <th>0</th>\n",
       "      <td>Male vs Female</td>\n",
       "      <td>False</td>\n",
       "      <td>1.398847</td>\n",
       "      <td>0.179989</td>\n",
       "      <td>17.0</td>\n",
       "      <td>NaN</td>\n",
       "      <td>0.215536</td>\n",
       "      <td>ns</td>\n",
       "    </tr>\n",
       "    <tr>\n",
       "      <th>1</th>\n",
       "      <td>Male vs Female</td>\n",
       "      <td>True</td>\n",
       "      <td>1.699966</td>\n",
       "      <td>0.111804</td>\n",
       "      <td>16.0</td>\n",
       "      <td>NaN</td>\n",
       "      <td>0.215536</td>\n",
       "      <td>ns</td>\n",
       "    </tr>\n",
       "    <tr>\n",
       "      <th>2</th>\n",
       "      <td>Stim vs Control</td>\n",
       "      <td>NaN</td>\n",
       "      <td>-2.054684</td>\n",
       "      <td>0.058884</td>\n",
       "      <td>17.0</td>\n",
       "      <td>F</td>\n",
       "      <td>0.215536</td>\n",
       "      <td>ns</td>\n",
       "    </tr>\n",
       "    <tr>\n",
       "      <th>3</th>\n",
       "      <td>Stim vs Control</td>\n",
       "      <td>NaN</td>\n",
       "      <td>-1.895304</td>\n",
       "      <td>0.076683</td>\n",
       "      <td>16.0</td>\n",
       "      <td>M</td>\n",
       "      <td>0.215536</td>\n",
       "      <td>ns</td>\n",
       "    </tr>\n",
       "  </tbody>\n",
       "</table>\n",
       "</div>"
      ],
      "text/plain": [
       "        comparison   Chr2         t   p-value    df  sex  Corrected p-value  \\\n",
       "0   Male vs Female  False  1.398847  0.179989  17.0  NaN           0.215536   \n",
       "1   Male vs Female   True  1.699966  0.111804  16.0  NaN           0.215536   \n",
       "2  Stim vs Control    NaN -2.054684  0.058884  17.0    F           0.215536   \n",
       "3  Stim vs Control    NaN -1.895304  0.076683  16.0    M           0.215536   \n",
       "\n",
       "  Significance  \n",
       "0           ns  \n",
       "1           ns  \n",
       "2           ns  \n",
       "3           ns  "
      ]
     },
     "metadata": {},
     "output_type": "display_data"
    },
    {
     "data": {
      "image/png": "[encoded data removed]",
      "text/plain": [
       "<Figure size 640x480 with 1 Axes>"
      ]
     },
     "metadata": {},
     "output_type": "display_data"
    }
   ],
   "source": [
    "model = smf.ols('tot ~ C(sex, Sum)*C(Chr2, Sum)', data=pref_ltd).fit()\n",
    "sm.qqplot(model.resid,fit=True, line='45');\n",
    "anova_test_sex_diff_ltd = pg.anova(data = pref_ltd, dv = 'tot', between = ['sex', 'Chr2'])\n",
    "anova_test_sex_diff_ltd['Significance'] = anova_test_sex_diff_ltd['p-unc'].apply(check_significance)\n",
    "test_sex_diff_ltd_stats['Significance'] = test_sex_diff_ltd_stats['Corrected p-value'].apply(check_significance)\n",
    "\n",
    "\n",
    "display(anova_test_sex_diff_ltd,  test_sex_diff_ltd_stats)\n",
    "fig3_stats.update({'e_anova_test_licks_sex_diff_ltd': anova_test_sex_diff_ltd,\n",
    "                   'e_test_licks_sex_diff_ltd_stat': test_sex_diff_ltd_stats})"
   ]
  },
  {
   "cell_type": "markdown",
   "metadata": {
    "tags": []
   },
   "source": [
    "##### stats - burst preference index"
   ]
  },
  {
   "cell_type": "code",
   "execution_count": 50,
   "metadata": {},
   "outputs": [],
   "source": [
    "%%R -i pref_ltd -o pref_anova_ltd\n",
    "pref_anova_ltd <- anova(glm('pref ~ factor(sex)*factor(Chr2)', data = pref_ltd, family = binomial, weights = tot), test = \"Chisq\")"
   ]
  },
  {
   "cell_type": "code",
   "execution_count": 51,
   "metadata": {},
   "outputs": [
    {
     "data": {
      "text/html": [
       "<div>\n",
       "<style scoped>\n",
       "    .dataframe tbody tr th:only-of-type {\n",
       "        vertical-align: middle;\n",
       "    }\n",
       "\n",
       "    .dataframe tbody tr th {\n",
       "        vertical-align: top;\n",
       "    }\n",
       "\n",
       "    .dataframe thead th {\n",
       "        text-align: right;\n",
       "    }\n",
       "</style>\n",
       "<table border=\"1\" class=\"dataframe\">\n",
       "  <thead>\n",
       "    <tr style=\"text-align: right;\">\n",
       "      <th></th>\n",
       "      <th>Df</th>\n",
       "      <th>Deviance</th>\n",
       "      <th>Resid. Df</th>\n",
       "      <th>Resid. Dev</th>\n",
       "      <th>Pr(&gt;Chi)</th>\n",
       "      <th>Significance</th>\n",
       "    </tr>\n",
       "  </thead>\n",
       "  <tbody>\n",
       "    <tr>\n",
       "      <th>NULL</th>\n",
       "      <td>-2147483648</td>\n",
       "      <td>NaN</td>\n",
       "      <td>36</td>\n",
       "      <td>593.368925</td>\n",
       "      <td>NaN</td>\n",
       "      <td>ns</td>\n",
       "    </tr>\n",
       "    <tr>\n",
       "      <th>factor(sex)</th>\n",
       "      <td>1</td>\n",
       "      <td>10.873501</td>\n",
       "      <td>35</td>\n",
       "      <td>582.495424</td>\n",
       "      <td>0.000975</td>\n",
       "      <td>***</td>\n",
       "    </tr>\n",
       "    <tr>\n",
       "      <th>factor(Chr2)</th>\n",
       "      <td>1</td>\n",
       "      <td>0.082127</td>\n",
       "      <td>34</td>\n",
       "      <td>582.413297</td>\n",
       "      <td>0.774436</td>\n",
       "      <td>ns</td>\n",
       "    </tr>\n",
       "    <tr>\n",
       "      <th>factor(sex):factor(Chr2)</th>\n",
       "      <td>1</td>\n",
       "      <td>20.155632</td>\n",
       "      <td>33</td>\n",
       "      <td>562.257665</td>\n",
       "      <td>0.000007</td>\n",
       "      <td>****</td>\n",
       "    </tr>\n",
       "  </tbody>\n",
       "</table>\n",
       "</div>"
      ],
      "text/plain": [
       "                                  Df   Deviance  Resid. Df  Resid. Dev  \\\n",
       "NULL                     -2147483648        NaN         36  593.368925   \n",
       "factor(sex)                        1  10.873501         35  582.495424   \n",
       "factor(Chr2)                       1   0.082127         34  582.413297   \n",
       "factor(sex):factor(Chr2)           1  20.155632         33  562.257665   \n",
       "\n",
       "                          Pr(>Chi) Significance  \n",
       "NULL                           NaN           ns  \n",
       "factor(sex)               0.000975          ***  \n",
       "factor(Chr2)              0.774436           ns  \n",
       "factor(sex):factor(Chr2)  0.000007         ****  "
      ]
     },
     "metadata": {},
     "output_type": "display_data"
    },
    {
     "data": {
      "text/html": [
       "<div>\n",
       "<style scoped>\n",
       "    .dataframe tbody tr th:only-of-type {\n",
       "        vertical-align: middle;\n",
       "    }\n",
       "\n",
       "    .dataframe tbody tr th {\n",
       "        vertical-align: top;\n",
       "    }\n",
       "\n",
       "    .dataframe thead th {\n",
       "        text-align: right;\n",
       "    }\n",
       "</style>\n",
       "<table border=\"1\" class=\"dataframe\">\n",
       "  <thead>\n",
       "    <tr style=\"text-align: right;\">\n",
       "      <th></th>\n",
       "      <th>comparison</th>\n",
       "      <th>Chr2</th>\n",
       "      <th>coef</th>\n",
       "      <th>t</th>\n",
       "      <th>CI</th>\n",
       "      <th>p-value</th>\n",
       "      <th>df</th>\n",
       "      <th>sex</th>\n",
       "      <th>Corrected p-value</th>\n",
       "      <th>Significance</th>\n",
       "    </tr>\n",
       "  </thead>\n",
       "  <tbody>\n",
       "    <tr>\n",
       "      <th>0</th>\n",
       "      <td>Male vs Female</td>\n",
       "      <td>False</td>\n",
       "      <td>0.47480360070212047±0.0882843953046905</td>\n",
       "      <td>5.378115</td>\n",
       "      <td>0.3018, 0.6478</td>\n",
       "      <td>7.526988e-08</td>\n",
       "      <td>2402</td>\n",
       "      <td>NaN</td>\n",
       "      <td>3.010795e-07</td>\n",
       "      <td>****</td>\n",
       "    </tr>\n",
       "    <tr>\n",
       "      <th>1</th>\n",
       "      <td>Male vs Female</td>\n",
       "      <td>True</td>\n",
       "      <td>-0.14312920278082647±0.10612878666867749</td>\n",
       "      <td>-1.348637</td>\n",
       "      <td>-0.3511, 0.0649</td>\n",
       "      <td>1.774536e-01</td>\n",
       "      <td>1698</td>\n",
       "      <td>NaN</td>\n",
       "      <td>1.774536e-01</td>\n",
       "      <td>ns</td>\n",
       "    </tr>\n",
       "    <tr>\n",
       "      <th>2</th>\n",
       "      <td>Stim vs Control</td>\n",
       "      <td>NaN</td>\n",
       "      <td>0.348832673238926±0.10127332442526865</td>\n",
       "      <td>3.444467</td>\n",
       "      <td>0.1503, 0.5473</td>\n",
       "      <td>5.721854e-04</td>\n",
       "      <td>1880</td>\n",
       "      <td>F</td>\n",
       "      <td>1.715574e-03</td>\n",
       "      <td>**</td>\n",
       "    </tr>\n",
       "    <tr>\n",
       "      <th>3</th>\n",
       "      <td>Stim vs Control</td>\n",
       "      <td>NaN</td>\n",
       "      <td>-0.26910013024402024±0.0938145381800434</td>\n",
       "      <td>-2.868427</td>\n",
       "      <td>-0.453, -0.0852</td>\n",
       "      <td>4.125187e-03</td>\n",
       "      <td>2220</td>\n",
       "      <td>M</td>\n",
       "      <td>8.233357e-03</td>\n",
       "      <td>**</td>\n",
       "    </tr>\n",
       "  </tbody>\n",
       "</table>\n",
       "</div>"
      ],
      "text/plain": [
       "        comparison   Chr2                                      coef         t  \\\n",
       "0   Male vs Female  False    0.47480360070212047±0.0882843953046905  5.378115   \n",
       "1   Male vs Female   True  -0.14312920278082647±0.10612878666867749 -1.348637   \n",
       "2  Stim vs Control    NaN     0.348832673238926±0.10127332442526865  3.444467   \n",
       "3  Stim vs Control    NaN   -0.26910013024402024±0.0938145381800434 -2.868427   \n",
       "\n",
       "                CI       p-value    df  sex  Corrected p-value Significance  \n",
       "0   0.3018, 0.6478  7.526988e-08  2402  NaN       3.010795e-07         ****  \n",
       "1  -0.3511, 0.0649  1.774536e-01  1698  NaN       1.774536e-01           ns  \n",
       "2   0.1503, 0.5473  5.721854e-04  1880    F       1.715574e-03           **  \n",
       "3  -0.453, -0.0852  4.125187e-03  2220    M       8.233357e-03           **  "
      ]
     },
     "metadata": {},
     "output_type": "display_data"
    },
    {
     "data": {
      "image/png": "[encoded data removed]",
      "text/plain": [
       "<Figure size 640x480 with 1 Axes>"
      ]
     },
     "metadata": {},
     "output_type": "display_data"
    }
   ],
   "source": [
    "model = smf.glm('pref ~ 1 +  C(sex)*C(Chr2)', data = pref_ltd, freq_weights = pref_ltd.tot, family = sm.families.Binomial()).fit()\n",
    "sm.qqplot(model.resid_deviance, fit=True, line='45');\n",
    "pref_anova_ltd['Significance'] = pref_anova_ltd['Pr(>Chi)'].apply(check_significance)\n",
    "pref_sex_diff_ltd_stats['Significance'] = pref_sex_diff_ltd_stats['Corrected p-value'].apply(check_significance)\n",
    "\n",
    "\n",
    "display(pref_anova_ltd, pref_sex_diff_ltd_stats)\n",
    "\n",
    "fig3_stats.update({'f_pref_sex_diff_anova_ltd': pref_anova_ltd,\n",
    "                   'f_pref_sex_diff_stats_ltd': pref_sex_diff_ltd_stats})"
   ]
  },
  {
   "cell_type": "code",
   "execution_count": 52,
   "metadata": {},
   "outputs": [],
   "source": [
    "with pd.ExcelWriter(stat_save_loc/'figure3.xlsx') as writer:  \n",
    "    for k,v in fig3_stats.items():\n",
    "        v.to_excel(writer, sheet_name=k)"
   ]
  }
 ],
 "metadata": {
  "colab": {
   "authorship_tag": "ABX9TyOJYyELUs3KrOuk4R41/0v0",
   "collapsed_sections": [
    "vIdtwMQk7iYd",
    "PnRIBhhrKItn",
    "OL5HNKUGVlWg",
    "9q0Pip0y5Z9e",
    "aeTopesAJts3",
    "17SMMeYcJw0o",
    "XkCvy8SWRCNY",
    "UcqlLbHW_fHp",
    "JDe1RVHu4pD-",
    "Y-68mOrCY4BC",
    "rJVLUkkjEBpc",
    "iIlgYbLK4FHY",
    "ian3XGmMLMl1",
    "JiB0m7m_Ln61",
    "3k6Rb0FqYHJ9",
    "OZtBS42v9r0N",
    "RHTTZjjoYADq",
    "rftx3yHOeTOg",
    "iwhu6He0dz6k",
    "Wjinw3x1miJ6",
    "V9Z36Cj7DQBS",
    "7D-rDHof_oEC"
   ],
   "name": "analyses.ipynb",
   "provenance": []
  },
  "kernelspec": {
   "display_name": "fnc",
   "language": "python",
   "name": "fnc"
  },
  "language_info": {
   "codemirror_mode": {
    "name": "ipython",
    "version": 3
   },
   "file_extension": ".py",
   "mimetype": "text/x-python",
   "name": "python",
   "nbconvert_exporter": "python",
   "pygments_lexer": "ipython3",
   "version": "3.11.0"
  },
  "toc-autonumbering": false,
  "toc-showcode": false,
  "toc-showmarkdowntxt": false
 },
 "nbformat": 4,
 "nbformat_minor": 4
}
