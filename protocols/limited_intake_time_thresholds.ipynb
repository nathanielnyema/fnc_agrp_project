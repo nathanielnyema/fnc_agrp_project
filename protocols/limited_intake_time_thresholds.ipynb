{
 "cells": [
  {
   "cell_type": "code",
   "execution_count": 11,
   "metadata": {
    "cellView": "form",
    "colab": {
     "base_uri": "https://localhost:8080/"
    },
    "executionInfo": {
     "elapsed": 22419,
     "status": "ok",
     "timestamp": 1650814335531,
     "user": {
      "displayName": "Nathaniel Nyema",
      "userId": "16953574955941144316"
     },
     "user_tz": 240
    },
    "id": "To1zCgQ3Em1G",
    "outputId": "0cad9e7d-bbac-43af-e34b-8671ccba831e"
   },
   "outputs": [],
   "source": [
    "import sys\n",
    "sys.path.append(\"../analysis/behavior\")\n",
    "from fnc_analysis import *\n",
    "import os"
   ]
  },
  {
   "cell_type": "code",
   "execution_count": 13,
   "metadata": {
    "cellView": "form",
    "executionInfo": {
     "elapsed": 7851,
     "status": "ok",
     "timestamp": 1650814347290,
     "user": {
      "displayName": "Nathaniel Nyema",
      "userId": "16953574955941144316"
     },
     "user_tz": 240
    },
    "id": "ZsM20oc6EBIe"
   },
   "outputs": [],
   "source": [
    "#load tidy data and subset dataframes for later use\n",
    "\n",
    "# load tidy data and subset dataframes for later use\n",
    "data_dir = \"../data/behavior\"\n",
    "\n",
    "#load unlimited intake\n",
    "df = load_data(os.path.join(data_dir,'pre_processed/unlimited_intake/total_licks_normal_intake.csv'))\n",
    "dft = load_data(os.path.join(data_dir,'pre_processed/unlimited_intake/lick_times_normal_intake.csv'))\n",
    "\n",
    "#select glucose data\n",
    "#unlimited intake\n",
    "df_test_g = subset_df(df, 'glucose', 'test')\n",
    "dft_test_g = subset_df(dft, 'glucose', 'test')\n",
    "\n",
    "df_train_g = subset_df(df, 'glucose', 'training')\n",
    "dft_train_g = subset_df(dft, 'glucose', 'training')\n",
    "\n",
    "\n",
    "#select fat data\n",
    "#unlimited intake\n",
    "df_test_f = subset_df(df, 'fat', 'test') \n",
    "dft_test_f = subset_df(dft, 'fat', 'test') \n",
    "\n",
    "df_train_f = subset_df(df, 'fat', 'training') \n",
    "dft_train_f = subset_df(dft, 'fat', 'training') "
   ]
  },
  {
   "cell_type": "code",
   "execution_count": 16,
   "metadata": {
    "colab": {
     "base_uri": "https://localhost:8080/"
    },
    "executionInfo": {
     "elapsed": 210,
     "status": "ok",
     "timestamp": 1650814347494,
     "user": {
      "displayName": "Nathaniel Nyema",
      "userId": "16953574955941144316"
     },
     "user_tz": 240
    },
    "id": "fy5WMZicHkk3",
    "outputId": "726792b1-98d4-4ab8-d450-04715ceb8e54"
   },
   "outputs": [
    {
     "data": {
      "text/plain": [
       "day  sess\n",
       "0    0.0     7.906119\n",
       "     1.0     8.854488\n",
       "1    0.0     9.791560\n",
       "     1.0     6.731131\n",
       "2    0.0     6.334345\n",
       "     1.0     5.460476\n",
       "dtype: float64"
      ]
     },
     "execution_count": 16,
     "metadata": {},
     "output_type": "execute_result"
    }
   ],
   "source": [
    "# determine the amount of time post infusion before we need to take the controls bottles away\n",
    "# we do this by determining a lick threshold based on the normal intake controls and figuring out the \n",
    "# average time it took the normal intake stim mice to reach that threshold\n",
    "\n",
    "# get the average licks of the controls per session\n",
    "thresh = df_train_g.loc[False,].pivot_table(index=['day','sess'], values = 'total_licks').round().total_licks\n",
    "lick_times = dft_train_g.loc[True,].reset_index().set_index(['mouse','day','sess','lick_number']).time\n",
    "\n",
    "tmp = {}\n",
    "for (day,sess), th in thresh.items():\n",
    "    # for each day/sess get the time post-infusion when all stim mice reached the respective threshold\n",
    "    t = (lick_times.loc[:, day, sess, th-1] - lick_times.loc[:, day, sess, 19])/60 - 5\n",
    "    tmp.update( {(day, sess) : t } )\n",
    "    \n",
    "thresh_times = pd.concat(tmp, names = ['day','sess']).unstack(['day','sess'])\n",
    "\n",
    "# make sure we include any mice that never \n",
    "mice = lick_times.index.get_level_values('mouse').unique()\n",
    "mice = mice[~mice.isin(thresh_times.index)]\n",
    "empty_arr = np.ones((len(mice), thresh_times.columns.size))*np.nan\n",
    "empty_df = pd.DataFrame(empty_arr, index = mice, columns = thresh_times.columns)\n",
    "thresh_times = pd.concat((thresh_times, empty_df), axis =0 )\n",
    "\n",
    "# all the nan values represent sessions where a given mouse didn't reach the threshold\n",
    "# here we fill those nan values with the time from the hypothetical end of the infusion (assuming 5 min inf for limited intake)\n",
    "# to the end of the 30 min sess\n",
    "t_end = lick_times.groupby(['mouse','day','sess']).apply(lambda x: (1800 - x.loc[:,:,:,19].values[0])/60 - 5).unstack(['day','sess'])\n",
    "thresh_times.update(t_end, filter_func = pd.isnull)\n",
    "thresh_times.mean(axis=0, skipna=True)\n"
   ]
  },
  {
   "cell_type": "code",
   "execution_count": 19,
   "metadata": {},
   "outputs": [
    {
     "data": {
      "text/plain": [
       "7.513019841269841"
      ]
     },
     "execution_count": 19,
     "metadata": {},
     "output_type": "execute_result"
    }
   ],
   "source": [
    "thresh_times.mean(axis=0, skipna=True).mean()"
   ]
  }
 ],
 "metadata": {
  "colab": {
   "authorship_tag": "ABX9TyOt1g/+fL1NPmM95W+i29Ex",
   "name": "limited_intake_thresholds.ipynb",
   "provenance": []
  },
  "kernelspec": {
   "display_name": "Python 3 (ipykernel)",
   "language": "python",
   "name": "python3"
  },
  "language_info": {
   "codemirror_mode": {
    "name": "ipython",
    "version": 3
   },
   "file_extension": ".py",
   "mimetype": "text/x-python",
   "name": "python",
   "nbconvert_exporter": "python",
   "pygments_lexer": "ipython3",
   "version": "3.8.13"
  }
 },
 "nbformat": 4,
 "nbformat_minor": 4
}
